{
  "nbformat": 4,
  "nbformat_minor": 0,
  "metadata": {
    "colab": {
      "name": "PythonWorkshop2020Blank.ipynb",
      "provenance": [],
      "collapsed_sections": [],
      "include_colab_link": true
    },
    "kernelspec": {
      "display_name": "Python 3",
      "language": "python",
      "name": "python3"
    },
    "language_info": {
      "codemirror_mode": {
        "name": "ipython",
        "version": 3
      },
      "file_extension": ".py",
      "mimetype": "text/x-python",
      "name": "python",
      "nbconvert_exporter": "python",
      "pygments_lexer": "ipython3",
      "version": "3.7.4"
    }
  },
  "cells": [
    {
      "cell_type": "markdown",
      "metadata": {
        "id": "view-in-github",
        "colab_type": "text"
      },
      "source": [
        "<a href=\"https://colab.research.google.com/github/choinkyo/Projects/blob/master/PythonWorkshop2020Blank.ipynb\" target=\"_parent\"><img src=\"https://colab.research.google.com/assets/colab-badge.svg\" alt=\"Open In Colab\"/></a>"
      ]
    },
    {
      "cell_type": "markdown",
      "metadata": {
        "colab_type": "text",
        "id": "5I-2yXs3q5HL"
      },
      "source": [
        "## MSIS Python Workshop Winter 2020\n",
        "\n",
        "In the following examples, we will go over two omnipresent models in stat/machine learning. The purpose is to familiarize you with Python/stat/machine learning basics."
      ]
    },
    {
      "cell_type": "markdown",
      "metadata": {
        "colab_type": "text",
        "id": "p_sr0_UurLmX"
      },
      "source": [
        "## Part I: Linear Regression"
      ]
    },
    {
      "cell_type": "code",
      "metadata": {
        "colab_type": "code",
        "id": "DgaRfWi-qrQw",
        "colab": {}
      },
      "source": [
        "# import pandas using the conventional abbreviation\n",
        "import numpy as np\n",
        "import pandas as pd"
      ],
      "execution_count": 0,
      "outputs": []
    },
    {
      "cell_type": "markdown",
      "metadata": {
        "colab_type": "text",
        "id": "PAoE6td7rZP7"
      },
      "source": [
        "### Import Data\n",
        "\n",
        "We can import structured data from many sources\n",
        "\n",
        "1) Import from URL\n",
        "\n",
        "or 2) Import locally \n",
        "\n",
        "or 3) Import from Google Drive"
      ]
    },
    {
      "cell_type": "code",
      "metadata": {
        "colab_type": "code",
        "id": "V2Uh8kkyrSM6",
        "colab": {}
      },
      "source": [
        "# import the data from an online resource\n",
        "ToyotaCorolla = pd.read_csv('https://www.biz.uiowa.edu/faculty/jledolter/datamining/ToyotaCorolla.csv')\n",
        "# import locally \n",
        "# pd.read_csv('/Users/xiyuange/Downloads/ToyotaCorolla.csv')"
      ],
      "execution_count": 0,
      "outputs": []
    },
    {
      "cell_type": "markdown",
      "metadata": {
        "id": "ULjHvrg_N1ZL",
        "colab_type": "text"
      },
      "source": [
        " \n",
        "### Prediction on the sale price of a used automobile. \n",
        "\n",
        " \n",
        " Source: Ledolter (2013) Data Mingin and Business Analytics with R\n",
        "\n",
        " Description: The data set includes sale prices and vehicle characteristics \n",
        " of 1436 used Toyota Corollas.\n",
        " \n",
        "\n",
        "\n",
        " Price: Offer price in EUROs\n",
        " \n",
        " Age: Age in months as in August 2004\n",
        " \n",
        " KM: Accumulated kilometers on odometer\n",
        " \n",
        " FuelType: Fuel type (petrol, diesel, CNG)\n",
        " \n",
        " HP: Horsepower\n",
        " \n",
        " MetColor: Metallic color (Yes=1, No=0)\n",
        " \n",
        " Automatic: Automatic (Yes=1, No=0)\n",
        " \n",
        " CC: Cylinder volume in cubic centimeters\n",
        " \n",
        " Doors: Doors Number of doors\n",
        " \n",
        " Weight: Weight in kilograms"
      ]
    },
    {
      "cell_type": "markdown",
      "metadata": {
        "id": "dzpDYDWFN1ZM",
        "colab_type": "text"
      },
      "source": [
        "### Linear Regression\n",
        "\n",
        "We start with a linear model\n",
        "\n",
        "1) Specify the formula and data\n",
        "\n",
        "2) regress and output the result"
      ]
    },
    {
      "cell_type": "code",
      "metadata": {
        "id": "OrhT26WLN1ZM",
        "colab_type": "code",
        "colab": {
          "base_uri": "https://localhost:8080/",
          "height": 614
        },
        "outputId": "397af38f-5d31-485d-8455-fdc906db6441"
      },
      "source": [
        "import statsmodels.formula.api as sm\n",
        "print(ToyotaCorolla)\n",
        "result = sm.ols(formula=\"Price - Age+KM+HP+MetColor+Automatic+CC\", data=ToyotaCorolla).fit()\n",
        "print(result.summary())\n",
        "# estimate and examine the linear model here"
      ],
      "execution_count": 14,
      "outputs": [
        {
          "output_type": "stream",
          "text": [
            "      Price  Age     KM FuelType   HP  MetColor  Automatic    CC  Doors  Weight\n",
            "0     13500   23  46986   Diesel   90         1          0  2000      3    1165\n",
            "1     13750   23  72937   Diesel   90         1          0  2000      3    1165\n",
            "2     13950   24  41711   Diesel   90         1          0  2000      3    1165\n",
            "3     14950   26  48000   Diesel   90         0          0  2000      3    1165\n",
            "4     13750   30  38500   Diesel   90         0          0  2000      3    1170\n",
            "...     ...  ...    ...      ...  ...       ...        ...   ...    ...     ...\n",
            "1431   7500   69  20544   Petrol   86         1          0  1300      3    1025\n",
            "1432  10845   72  19000   Petrol   86         0          0  1300      3    1015\n",
            "1433   8500   71  17016   Petrol   86         0          0  1300      3    1015\n",
            "1434   7250   70  16916   Petrol   86         1          0  1300      3    1015\n",
            "1435   6950   76      1   Petrol  110         0          0  1600      5    1114\n",
            "\n",
            "[1436 rows x 10 columns]\n"
          ],
          "name": "stdout"
        },
        {
          "output_type": "error",
          "ename": "PatsyError",
          "evalue": "ignored",
          "traceback": [
            "\u001b[0;31m---------------------------------------------------------------------------\u001b[0m",
            "\u001b[0;31mPatsyError\u001b[0m                                Traceback (most recent call last)",
            "\u001b[0;32m<ipython-input-14-59e7f93453bd>\u001b[0m in \u001b[0;36m<module>\u001b[0;34m()\u001b[0m\n\u001b[1;32m      1\u001b[0m \u001b[0;32mimport\u001b[0m \u001b[0mstatsmodels\u001b[0m\u001b[0;34m.\u001b[0m\u001b[0mformula\u001b[0m\u001b[0;34m.\u001b[0m\u001b[0mapi\u001b[0m \u001b[0;32mas\u001b[0m \u001b[0msm\u001b[0m\u001b[0;34m\u001b[0m\u001b[0;34m\u001b[0m\u001b[0m\n\u001b[1;32m      2\u001b[0m \u001b[0mprint\u001b[0m\u001b[0;34m(\u001b[0m\u001b[0mToyotaCorolla\u001b[0m\u001b[0;34m)\u001b[0m\u001b[0;34m\u001b[0m\u001b[0;34m\u001b[0m\u001b[0m\n\u001b[0;32m----> 3\u001b[0;31m \u001b[0mresult\u001b[0m \u001b[0;34m=\u001b[0m \u001b[0msm\u001b[0m\u001b[0;34m.\u001b[0m\u001b[0mols\u001b[0m\u001b[0;34m(\u001b[0m\u001b[0mformula\u001b[0m\u001b[0;34m=\u001b[0m\u001b[0;34m\"Price - Age+KM+HP+MetColor+Automatic+CC\"\u001b[0m\u001b[0;34m,\u001b[0m \u001b[0mdata\u001b[0m\u001b[0;34m=\u001b[0m\u001b[0mToyotaCorolla\u001b[0m\u001b[0;34m)\u001b[0m\u001b[0;34m.\u001b[0m\u001b[0mfit\u001b[0m\u001b[0;34m(\u001b[0m\u001b[0;34m)\u001b[0m\u001b[0;34m\u001b[0m\u001b[0;34m\u001b[0m\u001b[0m\n\u001b[0m\u001b[1;32m      4\u001b[0m \u001b[0mprint\u001b[0m\u001b[0;34m(\u001b[0m\u001b[0mresult\u001b[0m\u001b[0;34m.\u001b[0m\u001b[0msummary\u001b[0m\u001b[0;34m(\u001b[0m\u001b[0;34m)\u001b[0m\u001b[0;34m)\u001b[0m\u001b[0;34m\u001b[0m\u001b[0;34m\u001b[0m\u001b[0m\n\u001b[1;32m      5\u001b[0m \u001b[0;31m# estimate and examine the linear model here\u001b[0m\u001b[0;34m\u001b[0m\u001b[0;34m\u001b[0m\u001b[0;34m\u001b[0m\u001b[0m\n",
            "\u001b[0;32m/usr/local/lib/python3.6/dist-packages/statsmodels/base/model.py\u001b[0m in \u001b[0;36mfrom_formula\u001b[0;34m(cls, formula, data, subset, drop_cols, *args, **kwargs)\u001b[0m\n\u001b[1;32m    157\u001b[0m \u001b[0;34m\u001b[0m\u001b[0m\n\u001b[1;32m    158\u001b[0m         tmp = handle_formula_data(data, None, formula, depth=eval_env,\n\u001b[0;32m--> 159\u001b[0;31m                                   missing=missing)\n\u001b[0m\u001b[1;32m    160\u001b[0m         \u001b[0;34m(\u001b[0m\u001b[0;34m(\u001b[0m\u001b[0mendog\u001b[0m\u001b[0;34m,\u001b[0m \u001b[0mexog\u001b[0m\u001b[0;34m)\u001b[0m\u001b[0;34m,\u001b[0m \u001b[0mmissing_idx\u001b[0m\u001b[0;34m,\u001b[0m \u001b[0mdesign_info\u001b[0m\u001b[0;34m)\u001b[0m \u001b[0;34m=\u001b[0m \u001b[0mtmp\u001b[0m\u001b[0;34m\u001b[0m\u001b[0;34m\u001b[0m\u001b[0m\n\u001b[1;32m    161\u001b[0m \u001b[0;34m\u001b[0m\u001b[0m\n",
            "\u001b[0;32m/usr/local/lib/python3.6/dist-packages/statsmodels/formula/formulatools.py\u001b[0m in \u001b[0;36mhandle_formula_data\u001b[0;34m(Y, X, formula, depth, missing)\u001b[0m\n\u001b[1;32m     63\u001b[0m         \u001b[0;32mif\u001b[0m \u001b[0mdata_util\u001b[0m\u001b[0;34m.\u001b[0m\u001b[0m_is_using_pandas\u001b[0m\u001b[0;34m(\u001b[0m\u001b[0mY\u001b[0m\u001b[0;34m,\u001b[0m \u001b[0;32mNone\u001b[0m\u001b[0;34m)\u001b[0m\u001b[0;34m:\u001b[0m\u001b[0;34m\u001b[0m\u001b[0;34m\u001b[0m\u001b[0m\n\u001b[1;32m     64\u001b[0m             result = dmatrices(formula, Y, depth, return_type='dataframe',\n\u001b[0;32m---> 65\u001b[0;31m                                NA_action=na_action)\n\u001b[0m\u001b[1;32m     66\u001b[0m         \u001b[0;32melse\u001b[0m\u001b[0;34m:\u001b[0m\u001b[0;34m\u001b[0m\u001b[0;34m\u001b[0m\u001b[0m\n\u001b[1;32m     67\u001b[0m             result = dmatrices(formula, Y, depth, return_type='dataframe',\n",
            "\u001b[0;32m/usr/local/lib/python3.6/dist-packages/patsy/highlevel.py\u001b[0m in \u001b[0;36mdmatrices\u001b[0;34m(formula_like, data, eval_env, NA_action, return_type)\u001b[0m\n\u001b[1;32m    310\u001b[0m                                       NA_action, return_type)\n\u001b[1;32m    311\u001b[0m     \u001b[0;32mif\u001b[0m \u001b[0mlhs\u001b[0m\u001b[0;34m.\u001b[0m\u001b[0mshape\u001b[0m\u001b[0;34m[\u001b[0m\u001b[0;36m1\u001b[0m\u001b[0;34m]\u001b[0m \u001b[0;34m==\u001b[0m \u001b[0;36m0\u001b[0m\u001b[0;34m:\u001b[0m\u001b[0;34m\u001b[0m\u001b[0;34m\u001b[0m\u001b[0m\n\u001b[0;32m--> 312\u001b[0;31m         \u001b[0;32mraise\u001b[0m \u001b[0mPatsyError\u001b[0m\u001b[0;34m(\u001b[0m\u001b[0;34m\"model is missing required outcome variables\"\u001b[0m\u001b[0;34m)\u001b[0m\u001b[0;34m\u001b[0m\u001b[0;34m\u001b[0m\u001b[0m\n\u001b[0m\u001b[1;32m    313\u001b[0m     \u001b[0;32mreturn\u001b[0m \u001b[0;34m(\u001b[0m\u001b[0mlhs\u001b[0m\u001b[0;34m,\u001b[0m \u001b[0mrhs\u001b[0m\u001b[0;34m)\u001b[0m\u001b[0;34m\u001b[0m\u001b[0;34m\u001b[0m\u001b[0m\n",
            "\u001b[0;31mPatsyError\u001b[0m: model is missing required outcome variables"
          ]
        }
      ]
    },
    {
      "cell_type": "code",
      "metadata": {
        "id": "qdTZNhGbN1ZR",
        "colab_type": "code",
        "colab": {}
      },
      "source": [
        "# use log transformation on KM and CC, estimate the model once again"
      ],
      "execution_count": 0,
      "outputs": []
    },
    {
      "cell_type": "markdown",
      "metadata": {
        "id": "h9daQELgN1ZU",
        "colab_type": "text"
      },
      "source": [
        "## Part II: K-Nearest Neighbors (KNN)\n",
        "\n"
      ]
    },
    {
      "cell_type": "markdown",
      "metadata": {
        "id": "rhwY_5cSN1ZU",
        "colab_type": "text"
      },
      "source": [
        "### Construct train and test sets"
      ]
    },
    {
      "cell_type": "code",
      "metadata": {
        "colab_type": "code",
        "id": "xtViNe_YPMmw",
        "colab": {}
      },
      "source": [
        "# set random seed for reproducibility"
      ],
      "execution_count": 0,
      "outputs": []
    },
    {
      "cell_type": "code",
      "metadata": {
        "colab_type": "code",
        "id": "kEM_LrzxPMms",
        "colab": {}
      },
      "source": [
        "# construct the independent variables (X) and dependent variable (y)"
      ],
      "execution_count": 0,
      "outputs": []
    },
    {
      "cell_type": "code",
      "metadata": {
        "colab_type": "code",
        "id": "rvDoRsbEPMmp",
        "colab": {}
      },
      "source": [
        "# split the train and test sets\n",
        "# from sklearn.model_selection import train_test_split\n"
      ],
      "execution_count": 0,
      "outputs": []
    },
    {
      "cell_type": "markdown",
      "metadata": {
        "id": "68MT9RgRN1Zb",
        "colab_type": "text"
      },
      "source": [
        "### Alternatively without sklearn"
      ]
    },
    {
      "cell_type": "markdown",
      "metadata": {
        "id": "23rle9lON1Zd",
        "colab_type": "text"
      },
      "source": [
        "### Scale the data to avoid bias"
      ]
    },
    {
      "cell_type": "code",
      "metadata": {
        "colab_type": "code",
        "id": "OE50BNYCPMF5",
        "colab": {}
      },
      "source": [
        "# from sklearn.preprocessing import StandardScaler\n",
        "# scale the data"
      ],
      "execution_count": 0,
      "outputs": []
    },
    {
      "cell_type": "markdown",
      "metadata": {
        "id": "6rJPQPLMN1Zf",
        "colab_type": "text"
      },
      "source": [
        "### Train the model"
      ]
    },
    {
      "cell_type": "code",
      "metadata": {
        "colab_type": "code",
        "id": "bEFArBTNPL0x",
        "colab": {}
      },
      "source": [
        "from sklearn import neighbors\n",
        "from sklearn.metrics import mean_squared_error \n",
        "\n",
        "# try one specific k value first, then try to embed it in a loop"
      ],
      "execution_count": 0,
      "outputs": []
    },
    {
      "cell_type": "markdown",
      "metadata": {
        "id": "JGdzX217N1Zi",
        "colab_type": "text"
      },
      "source": [
        "#### Compare with linear regression model"
      ]
    },
    {
      "cell_type": "code",
      "metadata": {
        "colab_type": "code",
        "id": "rWW09Yn-PK_q",
        "colab": {}
      },
      "source": [
        "# estimate a linear model with the same train set (why has it to be the same?)\n",
        "\n",
        "\n",
        "# calculate rmse on the same test set (again, why?)\n"
      ],
      "execution_count": 0,
      "outputs": []
    }
  ]
}