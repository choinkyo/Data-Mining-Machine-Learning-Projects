{
  "nbformat": 4,
  "nbformat_minor": 0,
  "metadata": {
    "colab": {
      "name": "PythonWorkshop2020Blank.ipynb",
      "provenance": [],
      "collapsed_sections": [],
      "include_colab_link": true
    },
    "kernelspec": {
      "display_name": "Python 3",
      "language": "python",
      "name": "python3"
    },
    "language_info": {
      "codemirror_mode": {
        "name": "ipython",
        "version": 3
      },
      "file_extension": ".py",
      "mimetype": "text/x-python",
      "name": "python",
      "nbconvert_exporter": "python",
      "pygments_lexer": "ipython3",
      "version": "3.7.4"
    }
  },
  "cells": [
    {
      "cell_type": "markdown",
      "metadata": {
        "id": "view-in-github",
        "colab_type": "text"
      },
      "source": [
        "<a href=\"https://colab.research.google.com/github/choinkyo/Projects/blob/master/Linear%20Regression%20%26%20K-Nearest%20Neighbors(KNN).ipynb\" target=\"_parent\"><img src=\"https://colab.research.google.com/assets/colab-badge.svg\" alt=\"Open In Colab\"/></a>"
      ]
    },
    {
      "cell_type": "markdown",
      "metadata": {
        "colab_type": "text",
        "id": "5I-2yXs3q5HL"
      },
      "source": [
        "## Linear Regeression & K-Nearest Neighbors(KNN)\n"
      ]
    },
    {
      "cell_type": "markdown",
      "metadata": {
        "colab_type": "text",
        "id": "p_sr0_UurLmX"
      },
      "source": [
        "## Part I: Linear Regression"
      ]
    },
    {
      "cell_type": "code",
      "metadata": {
        "colab_type": "code",
        "id": "DgaRfWi-qrQw",
        "colab": {}
      },
      "source": [
        "# import pandas using the conventional abbreviation\n",
        "import numpy as np\n",
        "import pandas as pd"
      ],
      "execution_count": 0,
      "outputs": []
    },
    {
      "cell_type": "markdown",
      "metadata": {
        "colab_type": "text",
        "id": "PAoE6td7rZP7"
      },
      "source": [
        "### Import Data\n",
        "\n",
        "We can import structured data from many sources\n",
        "\n",
        "1) Import from URL\n",
        "\n",
        "or 2) Import locally \n",
        "\n",
        "or 3) Import from Google Drive"
      ]
    },
    {
      "cell_type": "code",
      "metadata": {
        "colab_type": "code",
        "id": "V2Uh8kkyrSM6",
        "colab": {}
      },
      "source": [
        "# import the data from an online resource\n",
        "ToyotaCorolla = pd.read_csv('https://www.biz.uiowa.edu/faculty/jledolter/datamining/ToyotaCorolla.csv')\n",
        "# import locally \n",
        "# pd.read_csv('/Users/xiyuange/Downloads/ToyotaCorolla.csv')"
      ],
      "execution_count": 0,
      "outputs": []
    },
    {
      "cell_type": "markdown",
      "metadata": {
        "id": "ULjHvrg_N1ZL",
        "colab_type": "text"
      },
      "source": [
        " \n",
        "### Prediction on the sale price of a used automobile. \n",
        "\n",
        " \n",
        " Source: Ledolter (2013) Data Mingin and Business Analytics with R\n",
        "\n",
        " Description: The data set includes sale prices and vehicle characteristics \n",
        " of 1436 used Toyota Corollas.\n",
        " \n",
        "\n",
        "\n",
        " Price: Offer price in EUROs\n",
        " \n",
        " Age: Age in months as in August 2004\n",
        " \n",
        " KM: Accumulated kilometers on odometer\n",
        " \n",
        " FuelType: Fuel type (petrol, diesel, CNG)\n",
        " \n",
        " HP: Horsepower\n",
        " \n",
        " MetColor: Metallic color (Yes=1, No=0)\n",
        " \n",
        " Automatic: Automatic (Yes=1, No=0)\n",
        " \n",
        " CC: Cylinder volume in cubic centimeters\n",
        " \n",
        " Doors: Doors Number of doors\n",
        " \n",
        " Weight: Weight in kilograms"
      ]
    },
    {
      "cell_type": "markdown",
      "metadata": {
        "id": "dzpDYDWFN1ZM",
        "colab_type": "text"
      },
      "source": [
        "### Linear Regression\n",
        "\n",
        "We start with a linear model\n",
        "\n",
        "1) Specify the formula and data\n",
        "\n",
        "2) regress and output the result"
      ]
    },
    {
      "cell_type": "code",
      "metadata": {
        "id": "OrhT26WLN1ZM",
        "colab_type": "code",
        "colab": {
          "base_uri": "https://localhost:8080/",
          "height": 580
        },
        "outputId": "8acb4e3d-0af0-48cf-dc2f-7f6293ef8aec"
      },
      "source": [
        "import statsmodels.formula.api as sm\n",
        "\n",
        "result = sm.ols(formula=\"Price ~ Age+KM+HP+MetColor+Automatic+CC\", data=ToyotaCorolla).fit()\n",
        "\n",
        "print(result.summary())\n",
        "# estimate and examine the linear model here"
      ],
      "execution_count": 15,
      "outputs": [
        {
          "output_type": "stream",
          "text": [
            "                            OLS Regression Results                            \n",
            "==============================================================================\n",
            "Dep. Variable:                  Price   R-squared:                       0.823\n",
            "Model:                            OLS   Adj. R-squared:                  0.822\n",
            "Method:                 Least Squares   F-statistic:                     1104.\n",
            "Date:                Sun, 12 Jan 2020   Prob (F-statistic):               0.00\n",
            "Time:                        00:20:15   Log-Likelihood:                -12565.\n",
            "No. Observations:                1436   AIC:                         2.514e+04\n",
            "Df Residuals:                    1429   BIC:                         2.518e+04\n",
            "Df Model:                           6                                         \n",
            "Covariance Type:            nonrobust                                         \n",
            "==============================================================================\n",
            "                 coef    std err          t      P>|t|      [0.025      0.975]\n",
            "------------------------------------------------------------------------------\n",
            "Intercept   1.334e+04    482.164     27.673      0.000    1.24e+04    1.43e+04\n",
            "Age         -146.8912      2.707    -54.263      0.000    -152.201    -141.581\n",
            "KM            -0.0170      0.001    -11.435      0.000      -0.020      -0.014\n",
            "HP            31.9339      2.914     10.960      0.000      26.218      37.649\n",
            "MetColor      19.5457     86.895      0.225      0.822    -150.909     190.001\n",
            "Automatic    772.3192    177.439      4.353      0.000     424.249    1120.389\n",
            "CC             2.2152      0.246      9.006      0.000       1.733       2.698\n",
            "==============================================================================\n",
            "Omnibus:                      327.749   Durbin-Watson:                   1.350\n",
            "Prob(Omnibus):                  0.000   Jarque-Bera (JB):             2181.964\n",
            "Skew:                           0.889   Prob(JB):                         0.00\n",
            "Kurtosis:                       8.771   Cond. No.                     9.33e+05\n",
            "==============================================================================\n",
            "\n",
            "Warnings:\n",
            "[1] Standard Errors assume that the covariance matrix of the errors is correctly specified.\n",
            "[2] The condition number is large, 9.33e+05. This might indicate that there are\n",
            "strong multicollinearity or other numerical problems.\n"
          ],
          "name": "stdout"
        }
      ]
    },
    {
      "cell_type": "code",
      "metadata": {
        "id": "qdTZNhGbN1ZR",
        "colab_type": "code",
        "colab": {
          "base_uri": "https://localhost:8080/",
          "height": 451
        },
        "outputId": "c8a60423-58fe-4a26-f81e-9863d9a88753"
      },
      "source": [
        "# use log transformation on KM and CC, estimate the model once again\n",
        "ToyotaCorolla.KM.hist()\n",
        "ToyotaCorolla['logKM'] = np.log(ToyotaCorolla['KM'])\n",
        "ToyotaCorolla['logCC'] = np.log(ToyotaCorolla['CC'])\n",
        "ToyotaCorolla.head()"
      ],
      "execution_count": 16,
      "outputs": [
        {
          "output_type": "execute_result",
          "data": {
            "text/html": [
              "<div>\n",
              "<style scoped>\n",
              "    .dataframe tbody tr th:only-of-type {\n",
              "        vertical-align: middle;\n",
              "    }\n",
              "\n",
              "    .dataframe tbody tr th {\n",
              "        vertical-align: top;\n",
              "    }\n",
              "\n",
              "    .dataframe thead th {\n",
              "        text-align: right;\n",
              "    }\n",
              "</style>\n",
              "<table border=\"1\" class=\"dataframe\">\n",
              "  <thead>\n",
              "    <tr style=\"text-align: right;\">\n",
              "      <th></th>\n",
              "      <th>Price</th>\n",
              "      <th>Age</th>\n",
              "      <th>KM</th>\n",
              "      <th>FuelType</th>\n",
              "      <th>HP</th>\n",
              "      <th>MetColor</th>\n",
              "      <th>Automatic</th>\n",
              "      <th>CC</th>\n",
              "      <th>Doors</th>\n",
              "      <th>Weight</th>\n",
              "      <th>logKM</th>\n",
              "      <th>logCC</th>\n",
              "    </tr>\n",
              "  </thead>\n",
              "  <tbody>\n",
              "    <tr>\n",
              "      <th>0</th>\n",
              "      <td>13500</td>\n",
              "      <td>23</td>\n",
              "      <td>46986</td>\n",
              "      <td>Diesel</td>\n",
              "      <td>90</td>\n",
              "      <td>1</td>\n",
              "      <td>0</td>\n",
              "      <td>2000</td>\n",
              "      <td>3</td>\n",
              "      <td>1165</td>\n",
              "      <td>10.757605</td>\n",
              "      <td>7.600902</td>\n",
              "    </tr>\n",
              "    <tr>\n",
              "      <th>1</th>\n",
              "      <td>13750</td>\n",
              "      <td>23</td>\n",
              "      <td>72937</td>\n",
              "      <td>Diesel</td>\n",
              "      <td>90</td>\n",
              "      <td>1</td>\n",
              "      <td>0</td>\n",
              "      <td>2000</td>\n",
              "      <td>3</td>\n",
              "      <td>1165</td>\n",
              "      <td>11.197351</td>\n",
              "      <td>7.600902</td>\n",
              "    </tr>\n",
              "    <tr>\n",
              "      <th>2</th>\n",
              "      <td>13950</td>\n",
              "      <td>24</td>\n",
              "      <td>41711</td>\n",
              "      <td>Diesel</td>\n",
              "      <td>90</td>\n",
              "      <td>1</td>\n",
              "      <td>0</td>\n",
              "      <td>2000</td>\n",
              "      <td>3</td>\n",
              "      <td>1165</td>\n",
              "      <td>10.638520</td>\n",
              "      <td>7.600902</td>\n",
              "    </tr>\n",
              "    <tr>\n",
              "      <th>3</th>\n",
              "      <td>14950</td>\n",
              "      <td>26</td>\n",
              "      <td>48000</td>\n",
              "      <td>Diesel</td>\n",
              "      <td>90</td>\n",
              "      <td>0</td>\n",
              "      <td>0</td>\n",
              "      <td>2000</td>\n",
              "      <td>3</td>\n",
              "      <td>1165</td>\n",
              "      <td>10.778956</td>\n",
              "      <td>7.600902</td>\n",
              "    </tr>\n",
              "    <tr>\n",
              "      <th>4</th>\n",
              "      <td>13750</td>\n",
              "      <td>30</td>\n",
              "      <td>38500</td>\n",
              "      <td>Diesel</td>\n",
              "      <td>90</td>\n",
              "      <td>0</td>\n",
              "      <td>0</td>\n",
              "      <td>2000</td>\n",
              "      <td>3</td>\n",
              "      <td>1170</td>\n",
              "      <td>10.558414</td>\n",
              "      <td>7.600902</td>\n",
              "    </tr>\n",
              "  </tbody>\n",
              "</table>\n",
              "</div>"
            ],
            "text/plain": [
              "   Price  Age     KM FuelType  HP  ...    CC  Doors  Weight      logKM     logCC\n",
              "0  13500   23  46986   Diesel  90  ...  2000      3    1165  10.757605  7.600902\n",
              "1  13750   23  72937   Diesel  90  ...  2000      3    1165  11.197351  7.600902\n",
              "2  13950   24  41711   Diesel  90  ...  2000      3    1165  10.638520  7.600902\n",
              "3  14950   26  48000   Diesel  90  ...  2000      3    1165  10.778956  7.600902\n",
              "4  13750   30  38500   Diesel  90  ...  2000      3    1170  10.558414  7.600902\n",
              "\n",
              "[5 rows x 12 columns]"
            ]
          },
          "metadata": {
            "tags": []
          },
          "execution_count": 16
        },
        {
          "output_type": "display_data",
          "data": {
            "image/png": "[encoded data removed]",
            "text/plain": [
              "<Figure size 432x288 with 1 Axes>"
            ]
          },
          "metadata": {
            "tags": []
          }
        }
      ]
    },
    {
      "cell_type": "code",
      "metadata": {
        "id": "HWRXxYCqAIDa",
        "colab_type": "code",
        "colab": {
          "base_uri": "https://localhost:8080/",
          "height": 451
        },
        "outputId": "25a1b293-143c-4074-8221-a866382635d2"
      },
      "source": [
        "# use log transformation on KM and CC, estimate the model once again\n",
        "ToyotaCorolla.CC.hist()\n",
        "ToyotaCorolla['logKM'] = np.log(ToyotaCorolla['KM'])\n",
        "ToyotaCorolla['logCC'] = np.log(ToyotaCorolla['CC'])\n",
        "ToyotaCorolla.head()"
      ],
      "execution_count": 17,
      "outputs": [
        {
          "output_type": "execute_result",
          "data": {
            "text/html": [
              "<div>\n",
              "<style scoped>\n",
              "    .dataframe tbody tr th:only-of-type {\n",
              "        vertical-align: middle;\n",
              "    }\n",
              "\n",
              "    .dataframe tbody tr th {\n",
              "        vertical-align: top;\n",
              "    }\n",
              "\n",
              "    .dataframe thead th {\n",
              "        text-align: right;\n",
              "    }\n",
              "</style>\n",
              "<table border=\"1\" class=\"dataframe\">\n",
              "  <thead>\n",
              "    <tr style=\"text-align: right;\">\n",
              "      <th></th>\n",
              "      <th>Price</th>\n",
              "      <th>Age</th>\n",
              "      <th>KM</th>\n",
              "      <th>FuelType</th>\n",
              "      <th>HP</th>\n",
              "      <th>MetColor</th>\n",
              "      <th>Automatic</th>\n",
              "      <th>CC</th>\n",
              "      <th>Doors</th>\n",
              "      <th>Weight</th>\n",
              "      <th>logKM</th>\n",
              "      <th>logCC</th>\n",
              "    </tr>\n",
              "  </thead>\n",
              "  <tbody>\n",
              "    <tr>\n",
              "      <th>0</th>\n",
              "      <td>13500</td>\n",
              "      <td>23</td>\n",
              "      <td>46986</td>\n",
              "      <td>Diesel</td>\n",
              "      <td>90</td>\n",
              "      <td>1</td>\n",
              "      <td>0</td>\n",
              "      <td>2000</td>\n",
              "      <td>3</td>\n",
              "      <td>1165</td>\n",
              "      <td>10.757605</td>\n",
              "      <td>7.600902</td>\n",
              "    </tr>\n",
              "    <tr>\n",
              "      <th>1</th>\n",
              "      <td>13750</td>\n",
              "      <td>23</td>\n",
              "      <td>72937</td>\n",
              "      <td>Diesel</td>\n",
              "      <td>90</td>\n",
              "      <td>1</td>\n",
              "      <td>0</td>\n",
              "      <td>2000</td>\n",
              "      <td>3</td>\n",
              "      <td>1165</td>\n",
              "      <td>11.197351</td>\n",
              "      <td>7.600902</td>\n",
              "    </tr>\n",
              "    <tr>\n",
              "      <th>2</th>\n",
              "      <td>13950</td>\n",
              "      <td>24</td>\n",
              "      <td>41711</td>\n",
              "      <td>Diesel</td>\n",
              "      <td>90</td>\n",
              "      <td>1</td>\n",
              "      <td>0</td>\n",
              "      <td>2000</td>\n",
              "      <td>3</td>\n",
              "      <td>1165</td>\n",
              "      <td>10.638520</td>\n",
              "      <td>7.600902</td>\n",
              "    </tr>\n",
              "    <tr>\n",
              "      <th>3</th>\n",
              "      <td>14950</td>\n",
              "      <td>26</td>\n",
              "      <td>48000</td>\n",
              "      <td>Diesel</td>\n",
              "      <td>90</td>\n",
              "      <td>0</td>\n",
              "      <td>0</td>\n",
              "      <td>2000</td>\n",
              "      <td>3</td>\n",
              "      <td>1165</td>\n",
              "      <td>10.778956</td>\n",
              "      <td>7.600902</td>\n",
              "    </tr>\n",
              "    <tr>\n",
              "      <th>4</th>\n",
              "      <td>13750</td>\n",
              "      <td>30</td>\n",
              "      <td>38500</td>\n",
              "      <td>Diesel</td>\n",
              "      <td>90</td>\n",
              "      <td>0</td>\n",
              "      <td>0</td>\n",
              "      <td>2000</td>\n",
              "      <td>3</td>\n",
              "      <td>1170</td>\n",
              "      <td>10.558414</td>\n",
              "      <td>7.600902</td>\n",
              "    </tr>\n",
              "  </tbody>\n",
              "</table>\n",
              "</div>"
            ],
            "text/plain": [
              "   Price  Age     KM FuelType  HP  ...    CC  Doors  Weight      logKM     logCC\n",
              "0  13500   23  46986   Diesel  90  ...  2000      3    1165  10.757605  7.600902\n",
              "1  13750   23  72937   Diesel  90  ...  2000      3    1165  11.197351  7.600902\n",
              "2  13950   24  41711   Diesel  90  ...  2000      3    1165  10.638520  7.600902\n",
              "3  14950   26  48000   Diesel  90  ...  2000      3    1165  10.778956  7.600902\n",
              "4  13750   30  38500   Diesel  90  ...  2000      3    1170  10.558414  7.600902\n",
              "\n",
              "[5 rows x 12 columns]"
            ]
          },
          "metadata": {
            "tags": []
          },
          "execution_count": 17
        },
        {
          "output_type": "display_data",
          "data": {
            "image/png": "[encoded data removed]",
            "text/plain": [
              "<Figure size 432x288 with 1 Axes>"
            ]
          },
          "metadata": {
            "tags": []
          }
        }
      ]
    },
    {
      "cell_type": "markdown",
      "metadata": {
        "id": "h9daQELgN1ZU",
        "colab_type": "text"
      },
      "source": [
        "## Part II: K-Nearest Neighbors (KNN)\n",
        "\n"
      ]
    },
    {
      "cell_type": "markdown",
      "metadata": {
        "id": "rhwY_5cSN1ZU",
        "colab_type": "text"
      },
      "source": [
        "### Construct train and test sets"
      ]
    },
    {
      "cell_type": "code",
      "metadata": {
        "colab_type": "code",
        "id": "xtViNe_YPMmw",
        "colab": {}
      },
      "source": [
        "# set random seed for reproducibility\n",
        "np.random.seed(1) "
      ],
      "execution_count": 0,
      "outputs": []
    },
    {
      "cell_type": "code",
      "metadata": {
        "colab_type": "code",
        "id": "kEM_LrzxPMms",
        "colab": {}
      },
      "source": [
        "# construct the independent variables (X) and dependent variable (y)\n",
        "X= ToyotaCorolla.drop('Price', axis=1)\n",
        "X=ToyotaCorolla[['Age', 'KM', 'HP', 'MetColor', 'Automatic', 'CC']]\n",
        "Y=ToyotaCorolla.Price"
      ],
      "execution_count": 0,
      "outputs": []
    },
    {
      "cell_type": "code",
      "metadata": {
        "colab_type": "code",
        "id": "rvDoRsbEPMmp",
        "colab": {}
      },
      "source": [
        "# split the train and test sets\n",
        "from sklearn.model_selection import train_test_split\n",
        "X_train, X_test, Y_train, Y_test = train_test_split(X, Y, test_size=0.20)"
      ],
      "execution_count": 0,
      "outputs": []
    },
    {
      "cell_type": "markdown",
      "metadata": {
        "id": "68MT9RgRN1Zb",
        "colab_type": "text"
      },
      "source": [
        "### Alternatively without sklearn"
      ]
    },
    {
      "cell_type": "markdown",
      "metadata": {
        "id": "23rle9lON1Zd",
        "colab_type": "text"
      },
      "source": [
        "### Scale the data to avoid bias"
      ]
    },
    {
      "cell_type": "code",
      "metadata": {
        "colab_type": "code",
        "id": "OE50BNYCPMF5",
        "colab": {}
      },
      "source": [
        "# scale the data\n",
        "from sklearn.preprocessing import StandardScaler\n",
        "scaler = StandardScaler()\n",
        "scaler.fit(X_train)\n",
        "X_train_knn= scaler.transform(X_train)\n",
        "X_test_knn = scaler.transform(X_test)"
      ],
      "execution_count": 0,
      "outputs": []
    },
    {
      "cell_type": "markdown",
      "metadata": {
        "id": "6rJPQPLMN1Zf",
        "colab_type": "text"
      },
      "source": [
        "### Train the model"
      ]
    },
    {
      "cell_type": "code",
      "metadata": {
        "colab_type": "code",
        "id": "bEFArBTNPL0x",
        "colab": {
          "base_uri": "https://localhost:8080/",
          "height": 193
        },
        "outputId": "2d7a6b22-5bf6-4962-f0dd-68453ce1a12c"
      },
      "source": [
        "from sklearn import neighbors\n",
        "from sklearn.metrics import mean_squared_error \n",
        "rmse_val = []\n",
        "for K in range (10) :\n",
        "  K = K+1\n",
        "  model = neighbors.KNeighborsRegressor(n_neighbors = K) \n",
        "  model.fit(X_train_knn, y_train)\n",
        "  pred = model.predict(X_test_knn)\n",
        "  error=np.sqrt(mean_squared_error(y_test, pred))\n",
        "  rmse_val.append(error)\n",
        "  print('RMSE value for k=' , K, 'is:', error)\n",
        "# try one specific k value first, then try to embed it in a loop"
      ],
      "execution_count": 41,
      "outputs": [
        {
          "output_type": "stream",
          "text": [
            "RMSE value for k= 1 is: 5117.239536673503\n",
            "RMSE value for k= 2 is: 4613.1382557690895\n",
            "RMSE value for k= 3 is: 4462.614022214495\n",
            "RMSE value for k= 4 is: 4360.258171415721\n",
            "RMSE value for k= 5 is: 4306.800816231747\n",
            "RMSE value for k= 6 is: 4298.081760195184\n",
            "RMSE value for k= 7 is: 4288.133050321111\n",
            "RMSE value for k= 8 is: 4216.719932204846\n",
            "RMSE value for k= 9 is: 4191.530844294581\n",
            "RMSE value for k= 10 is: 4135.207141656839\n"
          ],
          "name": "stdout"
        }
      ]
    },
    {
      "cell_type": "markdown",
      "metadata": {
        "id": "JGdzX217N1Zi",
        "colab_type": "text"
      },
      "source": [
        "#### Compare with linear regression model"
      ]
    },
    {
      "cell_type": "code",
      "metadata": {
        "colab_type": "code",
        "id": "rWW09Yn-PK_q",
        "colab": {
          "base_uri": "https://localhost:8080/",
          "height": 35
        },
        "outputId": "7adc6b70-47e8-4a30-e983-07b313d3fd40"
      },
      "source": [
        "# estimate a linear model with the same train set (why has it to be the same?)\n",
        "lm_train_data = pd.merge(X_train, Y_train, how = 'left', left_index = True, right_index = True)\n",
        "\n",
        "# calculate rmse on the same test set (again, why?)\n",
        "lm2 = sm.ols(formula=\"Price ~ Age+KM+HP+MetColor+Automatic+CC\", data = lm_train_data).fit()\n",
        "ypred = lm2.predict(X_test)\n",
        "print(np.sqrt(mean_squared_error(y_test,ypred)))"
      ],
      "execution_count": 46,
      "outputs": [
        {
          "output_type": "stream",
          "text": [
            "5165.870115737739\n"
          ],
          "name": "stdout"
        }
      ]
    },
    {
      "cell_type": "code",
      "metadata": {
        "id": "U1rKZcAnLDS-",
        "colab_type": "code",
        "colab": {}
      },
      "source": [
        ""
      ],
      "execution_count": 0,
      "outputs": []
    }
  ]
}