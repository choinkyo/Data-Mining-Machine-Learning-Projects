{
 "cells": [
  {
   "cell_type": "markdown",
   "metadata": {},
   "source": [
    "## Dataset Description"
   ]
  },
  {
   "cell_type": "markdown",
   "metadata": {},
   "source": [
    "**1. DATASET:**\n",
    "\n",
    "Sustainable Development Report Website \n",
    "(URL: https://www.sustainabledevelopment.report/reports/2019-us-cities-sustainable-development-report/)\n",
    "    \n",
    "\n",
    "**2. WHY THE SOURCE IS RELIABLE:**\n",
    "\n",
    "The dataset is called, \"2019 US Cities Sustainable Development Report\", and it is credible source because of the credential of organization, authors, and the date of publication. \n",
    "\n",
    "        1) Publication: The Publisher is Sustainable Development Solutions Network United States (SDSN USA). According to the website, \"SDSN endeavors to build pathways for achievement of the UN’s Sustainable Development Goals(SDG) in the United States by mobilizing research, outreach, and collective action.\" This means that the organization is part of United Nation to research the sustainability of development of United State. \n",
    "    \n",
    "        2) Author: One of the author is Jeffrey Sachs who is a world-renowned professor of economics, leader in sustainable development, senior UN advisor, bestselling author, and syndicated columnist whose monthly newspaper columns appear in more than 100 countries.\n",
    "    \n",
    "        3) Date Published: It was published July 08, 2019, which contains the most recent and up to dated information. \n",
    "\n",
    "\n",
    "**3. HOW IT WAS GATHERED:** \n",
    "\n",
    "United Nations' Sustainable Development Goal project team has used publicly availalbe, recent data from reputable resources, and created index presents an overview of progress towards the each mesurement units. It builds upon US Cities Indices developed by SDSN in 2017 and 2018. The scores represent progress towards these goals which are meant to be achieved by 2030.\n",
    "\n",
    "**4. WHAT EACH COLUMN CONTAINS AND ANY APPLICABLE MESUREMENT UNITS:**\n",
    "\n",
    "The columns represent City/State/Region, its overall score and ranking, and the segments of how the overall score are rated. \n",
    "\n",
    "         0: 'CBSA',\n",
    "         1: 'Region',\n",
    "         2: 'City',\n",
    "         3: 'City_State',\n",
    "         4:'Overall Score',\n",
    "         5:'Rank',\n",
    "         6:'1_Poverty',\n",
    "         7:'2_Hunger',\n",
    "         8:'3_Health',\n",
    "         9:'4_Education',\n",
    "         10:'5_Gender Equality',\n",
    "         11:'6_Clean Water',\n",
    "         12:'7_Energy Afforability',\n",
    "         13:'8_Economy',\n",
    "         14:'9_Industry',\n",
    "         15:'10_Reduced Inequality',\n",
    "         16:'11_Community_Sustainability',\n",
    "         17:'12_Consumtion_Production',\n",
    "         18:'13_Climate Action',\n",
    "         19:'15_Life_on_Land',\n",
    "         20:'16_Justice'"
   ]
  },
  {
   "cell_type": "markdown",
   "metadata": {},
   "source": [
    "## Read in and Clean Dataset \n",
    "Read in your dataset and do all of the necessary transformations and munging including: \n",
    "    - Parsing column headers\n",
    "    - Finding and handling null values\n",
    "    - Encoding categorical variables\n",
    "    - Dropping unnecessary columns\n",
    "    - Binning any large range categorical variables"
   ]
  },
  {
   "cell_type": "code",
   "execution_count": 1,
   "metadata": {},
   "outputs": [],
   "source": [
    "import pandas as pd\n",
    "import numpy as np\n",
    "from sklearn import datasets\n",
    "%matplotlib inline\n",
    "\n",
    "def My_df (file, delim, header_row=None):\n",
    "    mydf = pd.read_csv(file, \n",
    "                    sep=delim,\n",
    "                    header=header_row)\n",
    "    return mydf"
   ]
  },
  {
   "cell_type": "code",
   "execution_count": 3,
   "metadata": {},
   "outputs": [],
   "source": [
    "mydf=My_df(r'C:\\Users\\choin\\OneDrive\\Desktop\\Datasets\\MyProject.csv', delim=\",\")"
   ]
  },
  {
   "cell_type": "markdown",
   "metadata": {},
   "source": [
    "**Parsing column headers:**"
   ]
  },
  {
   "cell_type": "code",
   "execution_count": 1949,
   "metadata": {
    "scrolled": true
   },
   "outputs": [
    {
     "data": {
      "text/html": [
       "<div>\n",
       "<style scoped>\n",
       "    .dataframe tbody tr th:only-of-type {\n",
       "        vertical-align: middle;\n",
       "    }\n",
       "\n",
       "    .dataframe tbody tr th {\n",
       "        vertical-align: top;\n",
       "    }\n",
       "\n",
       "    .dataframe thead th {\n",
       "        text-align: right;\n",
       "    }\n",
       "</style>\n",
       "<table border=\"1\" class=\"dataframe\">\n",
       "  <thead>\n",
       "    <tr style=\"text-align: right;\">\n",
       "      <th></th>\n",
       "      <th>CBSA</th>\n",
       "      <th>Region</th>\n",
       "      <th>City</th>\n",
       "      <th>City_State</th>\n",
       "      <th>Overall Score</th>\n",
       "      <th>Rank</th>\n",
       "      <th>1_Poverty</th>\n",
       "      <th>2_Hunger</th>\n",
       "      <th>3_Health</th>\n",
       "      <th>4_Education</th>\n",
       "      <th>...</th>\n",
       "      <th>125</th>\n",
       "      <th>126</th>\n",
       "      <th>127</th>\n",
       "      <th>128</th>\n",
       "      <th>129</th>\n",
       "      <th>130</th>\n",
       "      <th>131</th>\n",
       "      <th>132</th>\n",
       "      <th>133</th>\n",
       "      <th>134</th>\n",
       "    </tr>\n",
       "  </thead>\n",
       "  <tbody>\n",
       "    <tr>\n",
       "      <th>0</th>\n",
       "      <td>Cbsa</td>\n",
       "      <td>Region</td>\n",
       "      <td>maincity</td>\n",
       "      <td>msa</td>\n",
       "      <td>score_sdgi</td>\n",
       "      <td>rank_sdgIndex</td>\n",
       "      <td>score_sdg1</td>\n",
       "      <td>score_sdg2</td>\n",
       "      <td>score_sdg3</td>\n",
       "      <td>score_sdg4</td>\n",
       "      <td>...</td>\n",
       "      <td>sdg13v1_GHGcapita</td>\n",
       "      <td>sdg13v2_climateaware</td>\n",
       "      <td>sdg13v3_adaptationplan</td>\n",
       "      <td>sdg15v1_parkarea</td>\n",
       "      <td>sdg15v2_naturalpark</td>\n",
       "      <td>sdg15v4_landreleasechange</td>\n",
       "      <td>sdg16v1_incarcerationrate</td>\n",
       "      <td>sdg16v2_prisonadmission</td>\n",
       "      <td>sdg16v5_firearmdeath</td>\n",
       "      <td>sdg16v6_nonwhitegov</td>\n",
       "    </tr>\n",
       "    <tr>\n",
       "      <th>1</th>\n",
       "      <td>41860</td>\n",
       "      <td>4</td>\n",
       "      <td>San Francisco</td>\n",
       "      <td>San Francisco-Oakland-Hayward, CA</td>\n",
       "      <td>70</td>\n",
       "      <td>1</td>\n",
       "      <td>84</td>\n",
       "      <td>68</td>\n",
       "      <td>86</td>\n",
       "      <td>61</td>\n",
       "      <td>...</td>\n",
       "      <td>10</td>\n",
       "      <td>82</td>\n",
       "      <td>1</td>\n",
       "      <td>20</td>\n",
       "      <td>53</td>\n",
       "      <td>7</td>\n",
       "      <td>455</td>\n",
       "      <td>55</td>\n",
       "      <td>4</td>\n",
       "      <td>6</td>\n",
       "    </tr>\n",
       "    <tr>\n",
       "      <th>2</th>\n",
       "      <td>41940</td>\n",
       "      <td>4</td>\n",
       "      <td>San Jose</td>\n",
       "      <td>San Jose-Sunnyvale-Santa Clara, CA</td>\n",
       "      <td>68</td>\n",
       "      <td>2</td>\n",
       "      <td>87</td>\n",
       "      <td>74</td>\n",
       "      <td>90</td>\n",
       "      <td>65</td>\n",
       "      <td>...</td>\n",
       "      <td>7</td>\n",
       "      <td>79</td>\n",
       "      <td>0</td>\n",
       "      <td>14</td>\n",
       "      <td>87</td>\n",
       "      <td>4</td>\n",
       "      <td>594</td>\n",
       "      <td>71</td>\n",
       "      <td>2</td>\n",
       "      <td>0</td>\n",
       "    </tr>\n",
       "    <tr>\n",
       "      <th>3</th>\n",
       "      <td>47900</td>\n",
       "      <td>3</td>\n",
       "      <td>Washington</td>\n",
       "      <td>Washington-Arlington-Alexandria, DC-VA-MD-WV</td>\n",
       "      <td>67</td>\n",
       "      <td>3</td>\n",
       "      <td>84</td>\n",
       "      <td>56</td>\n",
       "      <td>74</td>\n",
       "      <td>65</td>\n",
       "      <td>...</td>\n",
       "      <td>9</td>\n",
       "      <td>77</td>\n",
       "      <td>1</td>\n",
       "      <td>22</td>\n",
       "      <td>59</td>\n",
       "      <td>19</td>\n",
       "      <td>348</td>\n",
       "      <td>1</td>\n",
       "      <td>5</td>\n",
       "      <td>11</td>\n",
       "    </tr>\n",
       "    <tr>\n",
       "      <th>4</th>\n",
       "      <td>42660</td>\n",
       "      <td>4</td>\n",
       "      <td>Seattle</td>\n",
       "      <td>Seattle-Tacoma-Bellevue, WA</td>\n",
       "      <td>66</td>\n",
       "      <td>4</td>\n",
       "      <td>83</td>\n",
       "      <td>45</td>\n",
       "      <td>73</td>\n",
       "      <td>57</td>\n",
       "      <td>...</td>\n",
       "      <td>6</td>\n",
       "      <td>77</td>\n",
       "      <td>1</td>\n",
       "      <td>12</td>\n",
       "      <td>16</td>\n",
       "      <td>9</td>\n",
       "      <td>114</td>\n",
       "      <td>122</td>\n",
       "      <td>3</td>\n",
       "      <td>-2</td>\n",
       "    </tr>\n",
       "  </tbody>\n",
       "</table>\n",
       "<p>5 rows × 135 columns</p>\n",
       "</div>"
      ],
      "text/plain": [
       "    CBSA  Region           City                                    City_State  \\\n",
       "0   Cbsa  Region       maincity                                           msa   \n",
       "1  41860       4  San Francisco             San Francisco-Oakland-Hayward, CA   \n",
       "2  41940       4       San Jose            San Jose-Sunnyvale-Santa Clara, CA   \n",
       "3  47900       3     Washington  Washington-Arlington-Alexandria, DC-VA-MD-WV   \n",
       "4  42660       4        Seattle                   Seattle-Tacoma-Bellevue, WA   \n",
       "\n",
       "  Overall Score           Rank   1_Poverty    2_Hunger    3_Health  \\\n",
       "0    score_sdgi  rank_sdgIndex  score_sdg1  score_sdg2  score_sdg3   \n",
       "1            70              1          84          68          86   \n",
       "2            68              2          87          74          90   \n",
       "3            67              3          84          56          74   \n",
       "4            66              4          83          45          73   \n",
       "\n",
       "  4_Education  ...                125                   126  \\\n",
       "0  score_sdg4  ...  sdg13v1_GHGcapita  sdg13v2_climateaware   \n",
       "1          61  ...                 10                    82   \n",
       "2          65  ...                  7                    79   \n",
       "3          65  ...                  9                    77   \n",
       "4          57  ...                  6                    77   \n",
       "\n",
       "                      127               128                  129  \\\n",
       "0  sdg13v3_adaptationplan  sdg15v1_parkarea  sdg15v2_naturalpark   \n",
       "1                       1                20                   53   \n",
       "2                       0                14                   87   \n",
       "3                       1                22                   59   \n",
       "4                       1                12                   16   \n",
       "\n",
       "                         130                        131  \\\n",
       "0  sdg15v4_landreleasechange  sdg16v1_incarcerationrate   \n",
       "1                          7                        455   \n",
       "2                          4                        594   \n",
       "3                         19                        348   \n",
       "4                          9                        114   \n",
       "\n",
       "                       132                   133                  134  \n",
       "0  sdg16v2_prisonadmission  sdg16v5_firearmdeath  sdg16v6_nonwhitegov  \n",
       "1                       55                     4                    6  \n",
       "2                       71                     2                    0  \n",
       "3                        1                     5                   11  \n",
       "4                      122                     3                   -2  \n",
       "\n",
       "[5 rows x 135 columns]"
      ]
     },
     "execution_count": 1949,
     "metadata": {},
     "output_type": "execute_result"
    }
   ],
   "source": [
    "mydf = mydf.rename(columns={\n",
    " 0: 'CBSA',\n",
    " 1: 'Region',\n",
    " 2: 'City',\n",
    " 3: 'City_State',\n",
    " 4:'Overall Score',\n",
    " 5:'Rank',\n",
    " 6:'1_Poverty',\n",
    " 7:'2_Hunger',\n",
    " 8:'3_Health',\n",
    " 9:'4_Education',\n",
    " 10:'5_Gender Equality',\n",
    " 11:'6_Clean Water',\n",
    " 12:'7_Energy Afforability',\n",
    " 13:'8_Economy',\n",
    " 14:'9_Industry',\n",
    " 15:'10_Reduced Inequality',\n",
    " 16:'11_Community_Sustainability',\n",
    " 17:'12_Consumtion_Production',\n",
    " 18:'13_Climate Action',\n",
    " 19:'15_Life_on_Land',\n",
    " 20:'16_Justice',\n",
    " })\n",
    "mydf.head()"
   ]
  },
  {
   "cell_type": "markdown",
   "metadata": {},
   "source": [
    "**Dropping Unnecessary Columns:**"
   ]
  },
  {
   "cell_type": "code",
   "execution_count": 1950,
   "metadata": {},
   "outputs": [
    {
     "data": {
      "text/html": [
       "<div>\n",
       "<style scoped>\n",
       "    .dataframe tbody tr th:only-of-type {\n",
       "        vertical-align: middle;\n",
       "    }\n",
       "\n",
       "    .dataframe tbody tr th {\n",
       "        vertical-align: top;\n",
       "    }\n",
       "\n",
       "    .dataframe thead th {\n",
       "        text-align: right;\n",
       "    }\n",
       "</style>\n",
       "<table border=\"1\" class=\"dataframe\">\n",
       "  <thead>\n",
       "    <tr style=\"text-align: right;\">\n",
       "      <th></th>\n",
       "      <th>CBSA</th>\n",
       "      <th>Region</th>\n",
       "      <th>City</th>\n",
       "      <th>City_State</th>\n",
       "      <th>Overall Score</th>\n",
       "      <th>Rank</th>\n",
       "      <th>1_Poverty</th>\n",
       "      <th>2_Hunger</th>\n",
       "      <th>3_Health</th>\n",
       "      <th>4_Education</th>\n",
       "      <th>...</th>\n",
       "      <th>125</th>\n",
       "      <th>126</th>\n",
       "      <th>127</th>\n",
       "      <th>128</th>\n",
       "      <th>129</th>\n",
       "      <th>130</th>\n",
       "      <th>131</th>\n",
       "      <th>132</th>\n",
       "      <th>133</th>\n",
       "      <th>134</th>\n",
       "    </tr>\n",
       "  </thead>\n",
       "  <tbody>\n",
       "    <tr>\n",
       "      <th>1</th>\n",
       "      <td>41860</td>\n",
       "      <td>4</td>\n",
       "      <td>San Francisco</td>\n",
       "      <td>San Francisco-Oakland-Hayward, CA</td>\n",
       "      <td>70</td>\n",
       "      <td>1</td>\n",
       "      <td>84</td>\n",
       "      <td>68</td>\n",
       "      <td>86</td>\n",
       "      <td>61</td>\n",
       "      <td>...</td>\n",
       "      <td>10</td>\n",
       "      <td>82</td>\n",
       "      <td>1</td>\n",
       "      <td>20</td>\n",
       "      <td>53</td>\n",
       "      <td>7</td>\n",
       "      <td>455</td>\n",
       "      <td>55</td>\n",
       "      <td>4</td>\n",
       "      <td>6</td>\n",
       "    </tr>\n",
       "    <tr>\n",
       "      <th>2</th>\n",
       "      <td>41940</td>\n",
       "      <td>4</td>\n",
       "      <td>San Jose</td>\n",
       "      <td>San Jose-Sunnyvale-Santa Clara, CA</td>\n",
       "      <td>68</td>\n",
       "      <td>2</td>\n",
       "      <td>87</td>\n",
       "      <td>74</td>\n",
       "      <td>90</td>\n",
       "      <td>65</td>\n",
       "      <td>...</td>\n",
       "      <td>7</td>\n",
       "      <td>79</td>\n",
       "      <td>0</td>\n",
       "      <td>14</td>\n",
       "      <td>87</td>\n",
       "      <td>4</td>\n",
       "      <td>594</td>\n",
       "      <td>71</td>\n",
       "      <td>2</td>\n",
       "      <td>0</td>\n",
       "    </tr>\n",
       "    <tr>\n",
       "      <th>3</th>\n",
       "      <td>47900</td>\n",
       "      <td>3</td>\n",
       "      <td>Washington</td>\n",
       "      <td>Washington-Arlington-Alexandria, DC-VA-MD-WV</td>\n",
       "      <td>67</td>\n",
       "      <td>3</td>\n",
       "      <td>84</td>\n",
       "      <td>56</td>\n",
       "      <td>74</td>\n",
       "      <td>65</td>\n",
       "      <td>...</td>\n",
       "      <td>9</td>\n",
       "      <td>77</td>\n",
       "      <td>1</td>\n",
       "      <td>22</td>\n",
       "      <td>59</td>\n",
       "      <td>19</td>\n",
       "      <td>348</td>\n",
       "      <td>1</td>\n",
       "      <td>5</td>\n",
       "      <td>11</td>\n",
       "    </tr>\n",
       "    <tr>\n",
       "      <th>4</th>\n",
       "      <td>42660</td>\n",
       "      <td>4</td>\n",
       "      <td>Seattle</td>\n",
       "      <td>Seattle-Tacoma-Bellevue, WA</td>\n",
       "      <td>66</td>\n",
       "      <td>4</td>\n",
       "      <td>83</td>\n",
       "      <td>45</td>\n",
       "      <td>73</td>\n",
       "      <td>57</td>\n",
       "      <td>...</td>\n",
       "      <td>6</td>\n",
       "      <td>77</td>\n",
       "      <td>1</td>\n",
       "      <td>12</td>\n",
       "      <td>16</td>\n",
       "      <td>9</td>\n",
       "      <td>114</td>\n",
       "      <td>122</td>\n",
       "      <td>3</td>\n",
       "      <td>-2</td>\n",
       "    </tr>\n",
       "    <tr>\n",
       "      <th>5</th>\n",
       "      <td>31540</td>\n",
       "      <td>2</td>\n",
       "      <td>Madison</td>\n",
       "      <td>Madison, WI</td>\n",
       "      <td>66</td>\n",
       "      <td>5</td>\n",
       "      <td>63</td>\n",
       "      <td>50</td>\n",
       "      <td>72</td>\n",
       "      <td>76</td>\n",
       "      <td>...</td>\n",
       "      <td>19</td>\n",
       "      <td>77</td>\n",
       "      <td>1</td>\n",
       "      <td>13</td>\n",
       "      <td>59</td>\n",
       "      <td>-9</td>\n",
       "      <td>228</td>\n",
       "      <td>147</td>\n",
       "      <td>2</td>\n",
       "      <td>2</td>\n",
       "    </tr>\n",
       "  </tbody>\n",
       "</table>\n",
       "<p>5 rows × 135 columns</p>\n",
       "</div>"
      ],
      "text/plain": [
       "    CBSA Region           City                                    City_State  \\\n",
       "1  41860      4  San Francisco             San Francisco-Oakland-Hayward, CA   \n",
       "2  41940      4       San Jose            San Jose-Sunnyvale-Santa Clara, CA   \n",
       "3  47900      3     Washington  Washington-Arlington-Alexandria, DC-VA-MD-WV   \n",
       "4  42660      4        Seattle                   Seattle-Tacoma-Bellevue, WA   \n",
       "5  31540      2        Madison                                   Madison, WI   \n",
       "\n",
       "  Overall Score Rank 1_Poverty 2_Hunger 3_Health 4_Education  ... 125 126 127  \\\n",
       "1            70    1        84       68       86          61  ...  10  82   1   \n",
       "2            68    2        87       74       90          65  ...   7  79   0   \n",
       "3            67    3        84       56       74          65  ...   9  77   1   \n",
       "4            66    4        83       45       73          57  ...   6  77   1   \n",
       "5            66    5        63       50       72          76  ...  19  77   1   \n",
       "\n",
       "  128 129 130  131  132 133 134  \n",
       "1  20  53   7  455   55   4   6  \n",
       "2  14  87   4  594   71   2   0  \n",
       "3  22  59  19  348    1   5  11  \n",
       "4  12  16   9  114  122   3  -2  \n",
       "5  13  59  -9  228  147   2   2  \n",
       "\n",
       "[5 rows x 135 columns]"
      ]
     },
     "execution_count": 1950,
     "metadata": {},
     "output_type": "execute_result"
    }
   ],
   "source": [
    "mydf = mydf.drop(mydf.index[0], axis=0) \n",
    "mydf.head()"
   ]
  },
  {
   "cell_type": "code",
   "execution_count": 1951,
   "metadata": {},
   "outputs": [
    {
     "data": {
      "text/html": [
       "<div>\n",
       "<style scoped>\n",
       "    .dataframe tbody tr th:only-of-type {\n",
       "        vertical-align: middle;\n",
       "    }\n",
       "\n",
       "    .dataframe tbody tr th {\n",
       "        vertical-align: top;\n",
       "    }\n",
       "\n",
       "    .dataframe thead th {\n",
       "        text-align: right;\n",
       "    }\n",
       "</style>\n",
       "<table border=\"1\" class=\"dataframe\">\n",
       "  <thead>\n",
       "    <tr style=\"text-align: right;\">\n",
       "      <th></th>\n",
       "      <th>CBSA</th>\n",
       "      <th>Region</th>\n",
       "      <th>City</th>\n",
       "      <th>City_State</th>\n",
       "      <th>Overall Score</th>\n",
       "      <th>Rank</th>\n",
       "      <th>1_Poverty</th>\n",
       "      <th>2_Hunger</th>\n",
       "      <th>3_Health</th>\n",
       "      <th>4_Education</th>\n",
       "      <th>...</th>\n",
       "      <th>6_Clean Water</th>\n",
       "      <th>7_Energy Afforability</th>\n",
       "      <th>8_Economy</th>\n",
       "      <th>9_Industry</th>\n",
       "      <th>10_Reduced Inequality</th>\n",
       "      <th>11_Community_Sustainability</th>\n",
       "      <th>12_Consumtion_Production</th>\n",
       "      <th>13_Climate Action</th>\n",
       "      <th>15_Life_on_Land</th>\n",
       "      <th>16_Justice</th>\n",
       "    </tr>\n",
       "  </thead>\n",
       "  <tbody>\n",
       "    <tr>\n",
       "      <th>1</th>\n",
       "      <td>41860</td>\n",
       "      <td>4</td>\n",
       "      <td>San Francisco</td>\n",
       "      <td>San Francisco-Oakland-Hayward, CA</td>\n",
       "      <td>70</td>\n",
       "      <td>1</td>\n",
       "      <td>84</td>\n",
       "      <td>68</td>\n",
       "      <td>86</td>\n",
       "      <td>61</td>\n",
       "      <td>...</td>\n",
       "      <td>91</td>\n",
       "      <td>35</td>\n",
       "      <td>79</td>\n",
       "      <td>83</td>\n",
       "      <td>61</td>\n",
       "      <td>60</td>\n",
       "      <td>51</td>\n",
       "      <td>85</td>\n",
       "      <td>76</td>\n",
       "      <td>64</td>\n",
       "    </tr>\n",
       "    <tr>\n",
       "      <th>2</th>\n",
       "      <td>41940</td>\n",
       "      <td>4</td>\n",
       "      <td>San Jose</td>\n",
       "      <td>San Jose-Sunnyvale-Santa Clara, CA</td>\n",
       "      <td>68</td>\n",
       "      <td>2</td>\n",
       "      <td>87</td>\n",
       "      <td>74</td>\n",
       "      <td>90</td>\n",
       "      <td>65</td>\n",
       "      <td>...</td>\n",
       "      <td>53</td>\n",
       "      <td>36</td>\n",
       "      <td>90</td>\n",
       "      <td>87</td>\n",
       "      <td>78</td>\n",
       "      <td>47</td>\n",
       "      <td>73</td>\n",
       "      <td>57</td>\n",
       "      <td>81</td>\n",
       "      <td>69</td>\n",
       "    </tr>\n",
       "    <tr>\n",
       "      <th>3</th>\n",
       "      <td>47900</td>\n",
       "      <td>3</td>\n",
       "      <td>Washington</td>\n",
       "      <td>Washington-Arlington-Alexandria, DC-VA-MD-WV</td>\n",
       "      <td>67</td>\n",
       "      <td>3</td>\n",
       "      <td>84</td>\n",
       "      <td>56</td>\n",
       "      <td>74</td>\n",
       "      <td>65</td>\n",
       "      <td>...</td>\n",
       "      <td>86</td>\n",
       "      <td>41</td>\n",
       "      <td>53</td>\n",
       "      <td>56</td>\n",
       "      <td>74</td>\n",
       "      <td>59</td>\n",
       "      <td>69</td>\n",
       "      <td>82</td>\n",
       "      <td>82</td>\n",
       "      <td>69</td>\n",
       "    </tr>\n",
       "    <tr>\n",
       "      <th>4</th>\n",
       "      <td>42660</td>\n",
       "      <td>4</td>\n",
       "      <td>Seattle</td>\n",
       "      <td>Seattle-Tacoma-Bellevue, WA</td>\n",
       "      <td>66</td>\n",
       "      <td>4</td>\n",
       "      <td>83</td>\n",
       "      <td>45</td>\n",
       "      <td>73</td>\n",
       "      <td>57</td>\n",
       "      <td>...</td>\n",
       "      <td>66</td>\n",
       "      <td>63</td>\n",
       "      <td>73</td>\n",
       "      <td>72</td>\n",
       "      <td>66</td>\n",
       "      <td>58</td>\n",
       "      <td>53</td>\n",
       "      <td>88</td>\n",
       "      <td>52</td>\n",
       "      <td>85</td>\n",
       "    </tr>\n",
       "    <tr>\n",
       "      <th>5</th>\n",
       "      <td>31540</td>\n",
       "      <td>2</td>\n",
       "      <td>Madison</td>\n",
       "      <td>Madison, WI</td>\n",
       "      <td>66</td>\n",
       "      <td>5</td>\n",
       "      <td>63</td>\n",
       "      <td>50</td>\n",
       "      <td>72</td>\n",
       "      <td>76</td>\n",
       "      <td>...</td>\n",
       "      <td>67</td>\n",
       "      <td>40</td>\n",
       "      <td>79</td>\n",
       "      <td>58</td>\n",
       "      <td>78</td>\n",
       "      <td>59</td>\n",
       "      <td>83</td>\n",
       "      <td>64</td>\n",
       "      <td>70</td>\n",
       "      <td>78</td>\n",
       "    </tr>\n",
       "  </tbody>\n",
       "</table>\n",
       "<p>5 rows × 21 columns</p>\n",
       "</div>"
      ],
      "text/plain": [
       "    CBSA Region           City                                    City_State  \\\n",
       "1  41860      4  San Francisco             San Francisco-Oakland-Hayward, CA   \n",
       "2  41940      4       San Jose            San Jose-Sunnyvale-Santa Clara, CA   \n",
       "3  47900      3     Washington  Washington-Arlington-Alexandria, DC-VA-MD-WV   \n",
       "4  42660      4        Seattle                   Seattle-Tacoma-Bellevue, WA   \n",
       "5  31540      2        Madison                                   Madison, WI   \n",
       "\n",
       "  Overall Score Rank 1_Poverty 2_Hunger 3_Health 4_Education  ...  \\\n",
       "1            70    1        84       68       86          61  ...   \n",
       "2            68    2        87       74       90          65  ...   \n",
       "3            67    3        84       56       74          65  ...   \n",
       "4            66    4        83       45       73          57  ...   \n",
       "5            66    5        63       50       72          76  ...   \n",
       "\n",
       "  6_Clean Water 7_Energy Afforability 8_Economy 9_Industry  \\\n",
       "1            91                    35        79         83   \n",
       "2            53                    36        90         87   \n",
       "3            86                    41        53         56   \n",
       "4            66                    63        73         72   \n",
       "5            67                    40        79         58   \n",
       "\n",
       "  10_Reduced Inequality 11_Community_Sustainability 12_Consumtion_Production  \\\n",
       "1                    61                          60                       51   \n",
       "2                    78                          47                       73   \n",
       "3                    74                          59                       69   \n",
       "4                    66                          58                       53   \n",
       "5                    78                          59                       83   \n",
       "\n",
       "  13_Climate Action 15_Life_on_Land 16_Justice  \n",
       "1                85              76         64  \n",
       "2                57              81         69  \n",
       "3                82              82         69  \n",
       "4                88              52         85  \n",
       "5                64              70         78  \n",
       "\n",
       "[5 rows x 21 columns]"
      ]
     },
     "execution_count": 1951,
     "metadata": {},
     "output_type": "execute_result"
    }
   ],
   "source": [
    "mydf = mydf.iloc[0:135, 0:21]\n",
    "mydf.head()"
   ]
  },
  {
   "cell_type": "markdown",
   "metadata": {},
   "source": [
    "**Finding and handling null values**"
   ]
  },
  {
   "cell_type": "code",
   "execution_count": 1952,
   "metadata": {},
   "outputs": [
    {
     "data": {
      "text/plain": [
       "CBSA                           0\n",
       "Region                         0\n",
       "City                           0\n",
       "City_State                     0\n",
       "Overall Score                  0\n",
       "Rank                           0\n",
       "1_Poverty                      0\n",
       "2_Hunger                       0\n",
       "3_Health                       0\n",
       "4_Education                    0\n",
       "5_Gender Equality              0\n",
       "6_Clean Water                  0\n",
       "7_Energy Afforability          0\n",
       "8_Economy                      0\n",
       "9_Industry                     0\n",
       "10_Reduced Inequality          0\n",
       "11_Community_Sustainability    0\n",
       "12_Consumtion_Production       0\n",
       "13_Climate Action              0\n",
       "15_Life_on_Land                1\n",
       "16_Justice                     0\n",
       "dtype: int64"
      ]
     },
     "execution_count": 1952,
     "metadata": {},
     "output_type": "execute_result"
    }
   ],
   "source": [
    "mydf.isnull().sum()"
   ]
  },
  {
   "cell_type": "code",
   "execution_count": 1953,
   "metadata": {},
   "outputs": [
    {
     "data": {
      "text/plain": [
       "array(['76', '81', '82', '52', '70', '83', '92', '72', '65', '79', '100',\n",
       "       '99', '54', '98', '78', '88', '74', '97', '51', '64', '59', nan,\n",
       "       '71', '84', '56', '96', '87', '47', '94', '90', '30', '62', '0',\n",
       "       '75', '42', '58', '3', '36', '57', '34', '69', '46', '67', '41',\n",
       "       '89', '49', '37', '66', '63', '53', '68', '40', '61', '35'],\n",
       "      dtype=object)"
      ]
     },
     "execution_count": 1953,
     "metadata": {},
     "output_type": "execute_result"
    }
   ],
   "source": [
    "mydf[\"15_Life_on_Land\"].unique()"
   ]
  },
  {
   "cell_type": "code",
   "execution_count": 1954,
   "metadata": {
    "scrolled": true
   },
   "outputs": [
    {
     "data": {
      "text/plain": [
       "100    13\n",
       "99      9\n",
       "98      8\n",
       "65      4\n",
       "94      3\n",
       "Name: 15_Life_on_Land, dtype: int64"
      ]
     },
     "execution_count": 1954,
     "metadata": {},
     "output_type": "execute_result"
    }
   ],
   "source": [
    "mydf[\"15_Life_on_Land\"].value_counts().head()"
   ]
  },
  {
   "cell_type": "code",
   "execution_count": 1955,
   "metadata": {},
   "outputs": [],
   "source": [
    "mydf[\"15_Life_on_Land\"] = mydf[\"15_Life_on_Land\"].fillna(\"100\")"
   ]
  },
  {
   "cell_type": "code",
   "execution_count": 1956,
   "metadata": {},
   "outputs": [
    {
     "data": {
      "text/html": [
       "<div>\n",
       "<style scoped>\n",
       "    .dataframe tbody tr th:only-of-type {\n",
       "        vertical-align: middle;\n",
       "    }\n",
       "\n",
       "    .dataframe tbody tr th {\n",
       "        vertical-align: top;\n",
       "    }\n",
       "\n",
       "    .dataframe thead th {\n",
       "        text-align: right;\n",
       "    }\n",
       "</style>\n",
       "<table border=\"1\" class=\"dataframe\">\n",
       "  <thead>\n",
       "    <tr style=\"text-align: right;\">\n",
       "      <th></th>\n",
       "      <th>CBSA</th>\n",
       "      <th>Region</th>\n",
       "      <th>City</th>\n",
       "      <th>City_State</th>\n",
       "      <th>Overall Score</th>\n",
       "      <th>Rank</th>\n",
       "      <th>1_Poverty</th>\n",
       "      <th>2_Hunger</th>\n",
       "      <th>3_Health</th>\n",
       "      <th>4_Education</th>\n",
       "      <th>...</th>\n",
       "      <th>6_Clean Water</th>\n",
       "      <th>7_Energy Afforability</th>\n",
       "      <th>8_Economy</th>\n",
       "      <th>9_Industry</th>\n",
       "      <th>10_Reduced Inequality</th>\n",
       "      <th>11_Community_Sustainability</th>\n",
       "      <th>12_Consumtion_Production</th>\n",
       "      <th>13_Climate Action</th>\n",
       "      <th>15_Life_on_Land</th>\n",
       "      <th>16_Justice</th>\n",
       "    </tr>\n",
       "  </thead>\n",
       "  <tbody>\n",
       "  </tbody>\n",
       "</table>\n",
       "<p>0 rows × 21 columns</p>\n",
       "</div>"
      ],
      "text/plain": [
       "Empty DataFrame\n",
       "Columns: [CBSA, Region, City, City_State, Overall Score, Rank, 1_Poverty, 2_Hunger, 3_Health, 4_Education, 5_Gender Equality, 6_Clean Water, 7_Energy Afforability, 8_Economy, 9_Industry, 10_Reduced Inequality, 11_Community_Sustainability, 12_Consumtion_Production, 13_Climate Action, 15_Life_on_Land, 16_Justice]\n",
       "Index: []\n",
       "\n",
       "[0 rows x 21 columns]"
      ]
     },
     "execution_count": 1956,
     "metadata": {},
     "output_type": "execute_result"
    }
   ],
   "source": [
    "mydf[mydf.isnull().any(axis=1)]"
   ]
  },
  {
   "cell_type": "markdown",
   "metadata": {},
   "source": [
    "**Encoding Categorical Variables:**"
   ]
  },
  {
   "cell_type": "code",
   "execution_count": 1957,
   "metadata": {},
   "outputs": [
    {
     "data": {
      "text/plain": [
       "array(['4', '3', '2', '1'], dtype=object)"
      ]
     },
     "execution_count": 1957,
     "metadata": {},
     "output_type": "execute_result"
    }
   ],
   "source": [
    "mydf[\"Region\"].unique()"
   ]
  },
  {
   "cell_type": "code",
   "execution_count": 1958,
   "metadata": {},
   "outputs": [],
   "source": [
    "feature_mydf= pd.DataFrame(mydf[\"Region\"])"
   ]
  },
  {
   "cell_type": "code",
   "execution_count": 1959,
   "metadata": {},
   "outputs": [
    {
     "data": {
      "text/html": [
       "<div>\n",
       "<style scoped>\n",
       "    .dataframe tbody tr th:only-of-type {\n",
       "        vertical-align: middle;\n",
       "    }\n",
       "\n",
       "    .dataframe tbody tr th {\n",
       "        vertical-align: top;\n",
       "    }\n",
       "\n",
       "    .dataframe thead th {\n",
       "        text-align: right;\n",
       "    }\n",
       "</style>\n",
       "<table border=\"1\" class=\"dataframe\">\n",
       "  <thead>\n",
       "    <tr style=\"text-align: right;\">\n",
       "      <th></th>\n",
       "      <th>Region</th>\n",
       "    </tr>\n",
       "  </thead>\n",
       "  <tbody>\n",
       "    <tr>\n",
       "      <th>1</th>\n",
       "      <td>4</td>\n",
       "    </tr>\n",
       "    <tr>\n",
       "      <th>2</th>\n",
       "      <td>4</td>\n",
       "    </tr>\n",
       "    <tr>\n",
       "      <th>3</th>\n",
       "      <td>3</td>\n",
       "    </tr>\n",
       "    <tr>\n",
       "      <th>4</th>\n",
       "      <td>4</td>\n",
       "    </tr>\n",
       "    <tr>\n",
       "      <th>5</th>\n",
       "      <td>2</td>\n",
       "    </tr>\n",
       "  </tbody>\n",
       "</table>\n",
       "</div>"
      ],
      "text/plain": [
       "  Region\n",
       "1      4\n",
       "2      4\n",
       "3      3\n",
       "4      4\n",
       "5      2"
      ]
     },
     "execution_count": 1959,
     "metadata": {},
     "output_type": "execute_result"
    }
   ],
   "source": [
    "feature_mydf.head()"
   ]
  },
  {
   "cell_type": "code",
   "execution_count": 1960,
   "metadata": {},
   "outputs": [
    {
     "data": {
      "text/html": [
       "<div>\n",
       "<style scoped>\n",
       "    .dataframe tbody tr th:only-of-type {\n",
       "        vertical-align: middle;\n",
       "    }\n",
       "\n",
       "    .dataframe tbody tr th {\n",
       "        vertical-align: top;\n",
       "    }\n",
       "\n",
       "    .dataframe thead th {\n",
       "        text-align: right;\n",
       "    }\n",
       "</style>\n",
       "<table border=\"1\" class=\"dataframe\">\n",
       "  <thead>\n",
       "    <tr style=\"text-align: right;\">\n",
       "      <th></th>\n",
       "      <th>1</th>\n",
       "      <th>2</th>\n",
       "      <th>3</th>\n",
       "      <th>4</th>\n",
       "    </tr>\n",
       "  </thead>\n",
       "  <tbody>\n",
       "    <tr>\n",
       "      <th>1</th>\n",
       "      <td>0</td>\n",
       "      <td>0</td>\n",
       "      <td>0</td>\n",
       "      <td>1</td>\n",
       "    </tr>\n",
       "    <tr>\n",
       "      <th>2</th>\n",
       "      <td>0</td>\n",
       "      <td>0</td>\n",
       "      <td>0</td>\n",
       "      <td>1</td>\n",
       "    </tr>\n",
       "    <tr>\n",
       "      <th>3</th>\n",
       "      <td>0</td>\n",
       "      <td>0</td>\n",
       "      <td>1</td>\n",
       "      <td>0</td>\n",
       "    </tr>\n",
       "    <tr>\n",
       "      <th>4</th>\n",
       "      <td>0</td>\n",
       "      <td>0</td>\n",
       "      <td>0</td>\n",
       "      <td>1</td>\n",
       "    </tr>\n",
       "    <tr>\n",
       "      <th>5</th>\n",
       "      <td>0</td>\n",
       "      <td>1</td>\n",
       "      <td>0</td>\n",
       "      <td>0</td>\n",
       "    </tr>\n",
       "  </tbody>\n",
       "</table>\n",
       "</div>"
      ],
      "text/plain": [
       "   1  2  3  4\n",
       "1  0  0  0  1\n",
       "2  0  0  0  1\n",
       "3  0  0  1  0\n",
       "4  0  0  0  1\n",
       "5  0  1  0  0"
      ]
     },
     "execution_count": 1960,
     "metadata": {},
     "output_type": "execute_result"
    }
   ],
   "source": [
    "encoded = pd.get_dummies(feature_mydf[\"Region\"])\n",
    "encoded.head()"
   ]
  },
  {
   "cell_type": "markdown",
   "metadata": {},
   "source": [
    "**Binning large range categorical Variables:**"
   ]
  },
  {
   "cell_type": "code",
   "execution_count": 1961,
   "metadata": {},
   "outputs": [],
   "source": [
    "mydf[\"Rank\"]=mydf[\"Rank\"].astype(float)\n",
    "mydf[\"1_Poverty\"]=mydf[\"1_Poverty\"].astype(float)\n",
    "mydf[\"2_Hunger\"]=mydf[\"2_Hunger\"].astype(float)\n",
    "mydf[\"3_Health\"]=mydf[\"3_Health\"].astype(float)\n",
    "mydf[\"4_Education\"]=mydf[\"4_Education\"].astype(float)\n",
    "mydf[\"5_Gender Equality\"]=mydf[\"5_Gender Equality\"].astype(float)\n",
    "mydf[\"6_Clean Water\"]=mydf[\"6_Clean Water\"].astype(float)\n",
    "mydf[\"7_Energy Afforability\"]=mydf[\"7_Energy Afforability\"].astype(float)\n",
    "mydf[\"8_Economy\"]=mydf[\"8_Economy\"].astype(float)\n",
    "mydf[\"9_Industry\"]=mydf[\"9_Industry\"].astype(float)\n",
    "mydf[\"10_Reduced Inequality\"]=mydf[\"10_Reduced Inequality\"].astype(float)\n",
    "mydf[\"11_Community_Sustainability\"]=mydf[\"11_Community_Sustainability\"].astype(float)\n",
    "mydf[\"12_Consumtion_Production\"]=mydf[\"12_Consumtion_Production\"].astype(float)\n",
    "mydf[\"13_Climate Action\"]=mydf[\"13_Climate Action\"].astype(float)\n",
    "mydf[\"15_Life_on_Land\"]=mydf[\"15_Life_on_Land\"].astype(float)\n",
    "mydf[\"16_Justice\"]=mydf[\"16_Justice\"].astype(float)\n",
    "mydf[\"Overall Score\"]=mydf[\"Overall Score\"].astype(float)"
   ]
  },
  {
   "cell_type": "code",
   "execution_count": 1962,
   "metadata": {
    "scrolled": true
   },
   "outputs": [
    {
     "data": {
      "text/html": [
       "<div>\n",
       "<style scoped>\n",
       "    .dataframe tbody tr th:only-of-type {\n",
       "        vertical-align: middle;\n",
       "    }\n",
       "\n",
       "    .dataframe tbody tr th {\n",
       "        vertical-align: top;\n",
       "    }\n",
       "\n",
       "    .dataframe thead th {\n",
       "        text-align: right;\n",
       "    }\n",
       "</style>\n",
       "<table border=\"1\" class=\"dataframe\">\n",
       "  <thead>\n",
       "    <tr style=\"text-align: right;\">\n",
       "      <th></th>\n",
       "      <th>Overall Score</th>\n",
       "      <th>Rank</th>\n",
       "      <th>1_Poverty</th>\n",
       "      <th>2_Hunger</th>\n",
       "      <th>3_Health</th>\n",
       "      <th>4_Education</th>\n",
       "      <th>5_Gender Equality</th>\n",
       "      <th>6_Clean Water</th>\n",
       "      <th>7_Energy Afforability</th>\n",
       "      <th>8_Economy</th>\n",
       "      <th>9_Industry</th>\n",
       "      <th>10_Reduced Inequality</th>\n",
       "      <th>11_Community_Sustainability</th>\n",
       "      <th>12_Consumtion_Production</th>\n",
       "      <th>13_Climate Action</th>\n",
       "      <th>15_Life_on_Land</th>\n",
       "      <th>16_Justice</th>\n",
       "    </tr>\n",
       "  </thead>\n",
       "  <tbody>\n",
       "    <tr>\n",
       "      <th>count</th>\n",
       "      <td>105.000000</td>\n",
       "      <td>105.000000</td>\n",
       "      <td>105.000000</td>\n",
       "      <td>105.000000</td>\n",
       "      <td>105.000000</td>\n",
       "      <td>105.000000</td>\n",
       "      <td>105.000000</td>\n",
       "      <td>105.000000</td>\n",
       "      <td>105.000000</td>\n",
       "      <td>105.000000</td>\n",
       "      <td>105.000000</td>\n",
       "      <td>105.000000</td>\n",
       "      <td>105.000000</td>\n",
       "      <td>105.000000</td>\n",
       "      <td>105.000000</td>\n",
       "      <td>105.000000</td>\n",
       "      <td>105.000000</td>\n",
       "    </tr>\n",
       "    <tr>\n",
       "      <th>mean</th>\n",
       "      <td>48.819048</td>\n",
       "      <td>53.000000</td>\n",
       "      <td>46.742857</td>\n",
       "      <td>36.380952</td>\n",
       "      <td>49.476190</td>\n",
       "      <td>42.571429</td>\n",
       "      <td>37.342857</td>\n",
       "      <td>77.342857</td>\n",
       "      <td>28.552381</td>\n",
       "      <td>53.076190</td>\n",
       "      <td>36.609524</td>\n",
       "      <td>54.571429</td>\n",
       "      <td>46.057143</td>\n",
       "      <td>62.828571</td>\n",
       "      <td>41.657143</td>\n",
       "      <td>74.657143</td>\n",
       "      <td>45.352381</td>\n",
       "    </tr>\n",
       "    <tr>\n",
       "      <th>std</th>\n",
       "      <td>7.739485</td>\n",
       "      <td>30.454885</td>\n",
       "      <td>20.768888</td>\n",
       "      <td>14.218339</td>\n",
       "      <td>16.356071</td>\n",
       "      <td>12.742914</td>\n",
       "      <td>15.020389</td>\n",
       "      <td>12.745156</td>\n",
       "      <td>13.308457</td>\n",
       "      <td>16.952816</td>\n",
       "      <td>17.181439</td>\n",
       "      <td>11.514086</td>\n",
       "      <td>7.873799</td>\n",
       "      <td>11.537112</td>\n",
       "      <td>23.729578</td>\n",
       "      <td>24.275989</td>\n",
       "      <td>16.336592</td>\n",
       "    </tr>\n",
       "    <tr>\n",
       "      <th>min</th>\n",
       "      <td>30.000000</td>\n",
       "      <td>1.000000</td>\n",
       "      <td>0.000000</td>\n",
       "      <td>7.000000</td>\n",
       "      <td>18.000000</td>\n",
       "      <td>16.000000</td>\n",
       "      <td>1.000000</td>\n",
       "      <td>26.000000</td>\n",
       "      <td>10.000000</td>\n",
       "      <td>7.000000</td>\n",
       "      <td>0.000000</td>\n",
       "      <td>25.000000</td>\n",
       "      <td>22.000000</td>\n",
       "      <td>29.000000</td>\n",
       "      <td>0.000000</td>\n",
       "      <td>0.000000</td>\n",
       "      <td>4.000000</td>\n",
       "    </tr>\n",
       "    <tr>\n",
       "      <th>25%</th>\n",
       "      <td>43.000000</td>\n",
       "      <td>27.000000</td>\n",
       "      <td>30.000000</td>\n",
       "      <td>26.000000</td>\n",
       "      <td>36.000000</td>\n",
       "      <td>33.000000</td>\n",
       "      <td>28.000000</td>\n",
       "      <td>68.000000</td>\n",
       "      <td>18.000000</td>\n",
       "      <td>44.000000</td>\n",
       "      <td>24.000000</td>\n",
       "      <td>46.000000</td>\n",
       "      <td>42.000000</td>\n",
       "      <td>56.000000</td>\n",
       "      <td>23.000000</td>\n",
       "      <td>58.000000</td>\n",
       "      <td>34.000000</td>\n",
       "    </tr>\n",
       "    <tr>\n",
       "      <th>50%</th>\n",
       "      <td>48.000000</td>\n",
       "      <td>53.000000</td>\n",
       "      <td>45.000000</td>\n",
       "      <td>36.000000</td>\n",
       "      <td>50.000000</td>\n",
       "      <td>42.000000</td>\n",
       "      <td>38.000000</td>\n",
       "      <td>80.000000</td>\n",
       "      <td>27.000000</td>\n",
       "      <td>53.000000</td>\n",
       "      <td>35.000000</td>\n",
       "      <td>55.000000</td>\n",
       "      <td>47.000000</td>\n",
       "      <td>64.000000</td>\n",
       "      <td>36.000000</td>\n",
       "      <td>78.000000</td>\n",
       "      <td>44.000000</td>\n",
       "    </tr>\n",
       "    <tr>\n",
       "      <th>75%</th>\n",
       "      <td>53.000000</td>\n",
       "      <td>79.000000</td>\n",
       "      <td>63.000000</td>\n",
       "      <td>45.000000</td>\n",
       "      <td>60.000000</td>\n",
       "      <td>50.000000</td>\n",
       "      <td>50.000000</td>\n",
       "      <td>87.000000</td>\n",
       "      <td>34.000000</td>\n",
       "      <td>64.000000</td>\n",
       "      <td>45.000000</td>\n",
       "      <td>63.000000</td>\n",
       "      <td>51.000000</td>\n",
       "      <td>72.000000</td>\n",
       "      <td>64.000000</td>\n",
       "      <td>98.000000</td>\n",
       "      <td>56.000000</td>\n",
       "    </tr>\n",
       "    <tr>\n",
       "      <th>max</th>\n",
       "      <td>70.000000</td>\n",
       "      <td>105.000000</td>\n",
       "      <td>87.000000</td>\n",
       "      <td>74.000000</td>\n",
       "      <td>90.000000</td>\n",
       "      <td>76.000000</td>\n",
       "      <td>67.000000</td>\n",
       "      <td>93.000000</td>\n",
       "      <td>78.000000</td>\n",
       "      <td>94.000000</td>\n",
       "      <td>87.000000</td>\n",
       "      <td>80.000000</td>\n",
       "      <td>60.000000</td>\n",
       "      <td>86.000000</td>\n",
       "      <td>88.000000</td>\n",
       "      <td>100.000000</td>\n",
       "      <td>95.000000</td>\n",
       "    </tr>\n",
       "  </tbody>\n",
       "</table>\n",
       "</div>"
      ],
      "text/plain": [
       "       Overall Score        Rank   1_Poverty    2_Hunger    3_Health  \\\n",
       "count     105.000000  105.000000  105.000000  105.000000  105.000000   \n",
       "mean       48.819048   53.000000   46.742857   36.380952   49.476190   \n",
       "std         7.739485   30.454885   20.768888   14.218339   16.356071   \n",
       "min        30.000000    1.000000    0.000000    7.000000   18.000000   \n",
       "25%        43.000000   27.000000   30.000000   26.000000   36.000000   \n",
       "50%        48.000000   53.000000   45.000000   36.000000   50.000000   \n",
       "75%        53.000000   79.000000   63.000000   45.000000   60.000000   \n",
       "max        70.000000  105.000000   87.000000   74.000000   90.000000   \n",
       "\n",
       "       4_Education  5_Gender Equality  6_Clean Water  7_Energy Afforability  \\\n",
       "count   105.000000         105.000000     105.000000             105.000000   \n",
       "mean     42.571429          37.342857      77.342857              28.552381   \n",
       "std      12.742914          15.020389      12.745156              13.308457   \n",
       "min      16.000000           1.000000      26.000000              10.000000   \n",
       "25%      33.000000          28.000000      68.000000              18.000000   \n",
       "50%      42.000000          38.000000      80.000000              27.000000   \n",
       "75%      50.000000          50.000000      87.000000              34.000000   \n",
       "max      76.000000          67.000000      93.000000              78.000000   \n",
       "\n",
       "        8_Economy  9_Industry  10_Reduced Inequality  \\\n",
       "count  105.000000  105.000000             105.000000   \n",
       "mean    53.076190   36.609524              54.571429   \n",
       "std     16.952816   17.181439              11.514086   \n",
       "min      7.000000    0.000000              25.000000   \n",
       "25%     44.000000   24.000000              46.000000   \n",
       "50%     53.000000   35.000000              55.000000   \n",
       "75%     64.000000   45.000000              63.000000   \n",
       "max     94.000000   87.000000              80.000000   \n",
       "\n",
       "       11_Community_Sustainability  12_Consumtion_Production  \\\n",
       "count                   105.000000                105.000000   \n",
       "mean                     46.057143                 62.828571   \n",
       "std                       7.873799                 11.537112   \n",
       "min                      22.000000                 29.000000   \n",
       "25%                      42.000000                 56.000000   \n",
       "50%                      47.000000                 64.000000   \n",
       "75%                      51.000000                 72.000000   \n",
       "max                      60.000000                 86.000000   \n",
       "\n",
       "       13_Climate Action  15_Life_on_Land  16_Justice  \n",
       "count         105.000000       105.000000  105.000000  \n",
       "mean           41.657143        74.657143   45.352381  \n",
       "std            23.729578        24.275989   16.336592  \n",
       "min             0.000000         0.000000    4.000000  \n",
       "25%            23.000000        58.000000   34.000000  \n",
       "50%            36.000000        78.000000   44.000000  \n",
       "75%            64.000000        98.000000   56.000000  \n",
       "max            88.000000       100.000000   95.000000  "
      ]
     },
     "execution_count": 1962,
     "metadata": {},
     "output_type": "execute_result"
    }
   ],
   "source": [
    "mydf.describe()"
   ]
  },
  {
   "cell_type": "code",
   "execution_count": 1963,
   "metadata": {
    "scrolled": true
   },
   "outputs": [
    {
     "data": {
      "text/plain": [
       "<matplotlib.axes._subplots.AxesSubplot at 0x1c31521c978>"
      ]
     },
     "execution_count": 1963,
     "metadata": {},
     "output_type": "execute_result"
    },
    {
     "data": {
      "image/png": "[encoded data removed]",
      "text/plain": [
       "<Figure size 432x288 with 1 Axes>"
      ]
     },
     "metadata": {
      "needs_background": "light"
     },
     "output_type": "display_data"
    }
   ],
   "source": [
    "mydf[\"Overall Score\"].plot(kind='hist', title='Overall Score')"
   ]
  },
  {
   "cell_type": "code",
   "execution_count": 1964,
   "metadata": {},
   "outputs": [],
   "source": [
    "bins = [30, 40, 50, 60, 70]"
   ]
  },
  {
   "cell_type": "code",
   "execution_count": 1965,
   "metadata": {
    "scrolled": true
   },
   "outputs": [
    {
     "data": {
      "text/plain": [
       "1    (60, 70]\n",
       "2    (60, 70]\n",
       "3    (60, 70]\n",
       "4    (60, 70]\n",
       "5    (60, 70]\n",
       "Name: Overall Score, dtype: category\n",
       "Categories (4, interval[int64]): [(30, 40] < (40, 50] < (50, 60] < (60, 70]]"
      ]
     },
     "execution_count": 1965,
     "metadata": {},
     "output_type": "execute_result"
    }
   ],
   "source": [
    "pd.cut(mydf[\"Overall Score\"], bins).head()"
   ]
  },
  {
   "cell_type": "code",
   "execution_count": 1966,
   "metadata": {},
   "outputs": [
    {
     "data": {
      "text/plain": [
       "[30, 40, 50, 60, 70]"
      ]
     },
     "execution_count": 1966,
     "metadata": {},
     "output_type": "execute_result"
    }
   ],
   "source": [
    "bins"
   ]
  },
  {
   "cell_type": "code",
   "execution_count": 1967,
   "metadata": {},
   "outputs": [],
   "source": [
    "mydf[\"Overall Score\"] = pd.cut(mydf[\"Overall Score\"], bins=bins, labels=[\"30-40\", \"40-50\", \"50-60\", \"60-70\"])"
   ]
  },
  {
   "cell_type": "code",
   "execution_count": 1968,
   "metadata": {},
   "outputs": [
    {
     "name": "stderr",
     "output_type": "stream",
     "text": [
      "C:\\Users\\choin\\Anaconda3\\lib\\site-packages\\IPython\\core\\displayhook.py:271: UserWarning: Output cache limit (currently 1000 entries) hit.\n",
      "Flushing oldest 200 entries.\n",
      "  'Flushing oldest {cull_count} entries.'.format(sz=sz, cull_count=cull_count))\n"
     ]
    },
    {
     "data": {
      "text/html": [
       "<div>\n",
       "<style scoped>\n",
       "    .dataframe tbody tr th:only-of-type {\n",
       "        vertical-align: middle;\n",
       "    }\n",
       "\n",
       "    .dataframe tbody tr th {\n",
       "        vertical-align: top;\n",
       "    }\n",
       "\n",
       "    .dataframe thead th {\n",
       "        text-align: right;\n",
       "    }\n",
       "</style>\n",
       "<table border=\"1\" class=\"dataframe\">\n",
       "  <thead>\n",
       "    <tr style=\"text-align: right;\">\n",
       "      <th></th>\n",
       "      <th>Rank</th>\n",
       "      <th>1_Poverty</th>\n",
       "      <th>2_Hunger</th>\n",
       "      <th>3_Health</th>\n",
       "      <th>4_Education</th>\n",
       "      <th>5_Gender Equality</th>\n",
       "      <th>6_Clean Water</th>\n",
       "      <th>7_Energy Afforability</th>\n",
       "      <th>8_Economy</th>\n",
       "      <th>9_Industry</th>\n",
       "      <th>10_Reduced Inequality</th>\n",
       "      <th>11_Community_Sustainability</th>\n",
       "      <th>12_Consumtion_Production</th>\n",
       "      <th>13_Climate Action</th>\n",
       "      <th>15_Life_on_Land</th>\n",
       "      <th>16_Justice</th>\n",
       "    </tr>\n",
       "    <tr>\n",
       "      <th>Overall Score</th>\n",
       "      <th></th>\n",
       "      <th></th>\n",
       "      <th></th>\n",
       "      <th></th>\n",
       "      <th></th>\n",
       "      <th></th>\n",
       "      <th></th>\n",
       "      <th></th>\n",
       "      <th></th>\n",
       "      <th></th>\n",
       "      <th></th>\n",
       "      <th></th>\n",
       "      <th></th>\n",
       "      <th></th>\n",
       "      <th></th>\n",
       "      <th></th>\n",
       "    </tr>\n",
       "  </thead>\n",
       "  <tbody>\n",
       "    <tr>\n",
       "      <th>30-40</th>\n",
       "      <td>97.5</td>\n",
       "      <td>23.500000</td>\n",
       "      <td>20.214286</td>\n",
       "      <td>32.000000</td>\n",
       "      <td>29.571429</td>\n",
       "      <td>41.071429</td>\n",
       "      <td>72.428571</td>\n",
       "      <td>24.928571</td>\n",
       "      <td>36.214286</td>\n",
       "      <td>18.642857</td>\n",
       "      <td>45.214286</td>\n",
       "      <td>39.571429</td>\n",
       "      <td>65.071429</td>\n",
       "      <td>22.428571</td>\n",
       "      <td>77.714286</td>\n",
       "      <td>33.214286</td>\n",
       "    </tr>\n",
       "    <tr>\n",
       "      <th>40-50</th>\n",
       "      <td>62.0</td>\n",
       "      <td>41.192982</td>\n",
       "      <td>33.614035</td>\n",
       "      <td>44.736842</td>\n",
       "      <td>39.982456</td>\n",
       "      <td>36.807018</td>\n",
       "      <td>77.684211</td>\n",
       "      <td>26.684211</td>\n",
       "      <td>52.263158</td>\n",
       "      <td>32.298246</td>\n",
       "      <td>54.105263</td>\n",
       "      <td>44.754386</td>\n",
       "      <td>63.578947</td>\n",
       "      <td>37.859649</td>\n",
       "      <td>69.947368</td>\n",
       "      <td>41.473684</td>\n",
       "    </tr>\n",
       "    <tr>\n",
       "      <th>50-60</th>\n",
       "      <td>21.5</td>\n",
       "      <td>62.208333</td>\n",
       "      <td>46.041667</td>\n",
       "      <td>62.416667</td>\n",
       "      <td>50.416667</td>\n",
       "      <td>32.250000</td>\n",
       "      <td>79.416667</td>\n",
       "      <td>30.416667</td>\n",
       "      <td>58.708333</td>\n",
       "      <td>45.916667</td>\n",
       "      <td>55.916667</td>\n",
       "      <td>50.291667</td>\n",
       "      <td>61.000000</td>\n",
       "      <td>50.125000</td>\n",
       "      <td>85.666667</td>\n",
       "      <td>55.166667</td>\n",
       "    </tr>\n",
       "    <tr>\n",
       "      <th>60-70</th>\n",
       "      <td>5.0</td>\n",
       "      <td>79.333333</td>\n",
       "      <td>55.111111</td>\n",
       "      <td>74.888889</td>\n",
       "      <td>59.777778</td>\n",
       "      <td>49.777778</td>\n",
       "      <td>77.333333</td>\n",
       "      <td>42.444444</td>\n",
       "      <td>72.000000</td>\n",
       "      <td>68.888889</td>\n",
       "      <td>69.222222</td>\n",
       "      <td>53.777778</td>\n",
       "      <td>60.777778</td>\n",
       "      <td>77.000000</td>\n",
       "      <td>74.777778</td>\n",
       "      <td>66.888889</td>\n",
       "    </tr>\n",
       "  </tbody>\n",
       "</table>\n",
       "</div>"
      ],
      "text/plain": [
       "               Rank  1_Poverty   2_Hunger   3_Health  4_Education  \\\n",
       "Overall Score                                                       \n",
       "30-40          97.5  23.500000  20.214286  32.000000    29.571429   \n",
       "40-50          62.0  41.192982  33.614035  44.736842    39.982456   \n",
       "50-60          21.5  62.208333  46.041667  62.416667    50.416667   \n",
       "60-70           5.0  79.333333  55.111111  74.888889    59.777778   \n",
       "\n",
       "               5_Gender Equality  6_Clean Water  7_Energy Afforability  \\\n",
       "Overall Score                                                            \n",
       "30-40                  41.071429      72.428571              24.928571   \n",
       "40-50                  36.807018      77.684211              26.684211   \n",
       "50-60                  32.250000      79.416667              30.416667   \n",
       "60-70                  49.777778      77.333333              42.444444   \n",
       "\n",
       "               8_Economy  9_Industry  10_Reduced Inequality  \\\n",
       "Overall Score                                                 \n",
       "30-40          36.214286   18.642857              45.214286   \n",
       "40-50          52.263158   32.298246              54.105263   \n",
       "50-60          58.708333   45.916667              55.916667   \n",
       "60-70          72.000000   68.888889              69.222222   \n",
       "\n",
       "               11_Community_Sustainability  12_Consumtion_Production  \\\n",
       "Overall Score                                                          \n",
       "30-40                            39.571429                 65.071429   \n",
       "40-50                            44.754386                 63.578947   \n",
       "50-60                            50.291667                 61.000000   \n",
       "60-70                            53.777778                 60.777778   \n",
       "\n",
       "               13_Climate Action  15_Life_on_Land  16_Justice  \n",
       "Overall Score                                                  \n",
       "30-40                  22.428571        77.714286   33.214286  \n",
       "40-50                  37.859649        69.947368   41.473684  \n",
       "50-60                  50.125000        85.666667   55.166667  \n",
       "60-70                  77.000000        74.777778   66.888889  "
      ]
     },
     "execution_count": 1968,
     "metadata": {},
     "output_type": "execute_result"
    }
   ],
   "source": [
    "mydf_groupby=mydf.groupby(\"Overall Score\").mean()\n",
    "mydf_groupby"
   ]
  },
  {
   "cell_type": "markdown",
   "metadata": {},
   "source": [
    "## Exploratory Data Analysis \n",
    "- Examing the distribution of features\n",
    "- Feature normalization and scaling\n",
    "- Examining and plotting correlation between variables\n",
    "- Detecting and Handling outliers"
   ]
  },
  {
   "cell_type": "markdown",
   "metadata": {},
   "source": [
    "**Examining the distribution of features:**"
   ]
  },
  {
   "cell_type": "code",
   "execution_count": 1969,
   "metadata": {},
   "outputs": [
    {
     "data": {
      "text/plain": [
       "<matplotlib.axes._subplots.AxesSubplot at 0x1c3152326d8>"
      ]
     },
     "execution_count": 1969,
     "metadata": {},
     "output_type": "execute_result"
    },
    {
     "data": {
      "image/png": "[encoded data removed]",
      "text/plain": [
       "<Figure size 432x288 with 1 Axes>"
      ]
     },
     "metadata": {
      "needs_background": "light"
     },
     "output_type": "display_data"
    }
   ],
   "source": [
    "mydf_groupby.plot(kind='hist')"
   ]
  },
  {
   "cell_type": "code",
   "execution_count": 1970,
   "metadata": {},
   "outputs": [
    {
     "data": {
      "text/plain": [
       "<matplotlib.axes._subplots.AxesSubplot at 0x1c31b53c780>"
      ]
     },
     "execution_count": 1970,
     "metadata": {},
     "output_type": "execute_result"
    },
    {
     "data": {
      "image/png": "[encoded data removed]",
      "text/plain": [
       "<Figure size 432x288 with 1 Axes>"
      ]
     },
     "metadata": {
      "needs_background": "light"
     },
     "output_type": "display_data"
    }
   ],
   "source": [
    "mydf_groupby.boxplot()"
   ]
  },
  {
   "cell_type": "code",
   "execution_count": 1971,
   "metadata": {
    "scrolled": true
   },
   "outputs": [
    {
     "data": {
      "text/plain": [
       "<matplotlib.axes._subplots.AxesSubplot at 0x1c31b7320f0>"
      ]
     },
     "execution_count": 1971,
     "metadata": {},
     "output_type": "execute_result"
    },
    {
     "data": {
      "image/png": "[encoded data removed]",
      "text/plain": [
       "<Figure size 432x288 with 1 Axes>"
      ]
     },
     "metadata": {
      "needs_background": "light"
     },
     "output_type": "display_data"
    }
   ],
   "source": [
    "mydf[\"1_Poverty\"].plot(kind='density')"
   ]
  },
  {
   "cell_type": "code",
   "execution_count": 1972,
   "metadata": {},
   "outputs": [
    {
     "data": {
      "text/plain": [
       "<matplotlib.axes._subplots.AxesSubplot at 0x1c31b79ab70>"
      ]
     },
     "execution_count": 1972,
     "metadata": {},
     "output_type": "execute_result"
    },
    {
     "data": {
      "image/png": "[encoded data removed]",
      "text/plain": [
       "<Figure size 432x288 with 1 Axes>"
      ]
     },
     "metadata": {
      "needs_background": "light"
     },
     "output_type": "display_data"
    }
   ],
   "source": [
    "mydf[\"2_Hunger\"].plot(kind='density')"
   ]
  },
  {
   "cell_type": "code",
   "execution_count": 1973,
   "metadata": {},
   "outputs": [
    {
     "data": {
      "text/plain": [
       "<matplotlib.axes._subplots.AxesSubplot at 0x1c31b7f3f60>"
      ]
     },
     "execution_count": 1973,
     "metadata": {},
     "output_type": "execute_result"
    },
    {
     "data": {
      "image/png": "[encoded data removed]",
      "text/plain": [
       "<Figure size 432x288 with 1 Axes>"
      ]
     },
     "metadata": {
      "needs_background": "light"
     },
     "output_type": "display_data"
    }
   ],
   "source": [
    "mydf[\"3_Health\"].plot(kind='density')"
   ]
  },
  {
   "cell_type": "code",
   "execution_count": 1974,
   "metadata": {},
   "outputs": [
    {
     "data": {
      "text/plain": [
       "<matplotlib.axes._subplots.AxesSubplot at 0x1c31b85f2b0>"
      ]
     },
     "execution_count": 1974,
     "metadata": {},
     "output_type": "execute_result"
    },
    {
     "data": {
      "image/png": "[encoded data removed]",
      "text/plain": [
       "<Figure size 432x288 with 1 Axes>"
      ]
     },
     "metadata": {
      "needs_background": "light"
     },
     "output_type": "display_data"
    }
   ],
   "source": [
    "mydf[\"4_Education\"].plot(kind='density')"
   ]
  },
  {
   "cell_type": "code",
   "execution_count": 1975,
   "metadata": {},
   "outputs": [
    {
     "data": {
      "text/plain": [
       "<matplotlib.axes._subplots.AxesSubplot at 0x1c31b8af7b8>"
      ]
     },
     "execution_count": 1975,
     "metadata": {},
     "output_type": "execute_result"
    },
    {
     "data": {
      "image/png": "[encoded data removed]",
      "text/plain": [
       "<Figure size 432x288 with 1 Axes>"
      ]
     },
     "metadata": {
      "needs_background": "light"
     },
     "output_type": "display_data"
    }
   ],
   "source": [
    "mydf[\"5_Gender Equality\"].plot(kind='density')"
   ]
  },
  {
   "cell_type": "code",
   "execution_count": 1976,
   "metadata": {},
   "outputs": [
    {
     "data": {
      "text/plain": [
       "<matplotlib.axes._subplots.AxesSubplot at 0x1c31b9134a8>"
      ]
     },
     "execution_count": 1976,
     "metadata": {},
     "output_type": "execute_result"
    },
    {
     "data": {
      "image/png": "[encoded data removed]",
      "text/plain": [
       "<Figure size 432x288 with 1 Axes>"
      ]
     },
     "metadata": {
      "needs_background": "light"
     },
     "output_type": "display_data"
    }
   ],
   "source": [
    "mydf[\"6_Clean Water\"].plot(kind='density')"
   ]
  },
  {
   "cell_type": "code",
   "execution_count": 1977,
   "metadata": {},
   "outputs": [
    {
     "data": {
      "text/plain": [
       "<matplotlib.axes._subplots.AxesSubplot at 0x1c31b96fbe0>"
      ]
     },
     "execution_count": 1977,
     "metadata": {},
     "output_type": "execute_result"
    },
    {
     "data": {
      "image/png": "[encoded data removed]",
      "text/plain": [
       "<Figure size 432x288 with 1 Axes>"
      ]
     },
     "metadata": {
      "needs_background": "light"
     },
     "output_type": "display_data"
    }
   ],
   "source": [
    "mydf[\"7_Energy Afforability\"].plot(kind='density')"
   ]
  },
  {
   "cell_type": "code",
   "execution_count": 1978,
   "metadata": {},
   "outputs": [
    {
     "data": {
      "text/plain": [
       "<matplotlib.axes._subplots.AxesSubplot at 0x1c31b9ca940>"
      ]
     },
     "execution_count": 1978,
     "metadata": {},
     "output_type": "execute_result"
    },
    {
     "data": {
      "image/png": "[encoded data removed]",
      "text/plain": [
       "<Figure size 432x288 with 1 Axes>"
      ]
     },
     "metadata": {
      "needs_background": "light"
     },
     "output_type": "display_data"
    }
   ],
   "source": [
    "mydf[\"8_Economy\"].plot(kind='density')"
   ]
  },
  {
   "cell_type": "code",
   "execution_count": 1979,
   "metadata": {},
   "outputs": [
    {
     "data": {
      "text/plain": [
       "<matplotlib.axes._subplots.AxesSubplot at 0x1c31ba30908>"
      ]
     },
     "execution_count": 1979,
     "metadata": {},
     "output_type": "execute_result"
    },
    {
     "data": {
      "image/png": "[encoded data removed]",
      "text/plain": [
       "<Figure size 432x288 with 1 Axes>"
      ]
     },
     "metadata": {
      "needs_background": "light"
     },
     "output_type": "display_data"
    }
   ],
   "source": [
    "mydf[\"9_Industry\"].plot(kind='density')"
   ]
  },
  {
   "cell_type": "code",
   "execution_count": 1980,
   "metadata": {},
   "outputs": [
    {
     "data": {
      "text/plain": [
       "<matplotlib.axes._subplots.AxesSubplot at 0x1c31ba80668>"
      ]
     },
     "execution_count": 1980,
     "metadata": {},
     "output_type": "execute_result"
    },
    {
     "data": {
      "image/png": "[encoded data removed]",
      "text/plain": [
       "<Figure size 432x288 with 1 Axes>"
      ]
     },
     "metadata": {
      "needs_background": "light"
     },
     "output_type": "display_data"
    }
   ],
   "source": [
    "mydf[\"10_Reduced Inequality\"].plot(kind='density')"
   ]
  },
  {
   "cell_type": "code",
   "execution_count": 1981,
   "metadata": {},
   "outputs": [
    {
     "data": {
      "text/plain": [
       "<matplotlib.axes._subplots.AxesSubplot at 0x1c31baf2198>"
      ]
     },
     "execution_count": 1981,
     "metadata": {},
     "output_type": "execute_result"
    },
    {
     "data": {
      "image/png": "[encoded data removed]",
      "text/plain": [
       "<Figure size 432x288 with 1 Axes>"
      ]
     },
     "metadata": {
      "needs_background": "light"
     },
     "output_type": "display_data"
    }
   ],
   "source": [
    "mydf[\"11_Community_Sustainability\"].plot(kind='density')"
   ]
  },
  {
   "cell_type": "code",
   "execution_count": 1982,
   "metadata": {},
   "outputs": [
    {
     "data": {
      "text/plain": [
       "<matplotlib.axes._subplots.AxesSubplot at 0x1c31cb1cba8>"
      ]
     },
     "execution_count": 1982,
     "metadata": {},
     "output_type": "execute_result"
    },
    {
     "data": {
      "image/png": "[encoded data removed]",
      "text/plain": [
       "<Figure size 432x288 with 1 Axes>"
      ]
     },
     "metadata": {
      "needs_background": "light"
     },
     "output_type": "display_data"
    }
   ],
   "source": [
    "mydf[\"12_Consumtion_Production\"].plot(kind='density')"
   ]
  },
  {
   "cell_type": "code",
   "execution_count": 1983,
   "metadata": {},
   "outputs": [
    {
     "data": {
      "text/plain": [
       "<matplotlib.axes._subplots.AxesSubplot at 0x1c31cb754e0>"
      ]
     },
     "execution_count": 1983,
     "metadata": {},
     "output_type": "execute_result"
    },
    {
     "data": {
      "image/png": "[encoded data removed]",
      "text/plain": [
       "<Figure size 432x288 with 1 Axes>"
      ]
     },
     "metadata": {
      "needs_background": "light"
     },
     "output_type": "display_data"
    }
   ],
   "source": [
    "mydf[\"13_Climate Action\"].plot(kind='density')"
   ]
  },
  {
   "cell_type": "code",
   "execution_count": 1984,
   "metadata": {},
   "outputs": [
    {
     "data": {
      "text/plain": [
       "<matplotlib.axes._subplots.AxesSubplot at 0x1c31cb1cbe0>"
      ]
     },
     "execution_count": 1984,
     "metadata": {},
     "output_type": "execute_result"
    },
    {
     "data": {
      "image/png": "[encoded data removed]",
      "text/plain": [
       "<Figure size 432x288 with 1 Axes>"
      ]
     },
     "metadata": {
      "needs_background": "light"
     },
     "output_type": "display_data"
    }
   ],
   "source": [
    "mydf[\"15_Life_on_Land\"].plot(kind='density')"
   ]
  },
  {
   "cell_type": "code",
   "execution_count": 1985,
   "metadata": {},
   "outputs": [
    {
     "data": {
      "text/plain": [
       "<matplotlib.axes._subplots.AxesSubplot at 0x1c31cc421d0>"
      ]
     },
     "execution_count": 1985,
     "metadata": {},
     "output_type": "execute_result"
    },
    {
     "data": {
      "image/png": "[encoded data removed]",
      "text/plain": [
       "<Figure size 432x288 with 1 Axes>"
      ]
     },
     "metadata": {
      "needs_background": "light"
     },
     "output_type": "display_data"
    }
   ],
   "source": [
    "mydf[\"16_Justice\"].plot(kind='density')"
   ]
  },
  {
   "cell_type": "markdown",
   "metadata": {},
   "source": [
    "**Feature normalization and scaling:**"
   ]
  },
  {
   "cell_type": "code",
   "execution_count": 1986,
   "metadata": {},
   "outputs": [],
   "source": [
    "def zscore_norm(x, mean, std_dev):\n",
    "    z = (x - mean)/std_dev\n",
    "    return z"
   ]
  },
  {
   "cell_type": "code",
   "execution_count": 1987,
   "metadata": {},
   "outputs": [],
   "source": [
    "# 13_Climate Action\n",
    "Climate_mean = mydf2[\"13_Climate Action\"].mean()\n",
    "Climate_stdDev = mydf2[\"13_Climate Action\"].std()\n",
    "\n",
    "# 15_Life_on_Land\n",
    "Life_mean = mydf2[\"15_Life_on_Land\"].mean()\n",
    "Life_stdDev = mydf2[\"15_Life_on_Land\"].std()"
   ]
  },
  {
   "cell_type": "code",
   "execution_count": 1988,
   "metadata": {},
   "outputs": [],
   "source": [
    "mydf2[\"13_Climate Action_z\"] = zscore_norm(mydf2[\"13_Climate Action\"], Climate_mean, Climate_stdDev)"
   ]
  },
  {
   "cell_type": "code",
   "execution_count": 1989,
   "metadata": {},
   "outputs": [],
   "source": [
    "mydf2[\"15_Life_on_Land_z\"] = zscore_norm(mydf2[\"15_Life_on_Land\"], Life_mean, Life_stdDev)"
   ]
  },
  {
   "cell_type": "code",
   "execution_count": 1990,
   "metadata": {},
   "outputs": [
    {
     "data": {
      "text/html": [
       "<div>\n",
       "<style scoped>\n",
       "    .dataframe tbody tr th:only-of-type {\n",
       "        vertical-align: middle;\n",
       "    }\n",
       "\n",
       "    .dataframe tbody tr th {\n",
       "        vertical-align: top;\n",
       "    }\n",
       "\n",
       "    .dataframe thead th {\n",
       "        text-align: right;\n",
       "    }\n",
       "</style>\n",
       "<table border=\"1\" class=\"dataframe\">\n",
       "  <thead>\n",
       "    <tr style=\"text-align: right;\">\n",
       "      <th></th>\n",
       "      <th>CBSA</th>\n",
       "      <th>Region</th>\n",
       "      <th>Rank</th>\n",
       "      <th>1_Poverty</th>\n",
       "      <th>2_Hunger</th>\n",
       "      <th>3_Health</th>\n",
       "      <th>4_Education</th>\n",
       "      <th>5_Gender Equality</th>\n",
       "      <th>6_Clean Water</th>\n",
       "      <th>7_Energy Afforability</th>\n",
       "      <th>8_Economy</th>\n",
       "      <th>9_Industry</th>\n",
       "      <th>10_Reduced Inequality</th>\n",
       "      <th>11_Community_Sustainability</th>\n",
       "      <th>12_Consumtion_Production</th>\n",
       "      <th>13_Climate Action</th>\n",
       "      <th>15_Life_on_Land</th>\n",
       "      <th>16_Justice</th>\n",
       "      <th>13_Climate Action_z</th>\n",
       "      <th>15_Life_on_Land_z</th>\n",
       "    </tr>\n",
       "  </thead>\n",
       "  <tbody>\n",
       "    <tr>\n",
       "      <th>1</th>\n",
       "      <td>41860</td>\n",
       "      <td>4</td>\n",
       "      <td>1.0</td>\n",
       "      <td>84.0</td>\n",
       "      <td>68.0</td>\n",
       "      <td>86.0</td>\n",
       "      <td>61.0</td>\n",
       "      <td>62.0</td>\n",
       "      <td>91.0</td>\n",
       "      <td>35.0</td>\n",
       "      <td>79.0</td>\n",
       "      <td>83.0</td>\n",
       "      <td>61.0</td>\n",
       "      <td>60.0</td>\n",
       "      <td>51.0</td>\n",
       "      <td>85.0</td>\n",
       "      <td>76.0</td>\n",
       "      <td>64.0</td>\n",
       "      <td>1.826533</td>\n",
       "      <td>0.055316</td>\n",
       "    </tr>\n",
       "  </tbody>\n",
       "</table>\n",
       "</div>"
      ],
      "text/plain": [
       "    CBSA Region  Rank  1_Poverty  2_Hunger  3_Health  4_Education  \\\n",
       "1  41860      4   1.0       84.0      68.0      86.0         61.0   \n",
       "\n",
       "   5_Gender Equality  6_Clean Water  7_Energy Afforability  8_Economy  \\\n",
       "1               62.0           91.0                   35.0       79.0   \n",
       "\n",
       "   9_Industry  10_Reduced Inequality  11_Community_Sustainability  \\\n",
       "1        83.0                   61.0                         60.0   \n",
       "\n",
       "   12_Consumtion_Production  13_Climate Action  15_Life_on_Land  16_Justice  \\\n",
       "1                      51.0               85.0             76.0        64.0   \n",
       "\n",
       "   13_Climate Action_z  15_Life_on_Land_z  \n",
       "1             1.826533           0.055316  "
      ]
     },
     "execution_count": 1990,
     "metadata": {},
     "output_type": "execute_result"
    }
   ],
   "source": [
    "mydf2.head(1)"
   ]
  },
  {
   "cell_type": "code",
   "execution_count": 1991,
   "metadata": {},
   "outputs": [
    {
     "data": {
      "text/plain": [
       "<matplotlib.axes._subplots.AxesSubplot at 0x1c31cca7198>"
      ]
     },
     "execution_count": 1991,
     "metadata": {},
     "output_type": "execute_result"
    },
    {
     "data": {
      "image/png": "[encoded data removed]",
      "text/plain": [
       "<Figure size 432x288 with 1 Axes>"
      ]
     },
     "metadata": {
      "needs_background": "light"
     },
     "output_type": "display_data"
    }
   ],
   "source": [
    "mydf2[[\"13_Climate Action_z\", \"15_Life_on_Land_z\"]].plot(kind='bar')"
   ]
  },
  {
   "cell_type": "code",
   "execution_count": 1992,
   "metadata": {},
   "outputs": [
    {
     "name": "stderr",
     "output_type": "stream",
     "text": [
      "C:\\Users\\choin\\Anaconda3\\lib\\site-packages\\sklearn\\preprocessing\\data.py:645: DataConversionWarning: Data with input dtype float64, object were all converted to float64 by StandardScaler.\n",
      "  return self.partial_fit(X, y)\n",
      "C:\\Users\\choin\\Anaconda3\\lib\\site-packages\\sklearn\\base.py:464: DataConversionWarning: Data with input dtype float64, object were all converted to float64 by StandardScaler.\n",
      "  return self.fit(X, **fit_params).transform(X)\n"
     ]
    }
   ],
   "source": [
    "from sklearn import preprocessing\n",
    "standard_scaler = preprocessing.StandardScaler()\n",
    "mydf2_standardized = pd.DataFrame(standard_scaler.fit_transform(mydf2),\n",
    "                                columns=mydf2.columns)\n"
   ]
  },
  {
   "cell_type": "code",
   "execution_count": 1993,
   "metadata": {},
   "outputs": [
    {
     "name": "stderr",
     "output_type": "stream",
     "text": [
      "C:\\Users\\choin\\Anaconda3\\lib\\site-packages\\sklearn\\preprocessing\\data.py:334: DataConversionWarning: Data with input dtype float64, object were all converted to float64 by MinMaxScaler.\n",
      "  return self.partial_fit(X, y)\n"
     ]
    },
    {
     "data": {
      "text/html": [
       "<div>\n",
       "<style scoped>\n",
       "    .dataframe tbody tr th:only-of-type {\n",
       "        vertical-align: middle;\n",
       "    }\n",
       "\n",
       "    .dataframe tbody tr th {\n",
       "        vertical-align: top;\n",
       "    }\n",
       "\n",
       "    .dataframe thead th {\n",
       "        text-align: right;\n",
       "    }\n",
       "</style>\n",
       "<table border=\"1\" class=\"dataframe\">\n",
       "  <thead>\n",
       "    <tr style=\"text-align: right;\">\n",
       "      <th></th>\n",
       "      <th>CBSA</th>\n",
       "      <th>Region</th>\n",
       "      <th>Rank</th>\n",
       "      <th>1_Poverty</th>\n",
       "      <th>2_Hunger</th>\n",
       "      <th>3_Health</th>\n",
       "      <th>4_Education</th>\n",
       "      <th>5_Gender Equality</th>\n",
       "      <th>6_Clean Water</th>\n",
       "      <th>7_Energy Afforability</th>\n",
       "      <th>8_Economy</th>\n",
       "      <th>9_Industry</th>\n",
       "      <th>10_Reduced Inequality</th>\n",
       "      <th>11_Community_Sustainability</th>\n",
       "      <th>12_Consumtion_Production</th>\n",
       "      <th>13_Climate Action</th>\n",
       "      <th>15_Life_on_Land</th>\n",
       "      <th>16_Justice</th>\n",
       "      <th>13_Climate Action_z</th>\n",
       "      <th>15_Life_on_Land_z</th>\n",
       "    </tr>\n",
       "  </thead>\n",
       "  <tbody>\n",
       "    <tr>\n",
       "      <th>0</th>\n",
       "      <td>0.801223</td>\n",
       "      <td>1.000000</td>\n",
       "      <td>0.000000</td>\n",
       "      <td>0.965517</td>\n",
       "      <td>0.910448</td>\n",
       "      <td>0.944444</td>\n",
       "      <td>0.750000</td>\n",
       "      <td>0.924242</td>\n",
       "      <td>0.970149</td>\n",
       "      <td>0.367647</td>\n",
       "      <td>0.827586</td>\n",
       "      <td>0.954023</td>\n",
       "      <td>0.654545</td>\n",
       "      <td>1.000000</td>\n",
       "      <td>0.385965</td>\n",
       "      <td>0.965909</td>\n",
       "      <td>0.76</td>\n",
       "      <td>0.659341</td>\n",
       "      <td>0.965909</td>\n",
       "      <td>0.76</td>\n",
       "    </tr>\n",
       "    <tr>\n",
       "      <th>1</th>\n",
       "      <td>0.803262</td>\n",
       "      <td>1.000000</td>\n",
       "      <td>0.009615</td>\n",
       "      <td>1.000000</td>\n",
       "      <td>1.000000</td>\n",
       "      <td>1.000000</td>\n",
       "      <td>0.816667</td>\n",
       "      <td>0.409091</td>\n",
       "      <td>0.402985</td>\n",
       "      <td>0.382353</td>\n",
       "      <td>0.954023</td>\n",
       "      <td>1.000000</td>\n",
       "      <td>0.963636</td>\n",
       "      <td>0.657895</td>\n",
       "      <td>0.771930</td>\n",
       "      <td>0.647727</td>\n",
       "      <td>0.81</td>\n",
       "      <td>0.714286</td>\n",
       "      <td>0.647727</td>\n",
       "      <td>0.81</td>\n",
       "    </tr>\n",
       "    <tr>\n",
       "      <th>2</th>\n",
       "      <td>0.955148</td>\n",
       "      <td>0.666667</td>\n",
       "      <td>0.019231</td>\n",
       "      <td>0.965517</td>\n",
       "      <td>0.731343</td>\n",
       "      <td>0.777778</td>\n",
       "      <td>0.816667</td>\n",
       "      <td>0.757576</td>\n",
       "      <td>0.895522</td>\n",
       "      <td>0.455882</td>\n",
       "      <td>0.528736</td>\n",
       "      <td>0.643678</td>\n",
       "      <td>0.890909</td>\n",
       "      <td>0.973684</td>\n",
       "      <td>0.701754</td>\n",
       "      <td>0.931818</td>\n",
       "      <td>0.82</td>\n",
       "      <td>0.714286</td>\n",
       "      <td>0.931818</td>\n",
       "      <td>0.82</td>\n",
       "    </tr>\n",
       "    <tr>\n",
       "      <th>3</th>\n",
       "      <td>0.821611</td>\n",
       "      <td>1.000000</td>\n",
       "      <td>0.028846</td>\n",
       "      <td>0.954023</td>\n",
       "      <td>0.567164</td>\n",
       "      <td>0.763889</td>\n",
       "      <td>0.683333</td>\n",
       "      <td>0.787879</td>\n",
       "      <td>0.597015</td>\n",
       "      <td>0.779412</td>\n",
       "      <td>0.758621</td>\n",
       "      <td>0.827586</td>\n",
       "      <td>0.745455</td>\n",
       "      <td>0.947368</td>\n",
       "      <td>0.421053</td>\n",
       "      <td>1.000000</td>\n",
       "      <td>0.52</td>\n",
       "      <td>0.890110</td>\n",
       "      <td>1.000000</td>\n",
       "      <td>0.52</td>\n",
       "    </tr>\n",
       "    <tr>\n",
       "      <th>4</th>\n",
       "      <td>0.538226</td>\n",
       "      <td>0.333333</td>\n",
       "      <td>0.038462</td>\n",
       "      <td>0.724138</td>\n",
       "      <td>0.641791</td>\n",
       "      <td>0.750000</td>\n",
       "      <td>1.000000</td>\n",
       "      <td>0.757576</td>\n",
       "      <td>0.611940</td>\n",
       "      <td>0.441176</td>\n",
       "      <td>0.827586</td>\n",
       "      <td>0.666667</td>\n",
       "      <td>0.963636</td>\n",
       "      <td>0.973684</td>\n",
       "      <td>0.947368</td>\n",
       "      <td>0.727273</td>\n",
       "      <td>0.70</td>\n",
       "      <td>0.813187</td>\n",
       "      <td>0.727273</td>\n",
       "      <td>0.70</td>\n",
       "    </tr>\n",
       "  </tbody>\n",
       "</table>\n",
       "</div>"
      ],
      "text/plain": [
       "       CBSA    Region      Rank  1_Poverty  2_Hunger  3_Health  4_Education  \\\n",
       "0  0.801223  1.000000  0.000000   0.965517  0.910448  0.944444     0.750000   \n",
       "1  0.803262  1.000000  0.009615   1.000000  1.000000  1.000000     0.816667   \n",
       "2  0.955148  0.666667  0.019231   0.965517  0.731343  0.777778     0.816667   \n",
       "3  0.821611  1.000000  0.028846   0.954023  0.567164  0.763889     0.683333   \n",
       "4  0.538226  0.333333  0.038462   0.724138  0.641791  0.750000     1.000000   \n",
       "\n",
       "   5_Gender Equality  6_Clean Water  7_Energy Afforability  8_Economy  \\\n",
       "0           0.924242       0.970149               0.367647   0.827586   \n",
       "1           0.409091       0.402985               0.382353   0.954023   \n",
       "2           0.757576       0.895522               0.455882   0.528736   \n",
       "3           0.787879       0.597015               0.779412   0.758621   \n",
       "4           0.757576       0.611940               0.441176   0.827586   \n",
       "\n",
       "   9_Industry  10_Reduced Inequality  11_Community_Sustainability  \\\n",
       "0    0.954023               0.654545                     1.000000   \n",
       "1    1.000000               0.963636                     0.657895   \n",
       "2    0.643678               0.890909                     0.973684   \n",
       "3    0.827586               0.745455                     0.947368   \n",
       "4    0.666667               0.963636                     0.973684   \n",
       "\n",
       "   12_Consumtion_Production  13_Climate Action  15_Life_on_Land  16_Justice  \\\n",
       "0                  0.385965           0.965909             0.76    0.659341   \n",
       "1                  0.771930           0.647727             0.81    0.714286   \n",
       "2                  0.701754           0.931818             0.82    0.714286   \n",
       "3                  0.421053           1.000000             0.52    0.890110   \n",
       "4                  0.947368           0.727273             0.70    0.813187   \n",
       "\n",
       "   13_Climate Action_z  15_Life_on_Land_z  \n",
       "0             0.965909               0.76  \n",
       "1             0.647727               0.81  \n",
       "2             0.931818               0.82  \n",
       "3             1.000000               0.52  \n",
       "4             0.727273               0.70  "
      ]
     },
     "execution_count": 1993,
     "metadata": {},
     "output_type": "execute_result"
    }
   ],
   "source": [
    "minmax_scaler = preprocessing.MinMaxScaler()\n",
    "\n",
    "mydf2_minmax = pd.DataFrame(minmax_scaler.fit_transform(mydf2),\n",
    "                                columns=mydf2.columns)\n",
    "\n",
    "mydf2_minmax.head()"
   ]
  },
  {
   "cell_type": "markdown",
   "metadata": {},
   "source": [
    "**Examining and plotting correlation between variables:**"
   ]
  },
  {
   "cell_type": "code",
   "execution_count": 1994,
   "metadata": {
    "scrolled": true
   },
   "outputs": [
    {
     "data": {
      "text/html": [
       "<style  type=\"text/css\" >\n",
       "    #T_9235ac5a_c3c7_11e9_a25e_b831b59981e6row0_col0 {\n",
       "            background-color:  #b40426;\n",
       "            color:  #f1f1f1;\n",
       "        }    #T_9235ac5a_c3c7_11e9_a25e_b831b59981e6row0_col1 {\n",
       "            background-color:  #3b4cc0;\n",
       "            color:  #f1f1f1;\n",
       "        }    #T_9235ac5a_c3c7_11e9_a25e_b831b59981e6row0_col2 {\n",
       "            background-color:  #3b4cc0;\n",
       "            color:  #f1f1f1;\n",
       "        }    #T_9235ac5a_c3c7_11e9_a25e_b831b59981e6row0_col3 {\n",
       "            background-color:  #3b4cc0;\n",
       "            color:  #f1f1f1;\n",
       "        }    #T_9235ac5a_c3c7_11e9_a25e_b831b59981e6row0_col4 {\n",
       "            background-color:  #3b4cc0;\n",
       "            color:  #f1f1f1;\n",
       "        }    #T_9235ac5a_c3c7_11e9_a25e_b831b59981e6row0_col5 {\n",
       "            background-color:  #6788ee;\n",
       "            color:  #000000;\n",
       "        }    #T_9235ac5a_c3c7_11e9_a25e_b831b59981e6row0_col6 {\n",
       "            background-color:  #4f69d9;\n",
       "            color:  #000000;\n",
       "        }    #T_9235ac5a_c3c7_11e9_a25e_b831b59981e6row0_col7 {\n",
       "            background-color:  #3b4cc0;\n",
       "            color:  #f1f1f1;\n",
       "        }    #T_9235ac5a_c3c7_11e9_a25e_b831b59981e6row0_col8 {\n",
       "            background-color:  #3b4cc0;\n",
       "            color:  #f1f1f1;\n",
       "        }    #T_9235ac5a_c3c7_11e9_a25e_b831b59981e6row0_col9 {\n",
       "            background-color:  #3b4cc0;\n",
       "            color:  #f1f1f1;\n",
       "        }    #T_9235ac5a_c3c7_11e9_a25e_b831b59981e6row0_col10 {\n",
       "            background-color:  #3b4cc0;\n",
       "            color:  #f1f1f1;\n",
       "        }    #T_9235ac5a_c3c7_11e9_a25e_b831b59981e6row0_col11 {\n",
       "            background-color:  #3b4cc0;\n",
       "            color:  #f1f1f1;\n",
       "        }    #T_9235ac5a_c3c7_11e9_a25e_b831b59981e6row0_col12 {\n",
       "            background-color:  #96b7ff;\n",
       "            color:  #000000;\n",
       "        }    #T_9235ac5a_c3c7_11e9_a25e_b831b59981e6row0_col13 {\n",
       "            background-color:  #3b4cc0;\n",
       "            color:  #f1f1f1;\n",
       "        }    #T_9235ac5a_c3c7_11e9_a25e_b831b59981e6row0_col14 {\n",
       "            background-color:  #5875e1;\n",
       "            color:  #000000;\n",
       "        }    #T_9235ac5a_c3c7_11e9_a25e_b831b59981e6row0_col15 {\n",
       "            background-color:  #3b4cc0;\n",
       "            color:  #f1f1f1;\n",
       "        }    #T_9235ac5a_c3c7_11e9_a25e_b831b59981e6row0_col16 {\n",
       "            background-color:  #3b4cc0;\n",
       "            color:  #f1f1f1;\n",
       "        }    #T_9235ac5a_c3c7_11e9_a25e_b831b59981e6row0_col17 {\n",
       "            background-color:  #5875e1;\n",
       "            color:  #000000;\n",
       "        }    #T_9235ac5a_c3c7_11e9_a25e_b831b59981e6row1_col0 {\n",
       "            background-color:  #4257c9;\n",
       "            color:  #f1f1f1;\n",
       "        }    #T_9235ac5a_c3c7_11e9_a25e_b831b59981e6row1_col1 {\n",
       "            background-color:  #b40426;\n",
       "            color:  #f1f1f1;\n",
       "        }    #T_9235ac5a_c3c7_11e9_a25e_b831b59981e6row1_col2 {\n",
       "            background-color:  #f18f71;\n",
       "            color:  #000000;\n",
       "        }    #T_9235ac5a_c3c7_11e9_a25e_b831b59981e6row1_col3 {\n",
       "            background-color:  #ee8669;\n",
       "            color:  #000000;\n",
       "        }    #T_9235ac5a_c3c7_11e9_a25e_b831b59981e6row1_col4 {\n",
       "            background-color:  #f7b89c;\n",
       "            color:  #000000;\n",
       "        }    #T_9235ac5a_c3c7_11e9_a25e_b831b59981e6row1_col5 {\n",
       "            background-color:  #92b4fe;\n",
       "            color:  #000000;\n",
       "        }    #T_9235ac5a_c3c7_11e9_a25e_b831b59981e6row1_col6 {\n",
       "            background-color:  #799cf8;\n",
       "            color:  #000000;\n",
       "        }    #T_9235ac5a_c3c7_11e9_a25e_b831b59981e6row1_col7 {\n",
       "            background-color:  #d9dce1;\n",
       "            color:  #000000;\n",
       "        }    #T_9235ac5a_c3c7_11e9_a25e_b831b59981e6row1_col8 {\n",
       "            background-color:  #e5d8d1;\n",
       "            color:  #000000;\n",
       "        }    #T_9235ac5a_c3c7_11e9_a25e_b831b59981e6row1_col9 {\n",
       "            background-color:  #f4987a;\n",
       "            color:  #000000;\n",
       "        }    #T_9235ac5a_c3c7_11e9_a25e_b831b59981e6row1_col10 {\n",
       "            background-color:  #ebd3c6;\n",
       "            color:  #000000;\n",
       "        }    #T_9235ac5a_c3c7_11e9_a25e_b831b59981e6row1_col11 {\n",
       "            background-color:  #f7ba9f;\n",
       "            color:  #000000;\n",
       "        }    #T_9235ac5a_c3c7_11e9_a25e_b831b59981e6row1_col12 {\n",
       "            background-color:  #3e51c5;\n",
       "            color:  #f1f1f1;\n",
       "        }    #T_9235ac5a_c3c7_11e9_a25e_b831b59981e6row1_col13 {\n",
       "            background-color:  #f7b599;\n",
       "            color:  #000000;\n",
       "        }    #T_9235ac5a_c3c7_11e9_a25e_b831b59981e6row1_col14 {\n",
       "            background-color:  #5977e3;\n",
       "            color:  #000000;\n",
       "        }    #T_9235ac5a_c3c7_11e9_a25e_b831b59981e6row1_col15 {\n",
       "            background-color:  #f6a283;\n",
       "            color:  #000000;\n",
       "        }    #T_9235ac5a_c3c7_11e9_a25e_b831b59981e6row1_col16 {\n",
       "            background-color:  #f7b599;\n",
       "            color:  #000000;\n",
       "        }    #T_9235ac5a_c3c7_11e9_a25e_b831b59981e6row1_col17 {\n",
       "            background-color:  #5977e3;\n",
       "            color:  #000000;\n",
       "        }    #T_9235ac5a_c3c7_11e9_a25e_b831b59981e6row2_col0 {\n",
       "            background-color:  #4961d2;\n",
       "            color:  #f1f1f1;\n",
       "        }    #T_9235ac5a_c3c7_11e9_a25e_b831b59981e6row2_col1 {\n",
       "            background-color:  #f18d6f;\n",
       "            color:  #000000;\n",
       "        }    #T_9235ac5a_c3c7_11e9_a25e_b831b59981e6row2_col2 {\n",
       "            background-color:  #b40426;\n",
       "            color:  #f1f1f1;\n",
       "        }    #T_9235ac5a_c3c7_11e9_a25e_b831b59981e6row2_col3 {\n",
       "            background-color:  #d95847;\n",
       "            color:  #000000;\n",
       "        }    #T_9235ac5a_c3c7_11e9_a25e_b831b59981e6row2_col4 {\n",
       "            background-color:  #e0dbd8;\n",
       "            color:  #000000;\n",
       "        }    #T_9235ac5a_c3c7_11e9_a25e_b831b59981e6row2_col5 {\n",
       "            background-color:  #8caffe;\n",
       "            color:  #000000;\n",
       "        }    #T_9235ac5a_c3c7_11e9_a25e_b831b59981e6row2_col6 {\n",
       "            background-color:  #4055c8;\n",
       "            color:  #f1f1f1;\n",
       "        }    #T_9235ac5a_c3c7_11e9_a25e_b831b59981e6row2_col7 {\n",
       "            background-color:  #e0dbd8;\n",
       "            color:  #000000;\n",
       "        }    #T_9235ac5a_c3c7_11e9_a25e_b831b59981e6row2_col8 {\n",
       "            background-color:  #e5d8d1;\n",
       "            color:  #000000;\n",
       "        }    #T_9235ac5a_c3c7_11e9_a25e_b831b59981e6row2_col9 {\n",
       "            background-color:  #f7b599;\n",
       "            color:  #000000;\n",
       "        }    #T_9235ac5a_c3c7_11e9_a25e_b831b59981e6row2_col10 {\n",
       "            background-color:  #f5c0a7;\n",
       "            color:  #000000;\n",
       "        }    #T_9235ac5a_c3c7_11e9_a25e_b831b59981e6row2_col11 {\n",
       "            background-color:  #e8d6cc;\n",
       "            color:  #000000;\n",
       "        }    #T_9235ac5a_c3c7_11e9_a25e_b831b59981e6row2_col12 {\n",
       "            background-color:  #3b4cc0;\n",
       "            color:  #f1f1f1;\n",
       "        }    #T_9235ac5a_c3c7_11e9_a25e_b831b59981e6row2_col13 {\n",
       "            background-color:  #f59f80;\n",
       "            color:  #000000;\n",
       "        }    #T_9235ac5a_c3c7_11e9_a25e_b831b59981e6row2_col14 {\n",
       "            background-color:  #82a6fb;\n",
       "            color:  #000000;\n",
       "        }    #T_9235ac5a_c3c7_11e9_a25e_b831b59981e6row2_col15 {\n",
       "            background-color:  #f6bea4;\n",
       "            color:  #000000;\n",
       "        }    #T_9235ac5a_c3c7_11e9_a25e_b831b59981e6row2_col16 {\n",
       "            background-color:  #f59f80;\n",
       "            color:  #000000;\n",
       "        }    #T_9235ac5a_c3c7_11e9_a25e_b831b59981e6row2_col17 {\n",
       "            background-color:  #82a6fb;\n",
       "            color:  #000000;\n",
       "        }    #T_9235ac5a_c3c7_11e9_a25e_b831b59981e6row3_col0 {\n",
       "            background-color:  #3b4cc0;\n",
       "            color:  #f1f1f1;\n",
       "        }    #T_9235ac5a_c3c7_11e9_a25e_b831b59981e6row3_col1 {\n",
       "            background-color:  #ef886b;\n",
       "            color:  #000000;\n",
       "        }    #T_9235ac5a_c3c7_11e9_a25e_b831b59981e6row3_col2 {\n",
       "            background-color:  #dc5d4a;\n",
       "            color:  #000000;\n",
       "        }    #T_9235ac5a_c3c7_11e9_a25e_b831b59981e6row3_col3 {\n",
       "            background-color:  #b40426;\n",
       "            color:  #f1f1f1;\n",
       "        }    #T_9235ac5a_c3c7_11e9_a25e_b831b59981e6row3_col4 {\n",
       "            background-color:  #f5c0a7;\n",
       "            color:  #000000;\n",
       "        }    #T_9235ac5a_c3c7_11e9_a25e_b831b59981e6row3_col5 {\n",
       "            background-color:  #9ebeff;\n",
       "            color:  #000000;\n",
       "        }    #T_9235ac5a_c3c7_11e9_a25e_b831b59981e6row3_col6 {\n",
       "            background-color:  #536edd;\n",
       "            color:  #000000;\n",
       "        }    #T_9235ac5a_c3c7_11e9_a25e_b831b59981e6row3_col7 {\n",
       "            background-color:  #e2dad5;\n",
       "            color:  #000000;\n",
       "        }    #T_9235ac5a_c3c7_11e9_a25e_b831b59981e6row3_col8 {\n",
       "            background-color:  #f5c2aa;\n",
       "            color:  #000000;\n",
       "        }    #T_9235ac5a_c3c7_11e9_a25e_b831b59981e6row3_col9 {\n",
       "            background-color:  #f39577;\n",
       "            color:  #000000;\n",
       "        }    #T_9235ac5a_c3c7_11e9_a25e_b831b59981e6row3_col10 {\n",
       "            background-color:  #f6bea4;\n",
       "            color:  #000000;\n",
       "        }    #T_9235ac5a_c3c7_11e9_a25e_b831b59981e6row3_col11 {\n",
       "            background-color:  #f2cab5;\n",
       "            color:  #000000;\n",
       "        }    #T_9235ac5a_c3c7_11e9_a25e_b831b59981e6row3_col12 {\n",
       "            background-color:  #4257c9;\n",
       "            color:  #f1f1f1;\n",
       "        }    #T_9235ac5a_c3c7_11e9_a25e_b831b59981e6row3_col13 {\n",
       "            background-color:  #f7b194;\n",
       "            color:  #000000;\n",
       "        }    #T_9235ac5a_c3c7_11e9_a25e_b831b59981e6row3_col14 {\n",
       "            background-color:  #7396f5;\n",
       "            color:  #000000;\n",
       "        }    #T_9235ac5a_c3c7_11e9_a25e_b831b59981e6row3_col15 {\n",
       "            background-color:  #f6a586;\n",
       "            color:  #000000;\n",
       "        }    #T_9235ac5a_c3c7_11e9_a25e_b831b59981e6row3_col16 {\n",
       "            background-color:  #f7b194;\n",
       "            color:  #000000;\n",
       "        }    #T_9235ac5a_c3c7_11e9_a25e_b831b59981e6row3_col17 {\n",
       "            background-color:  #7396f5;\n",
       "            color:  #000000;\n",
       "        }    #T_9235ac5a_c3c7_11e9_a25e_b831b59981e6row4_col0 {\n",
       "            background-color:  #6384eb;\n",
       "            color:  #000000;\n",
       "        }    #T_9235ac5a_c3c7_11e9_a25e_b831b59981e6row4_col1 {\n",
       "            background-color:  #f7ac8e;\n",
       "            color:  #000000;\n",
       "        }    #T_9235ac5a_c3c7_11e9_a25e_b831b59981e6row4_col2 {\n",
       "            background-color:  #ead4c8;\n",
       "            color:  #000000;\n",
       "        }    #T_9235ac5a_c3c7_11e9_a25e_b831b59981e6row4_col3 {\n",
       "            background-color:  #f7b194;\n",
       "            color:  #000000;\n",
       "        }    #T_9235ac5a_c3c7_11e9_a25e_b831b59981e6row4_col4 {\n",
       "            background-color:  #b40426;\n",
       "            color:  #f1f1f1;\n",
       "        }    #T_9235ac5a_c3c7_11e9_a25e_b831b59981e6row4_col5 {\n",
       "            background-color:  #5673e0;\n",
       "            color:  #000000;\n",
       "        }    #T_9235ac5a_c3c7_11e9_a25e_b831b59981e6row4_col6 {\n",
       "            background-color:  #7597f6;\n",
       "            color:  #000000;\n",
       "        }    #T_9235ac5a_c3c7_11e9_a25e_b831b59981e6row4_col7 {\n",
       "            background-color:  #89acfd;\n",
       "            color:  #000000;\n",
       "        }    #T_9235ac5a_c3c7_11e9_a25e_b831b59981e6row4_col8 {\n",
       "            background-color:  #f7b89c;\n",
       "            color:  #000000;\n",
       "        }    #T_9235ac5a_c3c7_11e9_a25e_b831b59981e6row4_col9 {\n",
       "            background-color:  #ec8165;\n",
       "            color:  #000000;\n",
       "        }    #T_9235ac5a_c3c7_11e9_a25e_b831b59981e6row4_col10 {\n",
       "            background-color:  #d9dce1;\n",
       "            color:  #000000;\n",
       "        }    #T_9235ac5a_c3c7_11e9_a25e_b831b59981e6row4_col11 {\n",
       "            background-color:  #f7b79b;\n",
       "            color:  #000000;\n",
       "        }    #T_9235ac5a_c3c7_11e9_a25e_b831b59981e6row4_col12 {\n",
       "            background-color:  #7ea1fa;\n",
       "            color:  #000000;\n",
       "        }    #T_9235ac5a_c3c7_11e9_a25e_b831b59981e6row4_col13 {\n",
       "            background-color:  #d6dce4;\n",
       "            color:  #000000;\n",
       "        }    #T_9235ac5a_c3c7_11e9_a25e_b831b59981e6row4_col14 {\n",
       "            background-color:  #8db0fe;\n",
       "            color:  #000000;\n",
       "        }    #T_9235ac5a_c3c7_11e9_a25e_b831b59981e6row4_col15 {\n",
       "            background-color:  #f7b093;\n",
       "            color:  #000000;\n",
       "        }    #T_9235ac5a_c3c7_11e9_a25e_b831b59981e6row4_col16 {\n",
       "            background-color:  #d6dce4;\n",
       "            color:  #000000;\n",
       "        }    #T_9235ac5a_c3c7_11e9_a25e_b831b59981e6row4_col17 {\n",
       "            background-color:  #8db0fe;\n",
       "            color:  #000000;\n",
       "        }    #T_9235ac5a_c3c7_11e9_a25e_b831b59981e6row5_col0 {\n",
       "            background-color:  #c1d4f4;\n",
       "            color:  #000000;\n",
       "        }    #T_9235ac5a_c3c7_11e9_a25e_b831b59981e6row5_col1 {\n",
       "            background-color:  #d6dce4;\n",
       "            color:  #000000;\n",
       "        }    #T_9235ac5a_c3c7_11e9_a25e_b831b59981e6row5_col2 {\n",
       "            background-color:  #cfdaea;\n",
       "            color:  #000000;\n",
       "        }    #T_9235ac5a_c3c7_11e9_a25e_b831b59981e6row5_col3 {\n",
       "            background-color:  #e0dbd8;\n",
       "            color:  #000000;\n",
       "        }    #T_9235ac5a_c3c7_11e9_a25e_b831b59981e6row5_col4 {\n",
       "            background-color:  #94b6ff;\n",
       "            color:  #000000;\n",
       "        }    #T_9235ac5a_c3c7_11e9_a25e_b831b59981e6row5_col5 {\n",
       "            background-color:  #b40426;\n",
       "            color:  #f1f1f1;\n",
       "        }    #T_9235ac5a_c3c7_11e9_a25e_b831b59981e6row5_col6 {\n",
       "            background-color:  #5673e0;\n",
       "            color:  #000000;\n",
       "        }    #T_9235ac5a_c3c7_11e9_a25e_b831b59981e6row5_col7 {\n",
       "            background-color:  #c1d4f4;\n",
       "            color:  #000000;\n",
       "        }    #T_9235ac5a_c3c7_11e9_a25e_b831b59981e6row5_col8 {\n",
       "            background-color:  #92b4fe;\n",
       "            color:  #000000;\n",
       "        }    #T_9235ac5a_c3c7_11e9_a25e_b831b59981e6row5_col9 {\n",
       "            background-color:  #c7d7f0;\n",
       "            color:  #000000;\n",
       "        }    #T_9235ac5a_c3c7_11e9_a25e_b831b59981e6row5_col10 {\n",
       "            background-color:  #b3cdfb;\n",
       "            color:  #000000;\n",
       "        }    #T_9235ac5a_c3c7_11e9_a25e_b831b59981e6row5_col11 {\n",
       "            background-color:  #9ebeff;\n",
       "            color:  #000000;\n",
       "        }    #T_9235ac5a_c3c7_11e9_a25e_b831b59981e6row5_col12 {\n",
       "            background-color:  #7597f6;\n",
       "            color:  #000000;\n",
       "        }    #T_9235ac5a_c3c7_11e9_a25e_b831b59981e6row5_col13 {\n",
       "            background-color:  #dfdbd9;\n",
       "            color:  #000000;\n",
       "        }    #T_9235ac5a_c3c7_11e9_a25e_b831b59981e6row5_col14 {\n",
       "            background-color:  #3b4cc0;\n",
       "            color:  #f1f1f1;\n",
       "        }    #T_9235ac5a_c3c7_11e9_a25e_b831b59981e6row5_col15 {\n",
       "            background-color:  #b3cdfb;\n",
       "            color:  #000000;\n",
       "        }    #T_9235ac5a_c3c7_11e9_a25e_b831b59981e6row5_col16 {\n",
       "            background-color:  #dfdbd9;\n",
       "            color:  #000000;\n",
       "        }    #T_9235ac5a_c3c7_11e9_a25e_b831b59981e6row5_col17 {\n",
       "            background-color:  #3b4cc0;\n",
       "            color:  #f1f1f1;\n",
       "        }    #T_9235ac5a_c3c7_11e9_a25e_b831b59981e6row6_col0 {\n",
       "            background-color:  #c1d4f4;\n",
       "            color:  #000000;\n",
       "        }    #T_9235ac5a_c3c7_11e9_a25e_b831b59981e6row6_col1 {\n",
       "            background-color:  #d5dbe5;\n",
       "            color:  #000000;\n",
       "        }    #T_9235ac5a_c3c7_11e9_a25e_b831b59981e6row6_col2 {\n",
       "            background-color:  #adc9fd;\n",
       "            color:  #000000;\n",
       "        }    #T_9235ac5a_c3c7_11e9_a25e_b831b59981e6row6_col3 {\n",
       "            background-color:  #c4d5f3;\n",
       "            color:  #000000;\n",
       "        }    #T_9235ac5a_c3c7_11e9_a25e_b831b59981e6row6_col4 {\n",
       "            background-color:  #bfd3f6;\n",
       "            color:  #000000;\n",
       "        }    #T_9235ac5a_c3c7_11e9_a25e_b831b59981e6row6_col5 {\n",
       "            background-color:  #6e90f2;\n",
       "            color:  #000000;\n",
       "        }    #T_9235ac5a_c3c7_11e9_a25e_b831b59981e6row6_col6 {\n",
       "            background-color:  #b40426;\n",
       "            color:  #f1f1f1;\n",
       "        }    #T_9235ac5a_c3c7_11e9_a25e_b831b59981e6row6_col7 {\n",
       "            background-color:  #aac7fd;\n",
       "            color:  #000000;\n",
       "        }    #T_9235ac5a_c3c7_11e9_a25e_b831b59981e6row6_col8 {\n",
       "            background-color:  #c0d4f5;\n",
       "            color:  #000000;\n",
       "        }    #T_9235ac5a_c3c7_11e9_a25e_b831b59981e6row6_col9 {\n",
       "            background-color:  #cedaeb;\n",
       "            color:  #000000;\n",
       "        }    #T_9235ac5a_c3c7_11e9_a25e_b831b59981e6row6_col10 {\n",
       "            background-color:  #9fbfff;\n",
       "            color:  #000000;\n",
       "        }    #T_9235ac5a_c3c7_11e9_a25e_b831b59981e6row6_col11 {\n",
       "            background-color:  #b1cbfc;\n",
       "            color:  #000000;\n",
       "        }    #T_9235ac5a_c3c7_11e9_a25e_b831b59981e6row6_col12 {\n",
       "            background-color:  #81a4fb;\n",
       "            color:  #000000;\n",
       "        }    #T_9235ac5a_c3c7_11e9_a25e_b831b59981e6row6_col13 {\n",
       "            background-color:  #98b9ff;\n",
       "            color:  #000000;\n",
       "        }    #T_9235ac5a_c3c7_11e9_a25e_b831b59981e6row6_col14 {\n",
       "            background-color:  #84a7fc;\n",
       "            color:  #000000;\n",
       "        }    #T_9235ac5a_c3c7_11e9_a25e_b831b59981e6row6_col15 {\n",
       "            background-color:  #97b8ff;\n",
       "            color:  #000000;\n",
       "        }    #T_9235ac5a_c3c7_11e9_a25e_b831b59981e6row6_col16 {\n",
       "            background-color:  #98b9ff;\n",
       "            color:  #000000;\n",
       "        }    #T_9235ac5a_c3c7_11e9_a25e_b831b59981e6row6_col17 {\n",
       "            background-color:  #84a7fc;\n",
       "            color:  #000000;\n",
       "        }    #T_9235ac5a_c3c7_11e9_a25e_b831b59981e6row7_col0 {\n",
       "            background-color:  #8badfd;\n",
       "            color:  #000000;\n",
       "        }    #T_9235ac5a_c3c7_11e9_a25e_b831b59981e6row7_col1 {\n",
       "            background-color:  #f2cab5;\n",
       "            color:  #000000;\n",
       "        }    #T_9235ac5a_c3c7_11e9_a25e_b831b59981e6row7_col2 {\n",
       "            background-color:  #f3c7b1;\n",
       "            color:  #000000;\n",
       "        }    #T_9235ac5a_c3c7_11e9_a25e_b831b59981e6row7_col3 {\n",
       "            background-color:  #f5c0a7;\n",
       "            color:  #000000;\n",
       "        }    #T_9235ac5a_c3c7_11e9_a25e_b831b59981e6row7_col4 {\n",
       "            background-color:  #abc8fd;\n",
       "            color:  #000000;\n",
       "        }    #T_9235ac5a_c3c7_11e9_a25e_b831b59981e6row7_col5 {\n",
       "            background-color:  #b1cbfc;\n",
       "            color:  #000000;\n",
       "        }    #T_9235ac5a_c3c7_11e9_a25e_b831b59981e6row7_col6 {\n",
       "            background-color:  #81a4fb;\n",
       "            color:  #000000;\n",
       "        }    #T_9235ac5a_c3c7_11e9_a25e_b831b59981e6row7_col7 {\n",
       "            background-color:  #b40426;\n",
       "            color:  #f1f1f1;\n",
       "        }    #T_9235ac5a_c3c7_11e9_a25e_b831b59981e6row7_col8 {\n",
       "            background-color:  #d2dbe8;\n",
       "            color:  #000000;\n",
       "        }    #T_9235ac5a_c3c7_11e9_a25e_b831b59981e6row7_col9 {\n",
       "            background-color:  #e2dad5;\n",
       "            color:  #000000;\n",
       "        }    #T_9235ac5a_c3c7_11e9_a25e_b831b59981e6row7_col10 {\n",
       "            background-color:  #cad8ef;\n",
       "            color:  #000000;\n",
       "        }    #T_9235ac5a_c3c7_11e9_a25e_b831b59981e6row7_col11 {\n",
       "            background-color:  #d1dae9;\n",
       "            color:  #000000;\n",
       "        }    #T_9235ac5a_c3c7_11e9_a25e_b831b59981e6row7_col12 {\n",
       "            background-color:  #7ea1fa;\n",
       "            color:  #000000;\n",
       "        }    #T_9235ac5a_c3c7_11e9_a25e_b831b59981e6row7_col13 {\n",
       "            background-color:  #cfdaea;\n",
       "            color:  #000000;\n",
       "        }    #T_9235ac5a_c3c7_11e9_a25e_b831b59981e6row7_col14 {\n",
       "            background-color:  #6282ea;\n",
       "            color:  #000000;\n",
       "        }    #T_9235ac5a_c3c7_11e9_a25e_b831b59981e6row7_col15 {\n",
       "            background-color:  #e7d7ce;\n",
       "            color:  #000000;\n",
       "        }    #T_9235ac5a_c3c7_11e9_a25e_b831b59981e6row7_col16 {\n",
       "            background-color:  #cfdaea;\n",
       "            color:  #000000;\n",
       "        }    #T_9235ac5a_c3c7_11e9_a25e_b831b59981e6row7_col17 {\n",
       "            background-color:  #6282ea;\n",
       "            color:  #000000;\n",
       "        }    #T_9235ac5a_c3c7_11e9_a25e_b831b59981e6row8_col0 {\n",
       "            background-color:  #6b8df0;\n",
       "            color:  #000000;\n",
       "        }    #T_9235ac5a_c3c7_11e9_a25e_b831b59981e6row8_col1 {\n",
       "            background-color:  #f1ccb8;\n",
       "            color:  #000000;\n",
       "        }    #T_9235ac5a_c3c7_11e9_a25e_b831b59981e6row8_col2 {\n",
       "            background-color:  #f0cdbb;\n",
       "            color:  #000000;\n",
       "        }    #T_9235ac5a_c3c7_11e9_a25e_b831b59981e6row8_col3 {\n",
       "            background-color:  #f7b093;\n",
       "            color:  #000000;\n",
       "        }    #T_9235ac5a_c3c7_11e9_a25e_b831b59981e6row8_col4 {\n",
       "            background-color:  #f7b497;\n",
       "            color:  #000000;\n",
       "        }    #T_9235ac5a_c3c7_11e9_a25e_b831b59981e6row8_col5 {\n",
       "            background-color:  #5b7ae5;\n",
       "            color:  #000000;\n",
       "        }    #T_9235ac5a_c3c7_11e9_a25e_b831b59981e6row8_col6 {\n",
       "            background-color:  #80a3fa;\n",
       "            color:  #000000;\n",
       "        }    #T_9235ac5a_c3c7_11e9_a25e_b831b59981e6row8_col7 {\n",
       "            background-color:  #bed2f6;\n",
       "            color:  #000000;\n",
       "        }    #T_9235ac5a_c3c7_11e9_a25e_b831b59981e6row8_col8 {\n",
       "            background-color:  #b40426;\n",
       "            color:  #f1f1f1;\n",
       "        }    #T_9235ac5a_c3c7_11e9_a25e_b831b59981e6row8_col9 {\n",
       "            background-color:  #f7b396;\n",
       "            color:  #000000;\n",
       "        }    #T_9235ac5a_c3c7_11e9_a25e_b831b59981e6row8_col10 {\n",
       "            background-color:  #f4c5ad;\n",
       "            color:  #000000;\n",
       "        }    #T_9235ac5a_c3c7_11e9_a25e_b831b59981e6row8_col11 {\n",
       "            background-color:  #ead4c8;\n",
       "            color:  #000000;\n",
       "        }    #T_9235ac5a_c3c7_11e9_a25e_b831b59981e6row8_col12 {\n",
       "            background-color:  #7396f5;\n",
       "            color:  #000000;\n",
       "        }    #T_9235ac5a_c3c7_11e9_a25e_b831b59981e6row8_col13 {\n",
       "            background-color:  #bcd2f7;\n",
       "            color:  #000000;\n",
       "        }    #T_9235ac5a_c3c7_11e9_a25e_b831b59981e6row8_col14 {\n",
       "            background-color:  #8caffe;\n",
       "            color:  #000000;\n",
       "        }    #T_9235ac5a_c3c7_11e9_a25e_b831b59981e6row8_col15 {\n",
       "            background-color:  #e8d6cc;\n",
       "            color:  #000000;\n",
       "        }    #T_9235ac5a_c3c7_11e9_a25e_b831b59981e6row8_col16 {\n",
       "            background-color:  #bcd2f7;\n",
       "            color:  #000000;\n",
       "        }    #T_9235ac5a_c3c7_11e9_a25e_b831b59981e6row8_col17 {\n",
       "            background-color:  #8caffe;\n",
       "            color:  #000000;\n",
       "        }    #T_9235ac5a_c3c7_11e9_a25e_b831b59981e6row9_col0 {\n",
       "            background-color:  #4c66d6;\n",
       "            color:  #000000;\n",
       "        }    #T_9235ac5a_c3c7_11e9_a25e_b831b59981e6row9_col1 {\n",
       "            background-color:  #f39475;\n",
       "            color:  #000000;\n",
       "        }    #T_9235ac5a_c3c7_11e9_a25e_b831b59981e6row9_col2 {\n",
       "            background-color:  #f7b497;\n",
       "            color:  #000000;\n",
       "        }    #T_9235ac5a_c3c7_11e9_a25e_b831b59981e6row9_col3 {\n",
       "            background-color:  #f29072;\n",
       "            color:  #000000;\n",
       "        }    #T_9235ac5a_c3c7_11e9_a25e_b831b59981e6row9_col4 {\n",
       "            background-color:  #ef886b;\n",
       "            color:  #000000;\n",
       "        }    #T_9235ac5a_c3c7_11e9_a25e_b831b59981e6row9_col5 {\n",
       "            background-color:  #82a6fb;\n",
       "            color:  #000000;\n",
       "        }    #T_9235ac5a_c3c7_11e9_a25e_b831b59981e6row9_col6 {\n",
       "            background-color:  #7699f6;\n",
       "            color:  #000000;\n",
       "        }    #T_9235ac5a_c3c7_11e9_a25e_b831b59981e6row9_col7 {\n",
       "            background-color:  #c1d4f4;\n",
       "            color:  #000000;\n",
       "        }    #T_9235ac5a_c3c7_11e9_a25e_b831b59981e6row9_col8 {\n",
       "            background-color:  #f6bea4;\n",
       "            color:  #000000;\n",
       "        }    #T_9235ac5a_c3c7_11e9_a25e_b831b59981e6row9_col9 {\n",
       "            background-color:  #b40426;\n",
       "            color:  #f1f1f1;\n",
       "        }    #T_9235ac5a_c3c7_11e9_a25e_b831b59981e6row9_col10 {\n",
       "            background-color:  #e6d7cf;\n",
       "            color:  #000000;\n",
       "        }    #T_9235ac5a_c3c7_11e9_a25e_b831b59981e6row9_col11 {\n",
       "            background-color:  #f7af91;\n",
       "            color:  #000000;\n",
       "        }    #T_9235ac5a_c3c7_11e9_a25e_b831b59981e6row9_col12 {\n",
       "            background-color:  #5f7fe8;\n",
       "            color:  #000000;\n",
       "        }    #T_9235ac5a_c3c7_11e9_a25e_b831b59981e6row9_col13 {\n",
       "            background-color:  #f4c6af;\n",
       "            color:  #000000;\n",
       "        }    #T_9235ac5a_c3c7_11e9_a25e_b831b59981e6row9_col14 {\n",
       "            background-color:  #6a8bef;\n",
       "            color:  #000000;\n",
       "        }    #T_9235ac5a_c3c7_11e9_a25e_b831b59981e6row9_col15 {\n",
       "            background-color:  #f7bca1;\n",
       "            color:  #000000;\n",
       "        }    #T_9235ac5a_c3c7_11e9_a25e_b831b59981e6row9_col16 {\n",
       "            background-color:  #f4c6af;\n",
       "            color:  #000000;\n",
       "        }    #T_9235ac5a_c3c7_11e9_a25e_b831b59981e6row9_col17 {\n",
       "            background-color:  #6a8bef;\n",
       "            color:  #000000;\n",
       "        }    #T_9235ac5a_c3c7_11e9_a25e_b831b59981e6row10_col0 {\n",
       "            background-color:  #799cf8;\n",
       "            color:  #000000;\n",
       "        }    #T_9235ac5a_c3c7_11e9_a25e_b831b59981e6row10_col1 {\n",
       "            background-color:  #f5c0a7;\n",
       "            color:  #000000;\n",
       "        }    #T_9235ac5a_c3c7_11e9_a25e_b831b59981e6row10_col2 {\n",
       "            background-color:  #f7ad90;\n",
       "            color:  #000000;\n",
       "        }    #T_9235ac5a_c3c7_11e9_a25e_b831b59981e6row10_col3 {\n",
       "            background-color:  #f7a889;\n",
       "            color:  #000000;\n",
       "        }    #T_9235ac5a_c3c7_11e9_a25e_b831b59981e6row10_col4 {\n",
       "            background-color:  #e3d9d3;\n",
       "            color:  #000000;\n",
       "        }    #T_9235ac5a_c3c7_11e9_a25e_b831b59981e6row10_col5 {\n",
       "            background-color:  #90b2fe;\n",
       "            color:  #000000;\n",
       "        }    #T_9235ac5a_c3c7_11e9_a25e_b831b59981e6row10_col6 {\n",
       "            background-color:  #6282ea;\n",
       "            color:  #000000;\n",
       "        }    #T_9235ac5a_c3c7_11e9_a25e_b831b59981e6row10_col7 {\n",
       "            background-color:  #bfd3f6;\n",
       "            color:  #000000;\n",
       "        }    #T_9235ac5a_c3c7_11e9_a25e_b831b59981e6row10_col8 {\n",
       "            background-color:  #f5c0a7;\n",
       "            color:  #000000;\n",
       "        }    #T_9235ac5a_c3c7_11e9_a25e_b831b59981e6row10_col9 {\n",
       "            background-color:  #f2cab5;\n",
       "            color:  #000000;\n",
       "        }    #T_9235ac5a_c3c7_11e9_a25e_b831b59981e6row10_col10 {\n",
       "            background-color:  #b40426;\n",
       "            color:  #f1f1f1;\n",
       "        }    #T_9235ac5a_c3c7_11e9_a25e_b831b59981e6row10_col11 {\n",
       "            background-color:  #dbdcde;\n",
       "            color:  #000000;\n",
       "        }    #T_9235ac5a_c3c7_11e9_a25e_b831b59981e6row10_col12 {\n",
       "            background-color:  #516ddb;\n",
       "            color:  #000000;\n",
       "        }    #T_9235ac5a_c3c7_11e9_a25e_b831b59981e6row10_col13 {\n",
       "            background-color:  #c9d7f0;\n",
       "            color:  #000000;\n",
       "        }    #T_9235ac5a_c3c7_11e9_a25e_b831b59981e6row10_col14 {\n",
       "            background-color:  #85a8fc;\n",
       "            color:  #000000;\n",
       "        }    #T_9235ac5a_c3c7_11e9_a25e_b831b59981e6row10_col15 {\n",
       "            background-color:  #d3dbe7;\n",
       "            color:  #000000;\n",
       "        }    #T_9235ac5a_c3c7_11e9_a25e_b831b59981e6row10_col16 {\n",
       "            background-color:  #c9d7f0;\n",
       "            color:  #000000;\n",
       "        }    #T_9235ac5a_c3c7_11e9_a25e_b831b59981e6row10_col17 {\n",
       "            background-color:  #85a8fc;\n",
       "            color:  #000000;\n",
       "        }    #T_9235ac5a_c3c7_11e9_a25e_b831b59981e6row11_col0 {\n",
       "            background-color:  #688aef;\n",
       "            color:  #000000;\n",
       "        }    #T_9235ac5a_c3c7_11e9_a25e_b831b59981e6row11_col1 {\n",
       "            background-color:  #f7ac8e;\n",
       "            color:  #000000;\n",
       "        }    #T_9235ac5a_c3c7_11e9_a25e_b831b59981e6row11_col2 {\n",
       "            background-color:  #f1cdba;\n",
       "            color:  #000000;\n",
       "        }    #T_9235ac5a_c3c7_11e9_a25e_b831b59981e6row11_col3 {\n",
       "            background-color:  #f7b99e;\n",
       "            color:  #000000;\n",
       "        }    #T_9235ac5a_c3c7_11e9_a25e_b831b59981e6row11_col4 {\n",
       "            background-color:  #f7b497;\n",
       "            color:  #000000;\n",
       "        }    #T_9235ac5a_c3c7_11e9_a25e_b831b59981e6row11_col5 {\n",
       "            background-color:  #6788ee;\n",
       "            color:  #000000;\n",
       "        }    #T_9235ac5a_c3c7_11e9_a25e_b831b59981e6row11_col6 {\n",
       "            background-color:  #6788ee;\n",
       "            color:  #000000;\n",
       "        }    #T_9235ac5a_c3c7_11e9_a25e_b831b59981e6row11_col7 {\n",
       "            background-color:  #bbd1f8;\n",
       "            color:  #000000;\n",
       "        }    #T_9235ac5a_c3c7_11e9_a25e_b831b59981e6row11_col8 {\n",
       "            background-color:  #ead5c9;\n",
       "            color:  #000000;\n",
       "        }    #T_9235ac5a_c3c7_11e9_a25e_b831b59981e6row11_col9 {\n",
       "            background-color:  #f6a385;\n",
       "            color:  #000000;\n",
       "        }    #T_9235ac5a_c3c7_11e9_a25e_b831b59981e6row11_col10 {\n",
       "            background-color:  #d4dbe6;\n",
       "            color:  #000000;\n",
       "        }    #T_9235ac5a_c3c7_11e9_a25e_b831b59981e6row11_col11 {\n",
       "            background-color:  #b40426;\n",
       "            color:  #f1f1f1;\n",
       "        }    #T_9235ac5a_c3c7_11e9_a25e_b831b59981e6row11_col12 {\n",
       "            background-color:  #4a63d3;\n",
       "            color:  #f1f1f1;\n",
       "        }    #T_9235ac5a_c3c7_11e9_a25e_b831b59981e6row11_col13 {\n",
       "            background-color:  #ead5c9;\n",
       "            color:  #000000;\n",
       "        }    #T_9235ac5a_c3c7_11e9_a25e_b831b59981e6row11_col14 {\n",
       "            background-color:  #688aef;\n",
       "            color:  #000000;\n",
       "        }    #T_9235ac5a_c3c7_11e9_a25e_b831b59981e6row11_col15 {\n",
       "            background-color:  #f5c1a9;\n",
       "            color:  #000000;\n",
       "        }    #T_9235ac5a_c3c7_11e9_a25e_b831b59981e6row11_col16 {\n",
       "            background-color:  #ead5c9;\n",
       "            color:  #000000;\n",
       "        }    #T_9235ac5a_c3c7_11e9_a25e_b831b59981e6row11_col17 {\n",
       "            background-color:  #688aef;\n",
       "            color:  #000000;\n",
       "        }    #T_9235ac5a_c3c7_11e9_a25e_b831b59981e6row12_col0 {\n",
       "            background-color:  #dddcdc;\n",
       "            color:  #000000;\n",
       "        }    #T_9235ac5a_c3c7_11e9_a25e_b831b59981e6row12_col1 {\n",
       "            background-color:  #9ebeff;\n",
       "            color:  #000000;\n",
       "        }    #T_9235ac5a_c3c7_11e9_a25e_b831b59981e6row12_col2 {\n",
       "            background-color:  #96b7ff;\n",
       "            color:  #000000;\n",
       "        }    #T_9235ac5a_c3c7_11e9_a25e_b831b59981e6row12_col3 {\n",
       "            background-color:  #a7c5fe;\n",
       "            color:  #000000;\n",
       "        }    #T_9235ac5a_c3c7_11e9_a25e_b831b59981e6row12_col4 {\n",
       "            background-color:  #b7cff9;\n",
       "            color:  #000000;\n",
       "        }    #T_9235ac5a_c3c7_11e9_a25e_b831b59981e6row12_col5 {\n",
       "            background-color:  #7699f6;\n",
       "            color:  #000000;\n",
       "        }    #T_9235ac5a_c3c7_11e9_a25e_b831b59981e6row12_col6 {\n",
       "            background-color:  #6c8ff1;\n",
       "            color:  #000000;\n",
       "        }    #T_9235ac5a_c3c7_11e9_a25e_b831b59981e6row12_col7 {\n",
       "            background-color:  #96b7ff;\n",
       "            color:  #000000;\n",
       "        }    #T_9235ac5a_c3c7_11e9_a25e_b831b59981e6row12_col8 {\n",
       "            background-color:  #a7c5fe;\n",
       "            color:  #000000;\n",
       "        }    #T_9235ac5a_c3c7_11e9_a25e_b831b59981e6row12_col9 {\n",
       "            background-color:  #b1cbfc;\n",
       "            color:  #000000;\n",
       "        }    #T_9235ac5a_c3c7_11e9_a25e_b831b59981e6row12_col10 {\n",
       "            background-color:  #7ea1fa;\n",
       "            color:  #000000;\n",
       "        }    #T_9235ac5a_c3c7_11e9_a25e_b831b59981e6row12_col11 {\n",
       "            background-color:  #86a9fc;\n",
       "            color:  #000000;\n",
       "        }    #T_9235ac5a_c3c7_11e9_a25e_b831b59981e6row12_col12 {\n",
       "            background-color:  #b40426;\n",
       "            color:  #f1f1f1;\n",
       "        }    #T_9235ac5a_c3c7_11e9_a25e_b831b59981e6row12_col13 {\n",
       "            background-color:  #8db0fe;\n",
       "            color:  #000000;\n",
       "        }    #T_9235ac5a_c3c7_11e9_a25e_b831b59981e6row12_col14 {\n",
       "            background-color:  #9abbff;\n",
       "            color:  #000000;\n",
       "        }    #T_9235ac5a_c3c7_11e9_a25e_b831b59981e6row12_col15 {\n",
       "            background-color:  #adc9fd;\n",
       "            color:  #000000;\n",
       "        }    #T_9235ac5a_c3c7_11e9_a25e_b831b59981e6row12_col16 {\n",
       "            background-color:  #8db0fe;\n",
       "            color:  #000000;\n",
       "        }    #T_9235ac5a_c3c7_11e9_a25e_b831b59981e6row12_col17 {\n",
       "            background-color:  #9abbff;\n",
       "            color:  #000000;\n",
       "        }    #T_9235ac5a_c3c7_11e9_a25e_b831b59981e6row13_col0 {\n",
       "            background-color:  #6384eb;\n",
       "            color:  #000000;\n",
       "        }    #T_9235ac5a_c3c7_11e9_a25e_b831b59981e6row13_col1 {\n",
       "            background-color:  #f7a98b;\n",
       "            color:  #000000;\n",
       "        }    #T_9235ac5a_c3c7_11e9_a25e_b831b59981e6row13_col2 {\n",
       "            background-color:  #f39577;\n",
       "            color:  #000000;\n",
       "        }    #T_9235ac5a_c3c7_11e9_a25e_b831b59981e6row13_col3 {\n",
       "            background-color:  #f6a385;\n",
       "            color:  #000000;\n",
       "        }    #T_9235ac5a_c3c7_11e9_a25e_b831b59981e6row13_col4 {\n",
       "            background-color:  #d5dbe5;\n",
       "            color:  #000000;\n",
       "        }    #T_9235ac5a_c3c7_11e9_a25e_b831b59981e6row13_col5 {\n",
       "            background-color:  #bcd2f7;\n",
       "            color:  #000000;\n",
       "        }    #T_9235ac5a_c3c7_11e9_a25e_b831b59981e6row13_col6 {\n",
       "            background-color:  #4358cb;\n",
       "            color:  #f1f1f1;\n",
       "        }    #T_9235ac5a_c3c7_11e9_a25e_b831b59981e6row13_col7 {\n",
       "            background-color:  #b6cefa;\n",
       "            color:  #000000;\n",
       "        }    #T_9235ac5a_c3c7_11e9_a25e_b831b59981e6row13_col8 {\n",
       "            background-color:  #b6cefa;\n",
       "            color:  #000000;\n",
       "        }    #T_9235ac5a_c3c7_11e9_a25e_b831b59981e6row13_col9 {\n",
       "            background-color:  #f6bea4;\n",
       "            color:  #000000;\n",
       "        }    #T_9235ac5a_c3c7_11e9_a25e_b831b59981e6row13_col10 {\n",
       "            background-color:  #bbd1f8;\n",
       "            color:  #000000;\n",
       "        }    #T_9235ac5a_c3c7_11e9_a25e_b831b59981e6row13_col11 {\n",
       "            background-color:  #e7d7ce;\n",
       "            color:  #000000;\n",
       "        }    #T_9235ac5a_c3c7_11e9_a25e_b831b59981e6row13_col12 {\n",
       "            background-color:  #4b64d5;\n",
       "            color:  #f1f1f1;\n",
       "        }    #T_9235ac5a_c3c7_11e9_a25e_b831b59981e6row13_col13 {\n",
       "            background-color:  #b40426;\n",
       "            color:  #f1f1f1;\n",
       "        }    #T_9235ac5a_c3c7_11e9_a25e_b831b59981e6row13_col14 {\n",
       "            background-color:  #7396f5;\n",
       "            color:  #000000;\n",
       "        }    #T_9235ac5a_c3c7_11e9_a25e_b831b59981e6row13_col15 {\n",
       "            background-color:  #f2c9b4;\n",
       "            color:  #000000;\n",
       "        }    #T_9235ac5a_c3c7_11e9_a25e_b831b59981e6row13_col16 {\n",
       "            background-color:  #b40426;\n",
       "            color:  #f1f1f1;\n",
       "        }    #T_9235ac5a_c3c7_11e9_a25e_b831b59981e6row13_col17 {\n",
       "            background-color:  #7396f5;\n",
       "            color:  #000000;\n",
       "        }    #T_9235ac5a_c3c7_11e9_a25e_b831b59981e6row14_col0 {\n",
       "            background-color:  #b7cff9;\n",
       "            color:  #000000;\n",
       "        }    #T_9235ac5a_c3c7_11e9_a25e_b831b59981e6row14_col1 {\n",
       "            background-color:  #b2ccfb;\n",
       "            color:  #000000;\n",
       "        }    #T_9235ac5a_c3c7_11e9_a25e_b831b59981e6row14_col2 {\n",
       "            background-color:  #cad8ef;\n",
       "            color:  #000000;\n",
       "        }    #T_9235ac5a_c3c7_11e9_a25e_b831b59981e6row14_col3 {\n",
       "            background-color:  #c9d7f0;\n",
       "            color:  #000000;\n",
       "        }    #T_9235ac5a_c3c7_11e9_a25e_b831b59981e6row14_col4 {\n",
       "            background-color:  #c1d4f4;\n",
       "            color:  #000000;\n",
       "        }    #T_9235ac5a_c3c7_11e9_a25e_b831b59981e6row14_col5 {\n",
       "            background-color:  #3b4cc0;\n",
       "            color:  #f1f1f1;\n",
       "        }    #T_9235ac5a_c3c7_11e9_a25e_b831b59981e6row14_col6 {\n",
       "            background-color:  #6c8ff1;\n",
       "            color:  #000000;\n",
       "        }    #T_9235ac5a_c3c7_11e9_a25e_b831b59981e6row14_col7 {\n",
       "            background-color:  #7a9df8;\n",
       "            color:  #000000;\n",
       "        }    #T_9235ac5a_c3c7_11e9_a25e_b831b59981e6row14_col8 {\n",
       "            background-color:  #bad0f8;\n",
       "            color:  #000000;\n",
       "        }    #T_9235ac5a_c3c7_11e9_a25e_b831b59981e6row14_col9 {\n",
       "            background-color:  #b6cefa;\n",
       "            color:  #000000;\n",
       "        }    #T_9235ac5a_c3c7_11e9_a25e_b831b59981e6row14_col10 {\n",
       "            background-color:  #aac7fd;\n",
       "            color:  #000000;\n",
       "        }    #T_9235ac5a_c3c7_11e9_a25e_b831b59981e6row14_col11 {\n",
       "            background-color:  #9fbfff;\n",
       "            color:  #000000;\n",
       "        }    #T_9235ac5a_c3c7_11e9_a25e_b831b59981e6row14_col12 {\n",
       "            background-color:  #97b8ff;\n",
       "            color:  #000000;\n",
       "        }    #T_9235ac5a_c3c7_11e9_a25e_b831b59981e6row14_col13 {\n",
       "            background-color:  #adc9fd;\n",
       "            color:  #000000;\n",
       "        }    #T_9235ac5a_c3c7_11e9_a25e_b831b59981e6row14_col14 {\n",
       "            background-color:  #b40426;\n",
       "            color:  #f1f1f1;\n",
       "        }    #T_9235ac5a_c3c7_11e9_a25e_b831b59981e6row14_col15 {\n",
       "            background-color:  #b6cefa;\n",
       "            color:  #000000;\n",
       "        }    #T_9235ac5a_c3c7_11e9_a25e_b831b59981e6row14_col16 {\n",
       "            background-color:  #adc9fd;\n",
       "            color:  #000000;\n",
       "        }    #T_9235ac5a_c3c7_11e9_a25e_b831b59981e6row14_col17 {\n",
       "            background-color:  #b40426;\n",
       "            color:  #f1f1f1;\n",
       "        }    #T_9235ac5a_c3c7_11e9_a25e_b831b59981e6row15_col0 {\n",
       "            background-color:  #5d7ce6;\n",
       "            color:  #000000;\n",
       "        }    #T_9235ac5a_c3c7_11e9_a25e_b831b59981e6row15_col1 {\n",
       "            background-color:  #f4987a;\n",
       "            color:  #000000;\n",
       "        }    #T_9235ac5a_c3c7_11e9_a25e_b831b59981e6row15_col2 {\n",
       "            background-color:  #f7b79b;\n",
       "            color:  #000000;\n",
       "        }    #T_9235ac5a_c3c7_11e9_a25e_b831b59981e6row15_col3 {\n",
       "            background-color:  #f49a7b;\n",
       "            color:  #000000;\n",
       "        }    #T_9235ac5a_c3c7_11e9_a25e_b831b59981e6row15_col4 {\n",
       "            background-color:  #f7b396;\n",
       "            color:  #000000;\n",
       "        }    #T_9235ac5a_c3c7_11e9_a25e_b831b59981e6row15_col5 {\n",
       "            background-color:  #7597f6;\n",
       "            color:  #000000;\n",
       "        }    #T_9235ac5a_c3c7_11e9_a25e_b831b59981e6row15_col6 {\n",
       "            background-color:  #3b4cc0;\n",
       "            color:  #f1f1f1;\n",
       "        }    #T_9235ac5a_c3c7_11e9_a25e_b831b59981e6row15_col7 {\n",
       "            background-color:  #d2dbe8;\n",
       "            color:  #000000;\n",
       "        }    #T_9235ac5a_c3c7_11e9_a25e_b831b59981e6row15_col8 {\n",
       "            background-color:  #e2dad5;\n",
       "            color:  #000000;\n",
       "        }    #T_9235ac5a_c3c7_11e9_a25e_b831b59981e6row15_col9 {\n",
       "            background-color:  #f7b599;\n",
       "            color:  #000000;\n",
       "        }    #T_9235ac5a_c3c7_11e9_a25e_b831b59981e6row15_col10 {\n",
       "            background-color:  #c1d4f4;\n",
       "            color:  #000000;\n",
       "        }    #T_9235ac5a_c3c7_11e9_a25e_b831b59981e6row15_col11 {\n",
       "            background-color:  #f4c6af;\n",
       "            color:  #000000;\n",
       "        }    #T_9235ac5a_c3c7_11e9_a25e_b831b59981e6row15_col12 {\n",
       "            background-color:  #6b8df0;\n",
       "            color:  #000000;\n",
       "        }    #T_9235ac5a_c3c7_11e9_a25e_b831b59981e6row15_col13 {\n",
       "            background-color:  #f2cbb7;\n",
       "            color:  #000000;\n",
       "        }    #T_9235ac5a_c3c7_11e9_a25e_b831b59981e6row15_col14 {\n",
       "            background-color:  #799cf8;\n",
       "            color:  #000000;\n",
       "        }    #T_9235ac5a_c3c7_11e9_a25e_b831b59981e6row15_col15 {\n",
       "            background-color:  #b40426;\n",
       "            color:  #f1f1f1;\n",
       "        }    #T_9235ac5a_c3c7_11e9_a25e_b831b59981e6row15_col16 {\n",
       "            background-color:  #f2cbb7;\n",
       "            color:  #000000;\n",
       "        }    #T_9235ac5a_c3c7_11e9_a25e_b831b59981e6row15_col17 {\n",
       "            background-color:  #799cf8;\n",
       "            color:  #000000;\n",
       "        }    #T_9235ac5a_c3c7_11e9_a25e_b831b59981e6row16_col0 {\n",
       "            background-color:  #6384eb;\n",
       "            color:  #000000;\n",
       "        }    #T_9235ac5a_c3c7_11e9_a25e_b831b59981e6row16_col1 {\n",
       "            background-color:  #f7a98b;\n",
       "            color:  #000000;\n",
       "        }    #T_9235ac5a_c3c7_11e9_a25e_b831b59981e6row16_col2 {\n",
       "            background-color:  #f39577;\n",
       "            color:  #000000;\n",
       "        }    #T_9235ac5a_c3c7_11e9_a25e_b831b59981e6row16_col3 {\n",
       "            background-color:  #f6a385;\n",
       "            color:  #000000;\n",
       "        }    #T_9235ac5a_c3c7_11e9_a25e_b831b59981e6row16_col4 {\n",
       "            background-color:  #d5dbe5;\n",
       "            color:  #000000;\n",
       "        }    #T_9235ac5a_c3c7_11e9_a25e_b831b59981e6row16_col5 {\n",
       "            background-color:  #bcd2f7;\n",
       "            color:  #000000;\n",
       "        }    #T_9235ac5a_c3c7_11e9_a25e_b831b59981e6row16_col6 {\n",
       "            background-color:  #4358cb;\n",
       "            color:  #f1f1f1;\n",
       "        }    #T_9235ac5a_c3c7_11e9_a25e_b831b59981e6row16_col7 {\n",
       "            background-color:  #b6cefa;\n",
       "            color:  #000000;\n",
       "        }    #T_9235ac5a_c3c7_11e9_a25e_b831b59981e6row16_col8 {\n",
       "            background-color:  #b6cefa;\n",
       "            color:  #000000;\n",
       "        }    #T_9235ac5a_c3c7_11e9_a25e_b831b59981e6row16_col9 {\n",
       "            background-color:  #f6bea4;\n",
       "            color:  #000000;\n",
       "        }    #T_9235ac5a_c3c7_11e9_a25e_b831b59981e6row16_col10 {\n",
       "            background-color:  #bbd1f8;\n",
       "            color:  #000000;\n",
       "        }    #T_9235ac5a_c3c7_11e9_a25e_b831b59981e6row16_col11 {\n",
       "            background-color:  #e7d7ce;\n",
       "            color:  #000000;\n",
       "        }    #T_9235ac5a_c3c7_11e9_a25e_b831b59981e6row16_col12 {\n",
       "            background-color:  #4b64d5;\n",
       "            color:  #f1f1f1;\n",
       "        }    #T_9235ac5a_c3c7_11e9_a25e_b831b59981e6row16_col13 {\n",
       "            background-color:  #b40426;\n",
       "            color:  #f1f1f1;\n",
       "        }    #T_9235ac5a_c3c7_11e9_a25e_b831b59981e6row16_col14 {\n",
       "            background-color:  #7396f5;\n",
       "            color:  #000000;\n",
       "        }    #T_9235ac5a_c3c7_11e9_a25e_b831b59981e6row16_col15 {\n",
       "            background-color:  #f2c9b4;\n",
       "            color:  #000000;\n",
       "        }    #T_9235ac5a_c3c7_11e9_a25e_b831b59981e6row16_col16 {\n",
       "            background-color:  #b40426;\n",
       "            color:  #f1f1f1;\n",
       "        }    #T_9235ac5a_c3c7_11e9_a25e_b831b59981e6row16_col17 {\n",
       "            background-color:  #7396f5;\n",
       "            color:  #000000;\n",
       "        }    #T_9235ac5a_c3c7_11e9_a25e_b831b59981e6row17_col0 {\n",
       "            background-color:  #b7cff9;\n",
       "            color:  #000000;\n",
       "        }    #T_9235ac5a_c3c7_11e9_a25e_b831b59981e6row17_col1 {\n",
       "            background-color:  #b2ccfb;\n",
       "            color:  #000000;\n",
       "        }    #T_9235ac5a_c3c7_11e9_a25e_b831b59981e6row17_col2 {\n",
       "            background-color:  #cad8ef;\n",
       "            color:  #000000;\n",
       "        }    #T_9235ac5a_c3c7_11e9_a25e_b831b59981e6row17_col3 {\n",
       "            background-color:  #c9d7f0;\n",
       "            color:  #000000;\n",
       "        }    #T_9235ac5a_c3c7_11e9_a25e_b831b59981e6row17_col4 {\n",
       "            background-color:  #c1d4f4;\n",
       "            color:  #000000;\n",
       "        }    #T_9235ac5a_c3c7_11e9_a25e_b831b59981e6row17_col5 {\n",
       "            background-color:  #3b4cc0;\n",
       "            color:  #f1f1f1;\n",
       "        }    #T_9235ac5a_c3c7_11e9_a25e_b831b59981e6row17_col6 {\n",
       "            background-color:  #6c8ff1;\n",
       "            color:  #000000;\n",
       "        }    #T_9235ac5a_c3c7_11e9_a25e_b831b59981e6row17_col7 {\n",
       "            background-color:  #7a9df8;\n",
       "            color:  #000000;\n",
       "        }    #T_9235ac5a_c3c7_11e9_a25e_b831b59981e6row17_col8 {\n",
       "            background-color:  #bad0f8;\n",
       "            color:  #000000;\n",
       "        }    #T_9235ac5a_c3c7_11e9_a25e_b831b59981e6row17_col9 {\n",
       "            background-color:  #b6cefa;\n",
       "            color:  #000000;\n",
       "        }    #T_9235ac5a_c3c7_11e9_a25e_b831b59981e6row17_col10 {\n",
       "            background-color:  #aac7fd;\n",
       "            color:  #000000;\n",
       "        }    #T_9235ac5a_c3c7_11e9_a25e_b831b59981e6row17_col11 {\n",
       "            background-color:  #9fbfff;\n",
       "            color:  #000000;\n",
       "        }    #T_9235ac5a_c3c7_11e9_a25e_b831b59981e6row17_col12 {\n",
       "            background-color:  #97b8ff;\n",
       "            color:  #000000;\n",
       "        }    #T_9235ac5a_c3c7_11e9_a25e_b831b59981e6row17_col13 {\n",
       "            background-color:  #adc9fd;\n",
       "            color:  #000000;\n",
       "        }    #T_9235ac5a_c3c7_11e9_a25e_b831b59981e6row17_col14 {\n",
       "            background-color:  #b40426;\n",
       "            color:  #f1f1f1;\n",
       "        }    #T_9235ac5a_c3c7_11e9_a25e_b831b59981e6row17_col15 {\n",
       "            background-color:  #b6cefa;\n",
       "            color:  #000000;\n",
       "        }    #T_9235ac5a_c3c7_11e9_a25e_b831b59981e6row17_col16 {\n",
       "            background-color:  #adc9fd;\n",
       "            color:  #000000;\n",
       "        }    #T_9235ac5a_c3c7_11e9_a25e_b831b59981e6row17_col17 {\n",
       "            background-color:  #b40426;\n",
       "            color:  #f1f1f1;\n",
       "        }</style><table id=\"T_9235ac5a_c3c7_11e9_a25e_b831b59981e6\" ><thead>    <tr>        <th class=\"blank level0\" ></th>        <th class=\"col_heading level0 col0\" >Rank</th>        <th class=\"col_heading level0 col1\" >1_Poverty</th>        <th class=\"col_heading level0 col2\" >2_Hunger</th>        <th class=\"col_heading level0 col3\" >3_Health</th>        <th class=\"col_heading level0 col4\" >4_Education</th>        <th class=\"col_heading level0 col5\" >5_Gender Equality</th>        <th class=\"col_heading level0 col6\" >6_Clean Water</th>        <th class=\"col_heading level0 col7\" >7_Energy Afforability</th>        <th class=\"col_heading level0 col8\" >8_Economy</th>        <th class=\"col_heading level0 col9\" >9_Industry</th>        <th class=\"col_heading level0 col10\" >10_Reduced Inequality</th>        <th class=\"col_heading level0 col11\" >11_Community_Sustainability</th>        <th class=\"col_heading level0 col12\" >12_Consumtion_Production</th>        <th class=\"col_heading level0 col13\" >13_Climate Action</th>        <th class=\"col_heading level0 col14\" >15_Life_on_Land</th>        <th class=\"col_heading level0 col15\" >16_Justice</th>        <th class=\"col_heading level0 col16\" >13_Climate Action_z</th>        <th class=\"col_heading level0 col17\" >15_Life_on_Land_z</th>    </tr></thead><tbody>\n",
       "                <tr>\n",
       "                        <th id=\"T_9235ac5a_c3c7_11e9_a25e_b831b59981e6level0_row0\" class=\"row_heading level0 row0\" >Rank</th>\n",
       "                        <td id=\"T_9235ac5a_c3c7_11e9_a25e_b831b59981e6row0_col0\" class=\"data row0 col0\" >1</td>\n",
       "                        <td id=\"T_9235ac5a_c3c7_11e9_a25e_b831b59981e6row0_col1\" class=\"data row0 col1\" >-0.766933</td>\n",
       "                        <td id=\"T_9235ac5a_c3c7_11e9_a25e_b831b59981e6row0_col2\" class=\"data row0 col2\" >-0.728407</td>\n",
       "                        <td id=\"T_9235ac5a_c3c7_11e9_a25e_b831b59981e6row0_col3\" class=\"data row0 col3\" >-0.814289</td>\n",
       "                        <td id=\"T_9235ac5a_c3c7_11e9_a25e_b831b59981e6row0_col4\" class=\"data row0 col4\" >-0.575064</td>\n",
       "                        <td id=\"T_9235ac5a_c3c7_11e9_a25e_b831b59981e6row0_col5\" class=\"data row0 col5\" >-0.0823345</td>\n",
       "                        <td id=\"T_9235ac5a_c3c7_11e9_a25e_b831b59981e6row0_col6\" class=\"data row0 col6\" >-0.0814014</td>\n",
       "                        <td id=\"T_9235ac5a_c3c7_11e9_a25e_b831b59981e6row0_col7\" class=\"data row0 col7\" >-0.368334</td>\n",
       "                        <td id=\"T_9235ac5a_c3c7_11e9_a25e_b831b59981e6row0_col8\" class=\"data row0 col8\" >-0.531038</td>\n",
       "                        <td id=\"T_9235ac5a_c3c7_11e9_a25e_b831b59981e6row0_col9\" class=\"data row0 col9\" >-0.703947</td>\n",
       "                        <td id=\"T_9235ac5a_c3c7_11e9_a25e_b831b59981e6row0_col10\" class=\"data row0 col10\" >-0.460916</td>\n",
       "                        <td id=\"T_9235ac5a_c3c7_11e9_a25e_b831b59981e6row0_col11\" class=\"data row0 col11\" >-0.545256</td>\n",
       "                        <td id=\"T_9235ac5a_c3c7_11e9_a25e_b831b59981e6row0_col12\" class=\"data row0 col12\" >0.0929626</td>\n",
       "                        <td id=\"T_9235ac5a_c3c7_11e9_a25e_b831b59981e6row0_col13\" class=\"data row0 col13\" >-0.577749</td>\n",
       "                        <td id=\"T_9235ac5a_c3c7_11e9_a25e_b831b59981e6row0_col14\" class=\"data row0 col14\" >-0.140968</td>\n",
       "                        <td id=\"T_9235ac5a_c3c7_11e9_a25e_b831b59981e6row0_col15\" class=\"data row0 col15\" >-0.614305</td>\n",
       "                        <td id=\"T_9235ac5a_c3c7_11e9_a25e_b831b59981e6row0_col16\" class=\"data row0 col16\" >-0.577749</td>\n",
       "                        <td id=\"T_9235ac5a_c3c7_11e9_a25e_b831b59981e6row0_col17\" class=\"data row0 col17\" >-0.140968</td>\n",
       "            </tr>\n",
       "            <tr>\n",
       "                        <th id=\"T_9235ac5a_c3c7_11e9_a25e_b831b59981e6level0_row1\" class=\"row_heading level0 row1\" >1_Poverty</th>\n",
       "                        <td id=\"T_9235ac5a_c3c7_11e9_a25e_b831b59981e6row1_col0\" class=\"data row1 col0\" >-0.766933</td>\n",
       "                        <td id=\"T_9235ac5a_c3c7_11e9_a25e_b831b59981e6row1_col1\" class=\"data row1 col1\" >1</td>\n",
       "                        <td id=\"T_9235ac5a_c3c7_11e9_a25e_b831b59981e6row1_col2\" class=\"data row1 col2\" >0.613338</td>\n",
       "                        <td id=\"T_9235ac5a_c3c7_11e9_a25e_b831b59981e6row1_col3\" class=\"data row1 col3\" >0.630591</td>\n",
       "                        <td id=\"T_9235ac5a_c3c7_11e9_a25e_b831b59981e6row1_col4\" class=\"data row1 col4\" >0.472436</td>\n",
       "                        <td id=\"T_9235ac5a_c3c7_11e9_a25e_b831b59981e6row1_col5\" class=\"data row1 col5\" >0.0699141</td>\n",
       "                        <td id=\"T_9235ac5a_c3c7_11e9_a25e_b831b59981e6row1_col6\" class=\"data row1 col6\" >0.0630336</td>\n",
       "                        <td id=\"T_9235ac5a_c3c7_11e9_a25e_b831b59981e6row1_col7\" class=\"data row1 col7\" >0.29698</td>\n",
       "                        <td id=\"T_9235ac5a_c3c7_11e9_a25e_b831b59981e6row1_col8\" class=\"data row1 col8\" >0.284128</td>\n",
       "                        <td id=\"T_9235ac5a_c3c7_11e9_a25e_b831b59981e6row1_col9\" class=\"data row1 col9\" >0.580536</td>\n",
       "                        <td id=\"T_9235ac5a_c3c7_11e9_a25e_b831b59981e6row1_col10\" class=\"data row1 col10\" >0.359687</td>\n",
       "                        <td id=\"T_9235ac5a_c3c7_11e9_a25e_b831b59981e6row1_col11\" class=\"data row1 col11\" >0.472305</td>\n",
       "                        <td id=\"T_9235ac5a_c3c7_11e9_a25e_b831b59981e6row1_col12\" class=\"data row1 col12\" >-0.236906</td>\n",
       "                        <td id=\"T_9235ac5a_c3c7_11e9_a25e_b831b59981e6row1_col13\" class=\"data row1 col13\" >0.487401</td>\n",
       "                        <td id=\"T_9235ac5a_c3c7_11e9_a25e_b831b59981e6row1_col14\" class=\"data row1 col14\" >-0.135086</td>\n",
       "                        <td id=\"T_9235ac5a_c3c7_11e9_a25e_b831b59981e6row1_col15\" class=\"data row1 col15\" >0.563007</td>\n",
       "                        <td id=\"T_9235ac5a_c3c7_11e9_a25e_b831b59981e6row1_col16\" class=\"data row1 col16\" >0.487401</td>\n",
       "                        <td id=\"T_9235ac5a_c3c7_11e9_a25e_b831b59981e6row1_col17\" class=\"data row1 col17\" >-0.135086</td>\n",
       "            </tr>\n",
       "            <tr>\n",
       "                        <th id=\"T_9235ac5a_c3c7_11e9_a25e_b831b59981e6level0_row2\" class=\"row_heading level0 row2\" >2_Hunger</th>\n",
       "                        <td id=\"T_9235ac5a_c3c7_11e9_a25e_b831b59981e6row2_col0\" class=\"data row2 col0\" >-0.728407</td>\n",
       "                        <td id=\"T_9235ac5a_c3c7_11e9_a25e_b831b59981e6row2_col1\" class=\"data row2 col1\" >0.613338</td>\n",
       "                        <td id=\"T_9235ac5a_c3c7_11e9_a25e_b831b59981e6row2_col2\" class=\"data row2 col2\" >1</td>\n",
       "                        <td id=\"T_9235ac5a_c3c7_11e9_a25e_b831b59981e6row2_col3\" class=\"data row2 col3\" >0.796911</td>\n",
       "                        <td id=\"T_9235ac5a_c3c7_11e9_a25e_b831b59981e6row2_col4\" class=\"data row2 col4\" >0.232136</td>\n",
       "                        <td id=\"T_9235ac5a_c3c7_11e9_a25e_b831b59981e6row2_col5\" class=\"data row2 col5\" >0.0505289</td>\n",
       "                        <td id=\"T_9235ac5a_c3c7_11e9_a25e_b831b59981e6row2_col6\" class=\"data row2 col6\" >-0.135502</td>\n",
       "                        <td id=\"T_9235ac5a_c3c7_11e9_a25e_b831b59981e6row2_col7\" class=\"data row2 col7\" >0.332121</td>\n",
       "                        <td id=\"T_9235ac5a_c3c7_11e9_a25e_b831b59981e6row2_col8\" class=\"data row2 col8\" >0.285698</td>\n",
       "                        <td id=\"T_9235ac5a_c3c7_11e9_a25e_b831b59981e6row2_col9\" class=\"data row2 col9\" >0.441056</td>\n",
       "                        <td id=\"T_9235ac5a_c3c7_11e9_a25e_b831b59981e6row2_col10\" class=\"data row2 col10\" >0.473462</td>\n",
       "                        <td id=\"T_9235ac5a_c3c7_11e9_a25e_b831b59981e6row2_col11\" class=\"data row2 col11\" >0.294572</td>\n",
       "                        <td id=\"T_9235ac5a_c3c7_11e9_a25e_b831b59981e6row2_col12\" class=\"data row2 col12\" >-0.252177</td>\n",
       "                        <td id=\"T_9235ac5a_c3c7_11e9_a25e_b831b59981e6row2_col13\" class=\"data row2 col13\" >0.584589</td>\n",
       "                        <td id=\"T_9235ac5a_c3c7_11e9_a25e_b831b59981e6row2_col14\" class=\"data row2 col14\" >0.0165115</td>\n",
       "                        <td id=\"T_9235ac5a_c3c7_11e9_a25e_b831b59981e6row2_col15\" class=\"data row2 col15\" >0.427739</td>\n",
       "                        <td id=\"T_9235ac5a_c3c7_11e9_a25e_b831b59981e6row2_col16\" class=\"data row2 col16\" >0.584589</td>\n",
       "                        <td id=\"T_9235ac5a_c3c7_11e9_a25e_b831b59981e6row2_col17\" class=\"data row2 col17\" >0.0165115</td>\n",
       "            </tr>\n",
       "            <tr>\n",
       "                        <th id=\"T_9235ac5a_c3c7_11e9_a25e_b831b59981e6level0_row3\" class=\"row_heading level0 row3\" >3_Health</th>\n",
       "                        <td id=\"T_9235ac5a_c3c7_11e9_a25e_b831b59981e6row3_col0\" class=\"data row3 col0\" >-0.814289</td>\n",
       "                        <td id=\"T_9235ac5a_c3c7_11e9_a25e_b831b59981e6row3_col1\" class=\"data row3 col1\" >0.630591</td>\n",
       "                        <td id=\"T_9235ac5a_c3c7_11e9_a25e_b831b59981e6row3_col2\" class=\"data row3 col2\" >0.796911</td>\n",
       "                        <td id=\"T_9235ac5a_c3c7_11e9_a25e_b831b59981e6row3_col3\" class=\"data row3 col3\" >1</td>\n",
       "                        <td id=\"T_9235ac5a_c3c7_11e9_a25e_b831b59981e6row3_col4\" class=\"data row3 col4\" >0.431463</td>\n",
       "                        <td id=\"T_9235ac5a_c3c7_11e9_a25e_b831b59981e6row3_col5\" class=\"data row3 col5\" >0.115728</td>\n",
       "                        <td id=\"T_9235ac5a_c3c7_11e9_a25e_b831b59981e6row3_col6\" class=\"data row3 col6\" >-0.0681342</td>\n",
       "                        <td id=\"T_9235ac5a_c3c7_11e9_a25e_b831b59981e6row3_col7\" class=\"data row3 col7\" >0.345585</td>\n",
       "                        <td id=\"T_9235ac5a_c3c7_11e9_a25e_b831b59981e6row3_col8\" class=\"data row3 col8\" >0.435034</td>\n",
       "                        <td id=\"T_9235ac5a_c3c7_11e9_a25e_b831b59981e6row3_col9\" class=\"data row3 col9\" >0.588942</td>\n",
       "                        <td id=\"T_9235ac5a_c3c7_11e9_a25e_b831b59981e6row3_col10\" class=\"data row3 col10\" >0.481186</td>\n",
       "                        <td id=\"T_9235ac5a_c3c7_11e9_a25e_b831b59981e6row3_col11\" class=\"data row3 col11\" >0.388704</td>\n",
       "                        <td id=\"T_9235ac5a_c3c7_11e9_a25e_b831b59981e6row3_col12\" class=\"data row3 col12\" >-0.222442</td>\n",
       "                        <td id=\"T_9235ac5a_c3c7_11e9_a25e_b831b59981e6row3_col13\" class=\"data row3 col13\" >0.500936</td>\n",
       "                        <td id=\"T_9235ac5a_c3c7_11e9_a25e_b831b59981e6row3_col14\" class=\"data row3 col14\" >-0.0366361</td>\n",
       "                        <td id=\"T_9235ac5a_c3c7_11e9_a25e_b831b59981e6row3_col15\" class=\"data row3 col15\" >0.545984</td>\n",
       "                        <td id=\"T_9235ac5a_c3c7_11e9_a25e_b831b59981e6row3_col16\" class=\"data row3 col16\" >0.500936</td>\n",
       "                        <td id=\"T_9235ac5a_c3c7_11e9_a25e_b831b59981e6row3_col17\" class=\"data row3 col17\" >-0.0366361</td>\n",
       "            </tr>\n",
       "            <tr>\n",
       "                        <th id=\"T_9235ac5a_c3c7_11e9_a25e_b831b59981e6level0_row4\" class=\"row_heading level0 row4\" >4_Education</th>\n",
       "                        <td id=\"T_9235ac5a_c3c7_11e9_a25e_b831b59981e6row4_col0\" class=\"data row4 col0\" >-0.575064</td>\n",
       "                        <td id=\"T_9235ac5a_c3c7_11e9_a25e_b831b59981e6row4_col1\" class=\"data row4 col1\" >0.472436</td>\n",
       "                        <td id=\"T_9235ac5a_c3c7_11e9_a25e_b831b59981e6row4_col2\" class=\"data row4 col2\" >0.232136</td>\n",
       "                        <td id=\"T_9235ac5a_c3c7_11e9_a25e_b831b59981e6row4_col3\" class=\"data row4 col3\" >0.431463</td>\n",
       "                        <td id=\"T_9235ac5a_c3c7_11e9_a25e_b831b59981e6row4_col4\" class=\"data row4 col4\" >1</td>\n",
       "                        <td id=\"T_9235ac5a_c3c7_11e9_a25e_b831b59981e6row4_col5\" class=\"data row4 col5\" >-0.147623</td>\n",
       "                        <td id=\"T_9235ac5a_c3c7_11e9_a25e_b831b59981e6row4_col6\" class=\"data row4 col6\" >0.0473296</td>\n",
       "                        <td id=\"T_9235ac5a_c3c7_11e9_a25e_b831b59981e6row4_col7\" class=\"data row4 col7\" >-0.0408876</td>\n",
       "                        <td id=\"T_9235ac5a_c3c7_11e9_a25e_b831b59981e6row4_col8\" class=\"data row4 col8\" >0.491363</td>\n",
       "                        <td id=\"T_9235ac5a_c3c7_11e9_a25e_b831b59981e6row4_col9\" class=\"data row4 col9\" >0.671343</td>\n",
       "                        <td id=\"T_9235ac5a_c3c7_11e9_a25e_b831b59981e6row4_col10\" class=\"data row4 col10\" >0.251502</td>\n",
       "                        <td id=\"T_9235ac5a_c3c7_11e9_a25e_b831b59981e6row4_col11\" class=\"data row4 col11\" >0.49091</td>\n",
       "                        <td id=\"T_9235ac5a_c3c7_11e9_a25e_b831b59981e6row4_col12\" class=\"data row4 col12\" >0.010614</td>\n",
       "                        <td id=\"T_9235ac5a_c3c7_11e9_a25e_b831b59981e6row4_col13\" class=\"data row4 col13\" >0.168805</td>\n",
       "                        <td id=\"T_9235ac5a_c3c7_11e9_a25e_b831b59981e6row4_col14\" class=\"data row4 col14\" >0.0590441</td>\n",
       "                        <td id=\"T_9235ac5a_c3c7_11e9_a25e_b831b59981e6row4_col15\" class=\"data row4 col15\" >0.500218</td>\n",
       "                        <td id=\"T_9235ac5a_c3c7_11e9_a25e_b831b59981e6row4_col16\" class=\"data row4 col16\" >0.168805</td>\n",
       "                        <td id=\"T_9235ac5a_c3c7_11e9_a25e_b831b59981e6row4_col17\" class=\"data row4 col17\" >0.0590441</td>\n",
       "            </tr>\n",
       "            <tr>\n",
       "                        <th id=\"T_9235ac5a_c3c7_11e9_a25e_b831b59981e6level0_row5\" class=\"row_heading level0 row5\" >5_Gender Equality</th>\n",
       "                        <td id=\"T_9235ac5a_c3c7_11e9_a25e_b831b59981e6row5_col0\" class=\"data row5 col0\" >-0.0823345</td>\n",
       "                        <td id=\"T_9235ac5a_c3c7_11e9_a25e_b831b59981e6row5_col1\" class=\"data row5 col1\" >0.0699141</td>\n",
       "                        <td id=\"T_9235ac5a_c3c7_11e9_a25e_b831b59981e6row5_col2\" class=\"data row5 col2\" >0.0505289</td>\n",
       "                        <td id=\"T_9235ac5a_c3c7_11e9_a25e_b831b59981e6row5_col3\" class=\"data row5 col3\" >0.115728</td>\n",
       "                        <td id=\"T_9235ac5a_c3c7_11e9_a25e_b831b59981e6row5_col4\" class=\"data row5 col4\" >-0.147623</td>\n",
       "                        <td id=\"T_9235ac5a_c3c7_11e9_a25e_b831b59981e6row5_col5\" class=\"data row5 col5\" >1</td>\n",
       "                        <td id=\"T_9235ac5a_c3c7_11e9_a25e_b831b59981e6row5_col6\" class=\"data row5 col6\" >-0.0559705</td>\n",
       "                        <td id=\"T_9235ac5a_c3c7_11e9_a25e_b831b59981e6row5_col7\" class=\"data row5 col7\" >0.182839</td>\n",
       "                        <td id=\"T_9235ac5a_c3c7_11e9_a25e_b831b59981e6row5_col8\" class=\"data row5 col8\" >-0.125961</td>\n",
       "                        <td id=\"T_9235ac5a_c3c7_11e9_a25e_b831b59981e6row5_col9\" class=\"data row5 col9\" >0.0174764</td>\n",
       "                        <td id=\"T_9235ac5a_c3c7_11e9_a25e_b831b59981e6row5_col10\" class=\"data row5 col10\" >0.064517</td>\n",
       "                        <td id=\"T_9235ac5a_c3c7_11e9_a25e_b831b59981e6row5_col11\" class=\"data row5 col11\" >-0.0809814</td>\n",
       "                        <td id=\"T_9235ac5a_c3c7_11e9_a25e_b831b59981e6row5_col12\" class=\"data row5 col12\" >-0.027068</td>\n",
       "                        <td id=\"T_9235ac5a_c3c7_11e9_a25e_b831b59981e6row5_col13\" class=\"data row5 col13\" >0.229315</td>\n",
       "                        <td id=\"T_9235ac5a_c3c7_11e9_a25e_b831b59981e6row5_col14\" class=\"data row5 col14\" >-0.261053</td>\n",
       "                        <td id=\"T_9235ac5a_c3c7_11e9_a25e_b831b59981e6row5_col15\" class=\"data row5 col15\" >-0.0337655</td>\n",
       "                        <td id=\"T_9235ac5a_c3c7_11e9_a25e_b831b59981e6row5_col16\" class=\"data row5 col16\" >0.229315</td>\n",
       "                        <td id=\"T_9235ac5a_c3c7_11e9_a25e_b831b59981e6row5_col17\" class=\"data row5 col17\" >-0.261053</td>\n",
       "            </tr>\n",
       "            <tr>\n",
       "                        <th id=\"T_9235ac5a_c3c7_11e9_a25e_b831b59981e6level0_row6\" class=\"row_heading level0 row6\" >6_Clean Water</th>\n",
       "                        <td id=\"T_9235ac5a_c3c7_11e9_a25e_b831b59981e6row6_col0\" class=\"data row6 col0\" >-0.0814014</td>\n",
       "                        <td id=\"T_9235ac5a_c3c7_11e9_a25e_b831b59981e6row6_col1\" class=\"data row6 col1\" >0.0630336</td>\n",
       "                        <td id=\"T_9235ac5a_c3c7_11e9_a25e_b831b59981e6row6_col2\" class=\"data row6 col2\" >-0.135502</td>\n",
       "                        <td id=\"T_9235ac5a_c3c7_11e9_a25e_b831b59981e6row6_col3\" class=\"data row6 col3\" >-0.0681342</td>\n",
       "                        <td id=\"T_9235ac5a_c3c7_11e9_a25e_b831b59981e6row6_col4\" class=\"data row6 col4\" >0.0473296</td>\n",
       "                        <td id=\"T_9235ac5a_c3c7_11e9_a25e_b831b59981e6row6_col5\" class=\"data row6 col5\" >-0.0559705</td>\n",
       "                        <td id=\"T_9235ac5a_c3c7_11e9_a25e_b831b59981e6row6_col6\" class=\"data row6 col6\" >1</td>\n",
       "                        <td id=\"T_9235ac5a_c3c7_11e9_a25e_b831b59981e6row6_col7\" class=\"data row6 col7\" >0.0879301</td>\n",
       "                        <td id=\"T_9235ac5a_c3c7_11e9_a25e_b831b59981e6row6_col8\" class=\"data row6 col8\" >0.0836307</td>\n",
       "                        <td id=\"T_9235ac5a_c3c7_11e9_a25e_b831b59981e6row6_col9\" class=\"data row6 col9\" >0.055285</td>\n",
       "                        <td id=\"T_9235ac5a_c3c7_11e9_a25e_b831b59981e6row6_col10\" class=\"data row6 col10\" >-0.0170078</td>\n",
       "                        <td id=\"T_9235ac5a_c3c7_11e9_a25e_b831b59981e6row6_col11\" class=\"data row6 col11\" >0.00143176</td>\n",
       "                        <td id=\"T_9235ac5a_c3c7_11e9_a25e_b831b59981e6row6_col12\" class=\"data row6 col12\" >0.0196942</td>\n",
       "                        <td id=\"T_9235ac5a_c3c7_11e9_a25e_b831b59981e6row6_col13\" class=\"data row6 col13\" >-0.127861</td>\n",
       "                        <td id=\"T_9235ac5a_c3c7_11e9_a25e_b831b59981e6row6_col14\" class=\"data row6 col14\" >0.022231</td>\n",
       "                        <td id=\"T_9235ac5a_c3c7_11e9_a25e_b831b59981e6row6_col15\" class=\"data row6 col15\" >-0.162495</td>\n",
       "                        <td id=\"T_9235ac5a_c3c7_11e9_a25e_b831b59981e6row6_col16\" class=\"data row6 col16\" >-0.127861</td>\n",
       "                        <td id=\"T_9235ac5a_c3c7_11e9_a25e_b831b59981e6row6_col17\" class=\"data row6 col17\" >0.022231</td>\n",
       "            </tr>\n",
       "            <tr>\n",
       "                        <th id=\"T_9235ac5a_c3c7_11e9_a25e_b831b59981e6level0_row7\" class=\"row_heading level0 row7\" >7_Energy Afforability</th>\n",
       "                        <td id=\"T_9235ac5a_c3c7_11e9_a25e_b831b59981e6row7_col0\" class=\"data row7 col0\" >-0.368334</td>\n",
       "                        <td id=\"T_9235ac5a_c3c7_11e9_a25e_b831b59981e6row7_col1\" class=\"data row7 col1\" >0.29698</td>\n",
       "                        <td id=\"T_9235ac5a_c3c7_11e9_a25e_b831b59981e6row7_col2\" class=\"data row7 col2\" >0.332121</td>\n",
       "                        <td id=\"T_9235ac5a_c3c7_11e9_a25e_b831b59981e6row7_col3\" class=\"data row7 col3\" >0.345585</td>\n",
       "                        <td id=\"T_9235ac5a_c3c7_11e9_a25e_b831b59981e6row7_col4\" class=\"data row7 col4\" >-0.0408876</td>\n",
       "                        <td id=\"T_9235ac5a_c3c7_11e9_a25e_b831b59981e6row7_col5\" class=\"data row7 col5\" >0.182839</td>\n",
       "                        <td id=\"T_9235ac5a_c3c7_11e9_a25e_b831b59981e6row7_col6\" class=\"data row7 col6\" >0.0879301</td>\n",
       "                        <td id=\"T_9235ac5a_c3c7_11e9_a25e_b831b59981e6row7_col7\" class=\"data row7 col7\" >1</td>\n",
       "                        <td id=\"T_9235ac5a_c3c7_11e9_a25e_b831b59981e6row7_col8\" class=\"data row7 col8\" >0.17003</td>\n",
       "                        <td id=\"T_9235ac5a_c3c7_11e9_a25e_b831b59981e6row7_col9\" class=\"data row7 col9\" >0.184843</td>\n",
       "                        <td id=\"T_9235ac5a_c3c7_11e9_a25e_b831b59981e6row7_col10\" class=\"data row7 col10\" >0.171924</td>\n",
       "                        <td id=\"T_9235ac5a_c3c7_11e9_a25e_b831b59981e6row7_col11\" class=\"data row7 col11\" >0.157248</td>\n",
       "                        <td id=\"T_9235ac5a_c3c7_11e9_a25e_b831b59981e6row7_col12\" class=\"data row7 col12\" >0.00895168</td>\n",
       "                        <td id=\"T_9235ac5a_c3c7_11e9_a25e_b831b59981e6row7_col13\" class=\"data row7 col13\" >0.134695</td>\n",
       "                        <td id=\"T_9235ac5a_c3c7_11e9_a25e_b831b59981e6row7_col14\" class=\"data row7 col14\" >-0.0986347</td>\n",
       "                        <td id=\"T_9235ac5a_c3c7_11e9_a25e_b831b59981e6row7_col15\" class=\"data row7 col15\" >0.260206</td>\n",
       "                        <td id=\"T_9235ac5a_c3c7_11e9_a25e_b831b59981e6row7_col16\" class=\"data row7 col16\" >0.134695</td>\n",
       "                        <td id=\"T_9235ac5a_c3c7_11e9_a25e_b831b59981e6row7_col17\" class=\"data row7 col17\" >-0.0986347</td>\n",
       "            </tr>\n",
       "            <tr>\n",
       "                        <th id=\"T_9235ac5a_c3c7_11e9_a25e_b831b59981e6level0_row8\" class=\"row_heading level0 row8\" >8_Economy</th>\n",
       "                        <td id=\"T_9235ac5a_c3c7_11e9_a25e_b831b59981e6row8_col0\" class=\"data row8 col0\" >-0.531038</td>\n",
       "                        <td id=\"T_9235ac5a_c3c7_11e9_a25e_b831b59981e6row8_col1\" class=\"data row8 col1\" >0.284128</td>\n",
       "                        <td id=\"T_9235ac5a_c3c7_11e9_a25e_b831b59981e6row8_col2\" class=\"data row8 col2\" >0.285698</td>\n",
       "                        <td id=\"T_9235ac5a_c3c7_11e9_a25e_b831b59981e6row8_col3\" class=\"data row8 col3\" >0.435034</td>\n",
       "                        <td id=\"T_9235ac5a_c3c7_11e9_a25e_b831b59981e6row8_col4\" class=\"data row8 col4\" >0.491363</td>\n",
       "                        <td id=\"T_9235ac5a_c3c7_11e9_a25e_b831b59981e6row8_col5\" class=\"data row8 col5\" >-0.125961</td>\n",
       "                        <td id=\"T_9235ac5a_c3c7_11e9_a25e_b831b59981e6row8_col6\" class=\"data row8 col6\" >0.0836307</td>\n",
       "                        <td id=\"T_9235ac5a_c3c7_11e9_a25e_b831b59981e6row8_col7\" class=\"data row8 col7\" >0.17003</td>\n",
       "                        <td id=\"T_9235ac5a_c3c7_11e9_a25e_b831b59981e6row8_col8\" class=\"data row8 col8\" >1</td>\n",
       "                        <td id=\"T_9235ac5a_c3c7_11e9_a25e_b831b59981e6row8_col9\" class=\"data row8 col9\" >0.458996</td>\n",
       "                        <td id=\"T_9235ac5a_c3c7_11e9_a25e_b831b59981e6row8_col10\" class=\"data row8 col10\" >0.448633</td>\n",
       "                        <td id=\"T_9235ac5a_c3c7_11e9_a25e_b831b59981e6row8_col11\" class=\"data row8 col11\" >0.314398</td>\n",
       "                        <td id=\"T_9235ac5a_c3c7_11e9_a25e_b831b59981e6row8_col12\" class=\"data row8 col12\" >-0.029528</td>\n",
       "                        <td id=\"T_9235ac5a_c3c7_11e9_a25e_b831b59981e6row8_col13\" class=\"data row8 col13\" >0.0332655</td>\n",
       "                        <td id=\"T_9235ac5a_c3c7_11e9_a25e_b831b59981e6row8_col14\" class=\"data row8 col14\" >0.049993</td>\n",
       "                        <td id=\"T_9235ac5a_c3c7_11e9_a25e_b831b59981e6row8_col15\" class=\"data row8 col15\" >0.264945</td>\n",
       "                        <td id=\"T_9235ac5a_c3c7_11e9_a25e_b831b59981e6row8_col16\" class=\"data row8 col16\" >0.0332655</td>\n",
       "                        <td id=\"T_9235ac5a_c3c7_11e9_a25e_b831b59981e6row8_col17\" class=\"data row8 col17\" >0.049993</td>\n",
       "            </tr>\n",
       "            <tr>\n",
       "                        <th id=\"T_9235ac5a_c3c7_11e9_a25e_b831b59981e6level0_row9\" class=\"row_heading level0 row9\" >9_Industry</th>\n",
       "                        <td id=\"T_9235ac5a_c3c7_11e9_a25e_b831b59981e6row9_col0\" class=\"data row9 col0\" >-0.703947</td>\n",
       "                        <td id=\"T_9235ac5a_c3c7_11e9_a25e_b831b59981e6row9_col1\" class=\"data row9 col1\" >0.580536</td>\n",
       "                        <td id=\"T_9235ac5a_c3c7_11e9_a25e_b831b59981e6row9_col2\" class=\"data row9 col2\" >0.441056</td>\n",
       "                        <td id=\"T_9235ac5a_c3c7_11e9_a25e_b831b59981e6row9_col3\" class=\"data row9 col3\" >0.588942</td>\n",
       "                        <td id=\"T_9235ac5a_c3c7_11e9_a25e_b831b59981e6row9_col4\" class=\"data row9 col4\" >0.671343</td>\n",
       "                        <td id=\"T_9235ac5a_c3c7_11e9_a25e_b831b59981e6row9_col5\" class=\"data row9 col5\" >0.0174764</td>\n",
       "                        <td id=\"T_9235ac5a_c3c7_11e9_a25e_b831b59981e6row9_col6\" class=\"data row9 col6\" >0.055285</td>\n",
       "                        <td id=\"T_9235ac5a_c3c7_11e9_a25e_b831b59981e6row9_col7\" class=\"data row9 col7\" >0.184843</td>\n",
       "                        <td id=\"T_9235ac5a_c3c7_11e9_a25e_b831b59981e6row9_col8\" class=\"data row9 col8\" >0.458996</td>\n",
       "                        <td id=\"T_9235ac5a_c3c7_11e9_a25e_b831b59981e6row9_col9\" class=\"data row9 col9\" >1</td>\n",
       "                        <td id=\"T_9235ac5a_c3c7_11e9_a25e_b831b59981e6row9_col10\" class=\"data row9 col10\" >0.321152</td>\n",
       "                        <td id=\"T_9235ac5a_c3c7_11e9_a25e_b831b59981e6row9_col11\" class=\"data row9 col11\" >0.527763</td>\n",
       "                        <td id=\"T_9235ac5a_c3c7_11e9_a25e_b831b59981e6row9_col12\" class=\"data row9 col12\" >-0.102352</td>\n",
       "                        <td id=\"T_9235ac5a_c3c7_11e9_a25e_b831b59981e6row9_col13\" class=\"data row9 col13\" >0.398356</td>\n",
       "                        <td id=\"T_9235ac5a_c3c7_11e9_a25e_b831b59981e6row9_col14\" class=\"data row9 col14\" >-0.073172</td>\n",
       "                        <td id=\"T_9235ac5a_c3c7_11e9_a25e_b831b59981e6row9_col15\" class=\"data row9 col15\" >0.440968</td>\n",
       "                        <td id=\"T_9235ac5a_c3c7_11e9_a25e_b831b59981e6row9_col16\" class=\"data row9 col16\" >0.398356</td>\n",
       "                        <td id=\"T_9235ac5a_c3c7_11e9_a25e_b831b59981e6row9_col17\" class=\"data row9 col17\" >-0.073172</td>\n",
       "            </tr>\n",
       "            <tr>\n",
       "                        <th id=\"T_9235ac5a_c3c7_11e9_a25e_b831b59981e6level0_row10\" class=\"row_heading level0 row10\" >10_Reduced Inequality</th>\n",
       "                        <td id=\"T_9235ac5a_c3c7_11e9_a25e_b831b59981e6row10_col0\" class=\"data row10 col0\" >-0.460916</td>\n",
       "                        <td id=\"T_9235ac5a_c3c7_11e9_a25e_b831b59981e6row10_col1\" class=\"data row10 col1\" >0.359687</td>\n",
       "                        <td id=\"T_9235ac5a_c3c7_11e9_a25e_b831b59981e6row10_col2\" class=\"data row10 col2\" >0.473462</td>\n",
       "                        <td id=\"T_9235ac5a_c3c7_11e9_a25e_b831b59981e6row10_col3\" class=\"data row10 col3\" >0.481186</td>\n",
       "                        <td id=\"T_9235ac5a_c3c7_11e9_a25e_b831b59981e6row10_col4\" class=\"data row10 col4\" >0.251502</td>\n",
       "                        <td id=\"T_9235ac5a_c3c7_11e9_a25e_b831b59981e6row10_col5\" class=\"data row10 col5\" >0.064517</td>\n",
       "                        <td id=\"T_9235ac5a_c3c7_11e9_a25e_b831b59981e6row10_col6\" class=\"data row10 col6\" >-0.0170078</td>\n",
       "                        <td id=\"T_9235ac5a_c3c7_11e9_a25e_b831b59981e6row10_col7\" class=\"data row10 col7\" >0.171924</td>\n",
       "                        <td id=\"T_9235ac5a_c3c7_11e9_a25e_b831b59981e6row10_col8\" class=\"data row10 col8\" >0.448633</td>\n",
       "                        <td id=\"T_9235ac5a_c3c7_11e9_a25e_b831b59981e6row10_col9\" class=\"data row10 col9\" >0.321152</td>\n",
       "                        <td id=\"T_9235ac5a_c3c7_11e9_a25e_b831b59981e6row10_col10\" class=\"data row10 col10\" >1</td>\n",
       "                        <td id=\"T_9235ac5a_c3c7_11e9_a25e_b831b59981e6row10_col11\" class=\"data row10 col11\" >0.219287</td>\n",
       "                        <td id=\"T_9235ac5a_c3c7_11e9_a25e_b831b59981e6row10_col12\" class=\"data row10 col12\" >-0.156038</td>\n",
       "                        <td id=\"T_9235ac5a_c3c7_11e9_a25e_b831b59981e6row10_col13\" class=\"data row10 col13\" >0.0983825</td>\n",
       "                        <td id=\"T_9235ac5a_c3c7_11e9_a25e_b831b59981e6row10_col14\" class=\"data row10 col14\" >0.0253382</td>\n",
       "                        <td id=\"T_9235ac5a_c3c7_11e9_a25e_b831b59981e6row10_col15\" class=\"data row10 col15\" >0.129986</td>\n",
       "                        <td id=\"T_9235ac5a_c3c7_11e9_a25e_b831b59981e6row10_col16\" class=\"data row10 col16\" >0.0983825</td>\n",
       "                        <td id=\"T_9235ac5a_c3c7_11e9_a25e_b831b59981e6row10_col17\" class=\"data row10 col17\" >0.0253382</td>\n",
       "            </tr>\n",
       "            <tr>\n",
       "                        <th id=\"T_9235ac5a_c3c7_11e9_a25e_b831b59981e6level0_row11\" class=\"row_heading level0 row11\" >11_Community_Sustainability</th>\n",
       "                        <td id=\"T_9235ac5a_c3c7_11e9_a25e_b831b59981e6row11_col0\" class=\"data row11 col0\" >-0.545256</td>\n",
       "                        <td id=\"T_9235ac5a_c3c7_11e9_a25e_b831b59981e6row11_col1\" class=\"data row11 col1\" >0.472305</td>\n",
       "                        <td id=\"T_9235ac5a_c3c7_11e9_a25e_b831b59981e6row11_col2\" class=\"data row11 col2\" >0.294572</td>\n",
       "                        <td id=\"T_9235ac5a_c3c7_11e9_a25e_b831b59981e6row11_col3\" class=\"data row11 col3\" >0.388704</td>\n",
       "                        <td id=\"T_9235ac5a_c3c7_11e9_a25e_b831b59981e6row11_col4\" class=\"data row11 col4\" >0.49091</td>\n",
       "                        <td id=\"T_9235ac5a_c3c7_11e9_a25e_b831b59981e6row11_col5\" class=\"data row11 col5\" >-0.0809814</td>\n",
       "                        <td id=\"T_9235ac5a_c3c7_11e9_a25e_b831b59981e6row11_col6\" class=\"data row11 col6\" >0.00143176</td>\n",
       "                        <td id=\"T_9235ac5a_c3c7_11e9_a25e_b831b59981e6row11_col7\" class=\"data row11 col7\" >0.157248</td>\n",
       "                        <td id=\"T_9235ac5a_c3c7_11e9_a25e_b831b59981e6row11_col8\" class=\"data row11 col8\" >0.314398</td>\n",
       "                        <td id=\"T_9235ac5a_c3c7_11e9_a25e_b831b59981e6row11_col9\" class=\"data row11 col9\" >0.527763</td>\n",
       "                        <td id=\"T_9235ac5a_c3c7_11e9_a25e_b831b59981e6row11_col10\" class=\"data row11 col10\" >0.219287</td>\n",
       "                        <td id=\"T_9235ac5a_c3c7_11e9_a25e_b831b59981e6row11_col11\" class=\"data row11 col11\" >1</td>\n",
       "                        <td id=\"T_9235ac5a_c3c7_11e9_a25e_b831b59981e6row11_col12\" class=\"data row11 col12\" >-0.184491</td>\n",
       "                        <td id=\"T_9235ac5a_c3c7_11e9_a25e_b831b59981e6row11_col13\" class=\"data row11 col13\" >0.293495</td>\n",
       "                        <td id=\"T_9235ac5a_c3c7_11e9_a25e_b831b59981e6row11_col14\" class=\"data row11 col14\" >-0.0764094</td>\n",
       "                        <td id=\"T_9235ac5a_c3c7_11e9_a25e_b831b59981e6row11_col15\" class=\"data row11 col15\" >0.412097</td>\n",
       "                        <td id=\"T_9235ac5a_c3c7_11e9_a25e_b831b59981e6row11_col16\" class=\"data row11 col16\" >0.293495</td>\n",
       "                        <td id=\"T_9235ac5a_c3c7_11e9_a25e_b831b59981e6row11_col17\" class=\"data row11 col17\" >-0.0764094</td>\n",
       "            </tr>\n",
       "            <tr>\n",
       "                        <th id=\"T_9235ac5a_c3c7_11e9_a25e_b831b59981e6level0_row12\" class=\"row_heading level0 row12\" >12_Consumtion_Production</th>\n",
       "                        <td id=\"T_9235ac5a_c3c7_11e9_a25e_b831b59981e6row12_col0\" class=\"data row12 col0\" >0.0929626</td>\n",
       "                        <td id=\"T_9235ac5a_c3c7_11e9_a25e_b831b59981e6row12_col1\" class=\"data row12 col1\" >-0.236906</td>\n",
       "                        <td id=\"T_9235ac5a_c3c7_11e9_a25e_b831b59981e6row12_col2\" class=\"data row12 col2\" >-0.252177</td>\n",
       "                        <td id=\"T_9235ac5a_c3c7_11e9_a25e_b831b59981e6row12_col3\" class=\"data row12 col3\" >-0.222442</td>\n",
       "                        <td id=\"T_9235ac5a_c3c7_11e9_a25e_b831b59981e6row12_col4\" class=\"data row12 col4\" >0.010614</td>\n",
       "                        <td id=\"T_9235ac5a_c3c7_11e9_a25e_b831b59981e6row12_col5\" class=\"data row12 col5\" >-0.027068</td>\n",
       "                        <td id=\"T_9235ac5a_c3c7_11e9_a25e_b831b59981e6row12_col6\" class=\"data row12 col6\" >0.0196942</td>\n",
       "                        <td id=\"T_9235ac5a_c3c7_11e9_a25e_b831b59981e6row12_col7\" class=\"data row12 col7\" >0.00895168</td>\n",
       "                        <td id=\"T_9235ac5a_c3c7_11e9_a25e_b831b59981e6row12_col8\" class=\"data row12 col8\" >-0.029528</td>\n",
       "                        <td id=\"T_9235ac5a_c3c7_11e9_a25e_b831b59981e6row12_col9\" class=\"data row12 col9\" >-0.102352</td>\n",
       "                        <td id=\"T_9235ac5a_c3c7_11e9_a25e_b831b59981e6row12_col10\" class=\"data row12 col10\" >-0.156038</td>\n",
       "                        <td id=\"T_9235ac5a_c3c7_11e9_a25e_b831b59981e6row12_col11\" class=\"data row12 col11\" >-0.184491</td>\n",
       "                        <td id=\"T_9235ac5a_c3c7_11e9_a25e_b831b59981e6row12_col12\" class=\"data row12 col12\" >1</td>\n",
       "                        <td id=\"T_9235ac5a_c3c7_11e9_a25e_b831b59981e6row12_col13\" class=\"data row12 col13\" >-0.180077</td>\n",
       "                        <td id=\"T_9235ac5a_c3c7_11e9_a25e_b831b59981e6row12_col14\" class=\"data row12 col14\" >0.0992464</td>\n",
       "                        <td id=\"T_9235ac5a_c3c7_11e9_a25e_b831b59981e6row12_col15\" class=\"data row12 col15\" >-0.061406</td>\n",
       "                        <td id=\"T_9235ac5a_c3c7_11e9_a25e_b831b59981e6row12_col16\" class=\"data row12 col16\" >-0.180077</td>\n",
       "                        <td id=\"T_9235ac5a_c3c7_11e9_a25e_b831b59981e6row12_col17\" class=\"data row12 col17\" >0.0992464</td>\n",
       "            </tr>\n",
       "            <tr>\n",
       "                        <th id=\"T_9235ac5a_c3c7_11e9_a25e_b831b59981e6level0_row13\" class=\"row_heading level0 row13\" >13_Climate Action</th>\n",
       "                        <td id=\"T_9235ac5a_c3c7_11e9_a25e_b831b59981e6row13_col0\" class=\"data row13 col0\" >-0.577749</td>\n",
       "                        <td id=\"T_9235ac5a_c3c7_11e9_a25e_b831b59981e6row13_col1\" class=\"data row13 col1\" >0.487401</td>\n",
       "                        <td id=\"T_9235ac5a_c3c7_11e9_a25e_b831b59981e6row13_col2\" class=\"data row13 col2\" >0.584589</td>\n",
       "                        <td id=\"T_9235ac5a_c3c7_11e9_a25e_b831b59981e6row13_col3\" class=\"data row13 col3\" >0.500936</td>\n",
       "                        <td id=\"T_9235ac5a_c3c7_11e9_a25e_b831b59981e6row13_col4\" class=\"data row13 col4\" >0.168805</td>\n",
       "                        <td id=\"T_9235ac5a_c3c7_11e9_a25e_b831b59981e6row13_col5\" class=\"data row13 col5\" >0.229315</td>\n",
       "                        <td id=\"T_9235ac5a_c3c7_11e9_a25e_b831b59981e6row13_col6\" class=\"data row13 col6\" >-0.127861</td>\n",
       "                        <td id=\"T_9235ac5a_c3c7_11e9_a25e_b831b59981e6row13_col7\" class=\"data row13 col7\" >0.134695</td>\n",
       "                        <td id=\"T_9235ac5a_c3c7_11e9_a25e_b831b59981e6row13_col8\" class=\"data row13 col8\" >0.0332655</td>\n",
       "                        <td id=\"T_9235ac5a_c3c7_11e9_a25e_b831b59981e6row13_col9\" class=\"data row13 col9\" >0.398356</td>\n",
       "                        <td id=\"T_9235ac5a_c3c7_11e9_a25e_b831b59981e6row13_col10\" class=\"data row13 col10\" >0.0983825</td>\n",
       "                        <td id=\"T_9235ac5a_c3c7_11e9_a25e_b831b59981e6row13_col11\" class=\"data row13 col11\" >0.293495</td>\n",
       "                        <td id=\"T_9235ac5a_c3c7_11e9_a25e_b831b59981e6row13_col12\" class=\"data row13 col12\" >-0.180077</td>\n",
       "                        <td id=\"T_9235ac5a_c3c7_11e9_a25e_b831b59981e6row13_col13\" class=\"data row13 col13\" >1</td>\n",
       "                        <td id=\"T_9235ac5a_c3c7_11e9_a25e_b831b59981e6row13_col14\" class=\"data row13 col14\" >-0.0382129</td>\n",
       "                        <td id=\"T_9235ac5a_c3c7_11e9_a25e_b831b59981e6row13_col15\" class=\"data row13 col15\" >0.365449</td>\n",
       "                        <td id=\"T_9235ac5a_c3c7_11e9_a25e_b831b59981e6row13_col16\" class=\"data row13 col16\" >1</td>\n",
       "                        <td id=\"T_9235ac5a_c3c7_11e9_a25e_b831b59981e6row13_col17\" class=\"data row13 col17\" >-0.0382129</td>\n",
       "            </tr>\n",
       "            <tr>\n",
       "                        <th id=\"T_9235ac5a_c3c7_11e9_a25e_b831b59981e6level0_row14\" class=\"row_heading level0 row14\" >15_Life_on_Land</th>\n",
       "                        <td id=\"T_9235ac5a_c3c7_11e9_a25e_b831b59981e6row14_col0\" class=\"data row14 col0\" >-0.140968</td>\n",
       "                        <td id=\"T_9235ac5a_c3c7_11e9_a25e_b831b59981e6row14_col1\" class=\"data row14 col1\" >-0.135086</td>\n",
       "                        <td id=\"T_9235ac5a_c3c7_11e9_a25e_b831b59981e6row14_col2\" class=\"data row14 col2\" >0.0165115</td>\n",
       "                        <td id=\"T_9235ac5a_c3c7_11e9_a25e_b831b59981e6row14_col3\" class=\"data row14 col3\" >-0.0366361</td>\n",
       "                        <td id=\"T_9235ac5a_c3c7_11e9_a25e_b831b59981e6row14_col4\" class=\"data row14 col4\" >0.0590441</td>\n",
       "                        <td id=\"T_9235ac5a_c3c7_11e9_a25e_b831b59981e6row14_col5\" class=\"data row14 col5\" >-0.261053</td>\n",
       "                        <td id=\"T_9235ac5a_c3c7_11e9_a25e_b831b59981e6row14_col6\" class=\"data row14 col6\" >0.022231</td>\n",
       "                        <td id=\"T_9235ac5a_c3c7_11e9_a25e_b831b59981e6row14_col7\" class=\"data row14 col7\" >-0.0986347</td>\n",
       "                        <td id=\"T_9235ac5a_c3c7_11e9_a25e_b831b59981e6row14_col8\" class=\"data row14 col8\" >0.049993</td>\n",
       "                        <td id=\"T_9235ac5a_c3c7_11e9_a25e_b831b59981e6row14_col9\" class=\"data row14 col9\" >-0.073172</td>\n",
       "                        <td id=\"T_9235ac5a_c3c7_11e9_a25e_b831b59981e6row14_col10\" class=\"data row14 col10\" >0.0253382</td>\n",
       "                        <td id=\"T_9235ac5a_c3c7_11e9_a25e_b831b59981e6row14_col11\" class=\"data row14 col11\" >-0.0764094</td>\n",
       "                        <td id=\"T_9235ac5a_c3c7_11e9_a25e_b831b59981e6row14_col12\" class=\"data row14 col12\" >0.0992464</td>\n",
       "                        <td id=\"T_9235ac5a_c3c7_11e9_a25e_b831b59981e6row14_col13\" class=\"data row14 col13\" >-0.0382129</td>\n",
       "                        <td id=\"T_9235ac5a_c3c7_11e9_a25e_b831b59981e6row14_col14\" class=\"data row14 col14\" >1</td>\n",
       "                        <td id=\"T_9235ac5a_c3c7_11e9_a25e_b831b59981e6row14_col15\" class=\"data row14 col15\" >-0.0186765</td>\n",
       "                        <td id=\"T_9235ac5a_c3c7_11e9_a25e_b831b59981e6row14_col16\" class=\"data row14 col16\" >-0.0382129</td>\n",
       "                        <td id=\"T_9235ac5a_c3c7_11e9_a25e_b831b59981e6row14_col17\" class=\"data row14 col17\" >1</td>\n",
       "            </tr>\n",
       "            <tr>\n",
       "                        <th id=\"T_9235ac5a_c3c7_11e9_a25e_b831b59981e6level0_row15\" class=\"row_heading level0 row15\" >16_Justice</th>\n",
       "                        <td id=\"T_9235ac5a_c3c7_11e9_a25e_b831b59981e6row15_col0\" class=\"data row15 col0\" >-0.614305</td>\n",
       "                        <td id=\"T_9235ac5a_c3c7_11e9_a25e_b831b59981e6row15_col1\" class=\"data row15 col1\" >0.563007</td>\n",
       "                        <td id=\"T_9235ac5a_c3c7_11e9_a25e_b831b59981e6row15_col2\" class=\"data row15 col2\" >0.427739</td>\n",
       "                        <td id=\"T_9235ac5a_c3c7_11e9_a25e_b831b59981e6row15_col3\" class=\"data row15 col3\" >0.545984</td>\n",
       "                        <td id=\"T_9235ac5a_c3c7_11e9_a25e_b831b59981e6row15_col4\" class=\"data row15 col4\" >0.500218</td>\n",
       "                        <td id=\"T_9235ac5a_c3c7_11e9_a25e_b831b59981e6row15_col5\" class=\"data row15 col5\" >-0.0337655</td>\n",
       "                        <td id=\"T_9235ac5a_c3c7_11e9_a25e_b831b59981e6row15_col6\" class=\"data row15 col6\" >-0.162495</td>\n",
       "                        <td id=\"T_9235ac5a_c3c7_11e9_a25e_b831b59981e6row15_col7\" class=\"data row15 col7\" >0.260206</td>\n",
       "                        <td id=\"T_9235ac5a_c3c7_11e9_a25e_b831b59981e6row15_col8\" class=\"data row15 col8\" >0.264945</td>\n",
       "                        <td id=\"T_9235ac5a_c3c7_11e9_a25e_b831b59981e6row15_col9\" class=\"data row15 col9\" >0.440968</td>\n",
       "                        <td id=\"T_9235ac5a_c3c7_11e9_a25e_b831b59981e6row15_col10\" class=\"data row15 col10\" >0.129986</td>\n",
       "                        <td id=\"T_9235ac5a_c3c7_11e9_a25e_b831b59981e6row15_col11\" class=\"data row15 col11\" >0.412097</td>\n",
       "                        <td id=\"T_9235ac5a_c3c7_11e9_a25e_b831b59981e6row15_col12\" class=\"data row15 col12\" >-0.061406</td>\n",
       "                        <td id=\"T_9235ac5a_c3c7_11e9_a25e_b831b59981e6row15_col13\" class=\"data row15 col13\" >0.365449</td>\n",
       "                        <td id=\"T_9235ac5a_c3c7_11e9_a25e_b831b59981e6row15_col14\" class=\"data row15 col14\" >-0.0186765</td>\n",
       "                        <td id=\"T_9235ac5a_c3c7_11e9_a25e_b831b59981e6row15_col15\" class=\"data row15 col15\" >1</td>\n",
       "                        <td id=\"T_9235ac5a_c3c7_11e9_a25e_b831b59981e6row15_col16\" class=\"data row15 col16\" >0.365449</td>\n",
       "                        <td id=\"T_9235ac5a_c3c7_11e9_a25e_b831b59981e6row15_col17\" class=\"data row15 col17\" >-0.0186765</td>\n",
       "            </tr>\n",
       "            <tr>\n",
       "                        <th id=\"T_9235ac5a_c3c7_11e9_a25e_b831b59981e6level0_row16\" class=\"row_heading level0 row16\" >13_Climate Action_z</th>\n",
       "                        <td id=\"T_9235ac5a_c3c7_11e9_a25e_b831b59981e6row16_col0\" class=\"data row16 col0\" >-0.577749</td>\n",
       "                        <td id=\"T_9235ac5a_c3c7_11e9_a25e_b831b59981e6row16_col1\" class=\"data row16 col1\" >0.487401</td>\n",
       "                        <td id=\"T_9235ac5a_c3c7_11e9_a25e_b831b59981e6row16_col2\" class=\"data row16 col2\" >0.584589</td>\n",
       "                        <td id=\"T_9235ac5a_c3c7_11e9_a25e_b831b59981e6row16_col3\" class=\"data row16 col3\" >0.500936</td>\n",
       "                        <td id=\"T_9235ac5a_c3c7_11e9_a25e_b831b59981e6row16_col4\" class=\"data row16 col4\" >0.168805</td>\n",
       "                        <td id=\"T_9235ac5a_c3c7_11e9_a25e_b831b59981e6row16_col5\" class=\"data row16 col5\" >0.229315</td>\n",
       "                        <td id=\"T_9235ac5a_c3c7_11e9_a25e_b831b59981e6row16_col6\" class=\"data row16 col6\" >-0.127861</td>\n",
       "                        <td id=\"T_9235ac5a_c3c7_11e9_a25e_b831b59981e6row16_col7\" class=\"data row16 col7\" >0.134695</td>\n",
       "                        <td id=\"T_9235ac5a_c3c7_11e9_a25e_b831b59981e6row16_col8\" class=\"data row16 col8\" >0.0332655</td>\n",
       "                        <td id=\"T_9235ac5a_c3c7_11e9_a25e_b831b59981e6row16_col9\" class=\"data row16 col9\" >0.398356</td>\n",
       "                        <td id=\"T_9235ac5a_c3c7_11e9_a25e_b831b59981e6row16_col10\" class=\"data row16 col10\" >0.0983825</td>\n",
       "                        <td id=\"T_9235ac5a_c3c7_11e9_a25e_b831b59981e6row16_col11\" class=\"data row16 col11\" >0.293495</td>\n",
       "                        <td id=\"T_9235ac5a_c3c7_11e9_a25e_b831b59981e6row16_col12\" class=\"data row16 col12\" >-0.180077</td>\n",
       "                        <td id=\"T_9235ac5a_c3c7_11e9_a25e_b831b59981e6row16_col13\" class=\"data row16 col13\" >1</td>\n",
       "                        <td id=\"T_9235ac5a_c3c7_11e9_a25e_b831b59981e6row16_col14\" class=\"data row16 col14\" >-0.0382129</td>\n",
       "                        <td id=\"T_9235ac5a_c3c7_11e9_a25e_b831b59981e6row16_col15\" class=\"data row16 col15\" >0.365449</td>\n",
       "                        <td id=\"T_9235ac5a_c3c7_11e9_a25e_b831b59981e6row16_col16\" class=\"data row16 col16\" >1</td>\n",
       "                        <td id=\"T_9235ac5a_c3c7_11e9_a25e_b831b59981e6row16_col17\" class=\"data row16 col17\" >-0.0382129</td>\n",
       "            </tr>\n",
       "            <tr>\n",
       "                        <th id=\"T_9235ac5a_c3c7_11e9_a25e_b831b59981e6level0_row17\" class=\"row_heading level0 row17\" >15_Life_on_Land_z</th>\n",
       "                        <td id=\"T_9235ac5a_c3c7_11e9_a25e_b831b59981e6row17_col0\" class=\"data row17 col0\" >-0.140968</td>\n",
       "                        <td id=\"T_9235ac5a_c3c7_11e9_a25e_b831b59981e6row17_col1\" class=\"data row17 col1\" >-0.135086</td>\n",
       "                        <td id=\"T_9235ac5a_c3c7_11e9_a25e_b831b59981e6row17_col2\" class=\"data row17 col2\" >0.0165115</td>\n",
       "                        <td id=\"T_9235ac5a_c3c7_11e9_a25e_b831b59981e6row17_col3\" class=\"data row17 col3\" >-0.0366361</td>\n",
       "                        <td id=\"T_9235ac5a_c3c7_11e9_a25e_b831b59981e6row17_col4\" class=\"data row17 col4\" >0.0590441</td>\n",
       "                        <td id=\"T_9235ac5a_c3c7_11e9_a25e_b831b59981e6row17_col5\" class=\"data row17 col5\" >-0.261053</td>\n",
       "                        <td id=\"T_9235ac5a_c3c7_11e9_a25e_b831b59981e6row17_col6\" class=\"data row17 col6\" >0.022231</td>\n",
       "                        <td id=\"T_9235ac5a_c3c7_11e9_a25e_b831b59981e6row17_col7\" class=\"data row17 col7\" >-0.0986347</td>\n",
       "                        <td id=\"T_9235ac5a_c3c7_11e9_a25e_b831b59981e6row17_col8\" class=\"data row17 col8\" >0.049993</td>\n",
       "                        <td id=\"T_9235ac5a_c3c7_11e9_a25e_b831b59981e6row17_col9\" class=\"data row17 col9\" >-0.073172</td>\n",
       "                        <td id=\"T_9235ac5a_c3c7_11e9_a25e_b831b59981e6row17_col10\" class=\"data row17 col10\" >0.0253382</td>\n",
       "                        <td id=\"T_9235ac5a_c3c7_11e9_a25e_b831b59981e6row17_col11\" class=\"data row17 col11\" >-0.0764094</td>\n",
       "                        <td id=\"T_9235ac5a_c3c7_11e9_a25e_b831b59981e6row17_col12\" class=\"data row17 col12\" >0.0992464</td>\n",
       "                        <td id=\"T_9235ac5a_c3c7_11e9_a25e_b831b59981e6row17_col13\" class=\"data row17 col13\" >-0.0382129</td>\n",
       "                        <td id=\"T_9235ac5a_c3c7_11e9_a25e_b831b59981e6row17_col14\" class=\"data row17 col14\" >1</td>\n",
       "                        <td id=\"T_9235ac5a_c3c7_11e9_a25e_b831b59981e6row17_col15\" class=\"data row17 col15\" >-0.0186765</td>\n",
       "                        <td id=\"T_9235ac5a_c3c7_11e9_a25e_b831b59981e6row17_col16\" class=\"data row17 col16\" >-0.0382129</td>\n",
       "                        <td id=\"T_9235ac5a_c3c7_11e9_a25e_b831b59981e6row17_col17\" class=\"data row17 col17\" >1</td>\n",
       "            </tr>\n",
       "    </tbody></table>"
      ],
      "text/plain": [
       "<pandas.io.formats.style.Styler at 0x1c31ce74470>"
      ]
     },
     "execution_count": 1994,
     "metadata": {},
     "output_type": "execute_result"
    }
   ],
   "source": [
    "mydf_corr=mydf2.corr().style.background_gradient(cmap='coolwarm')\n",
    "mydf_corr"
   ]
  },
  {
   "cell_type": "code",
   "execution_count": 1995,
   "metadata": {},
   "outputs": [
    {
     "data": {
      "text/plain": [
       "<matplotlib.axes._subplots.AxesSubplot at 0x1c31ce94a90>"
      ]
     },
     "execution_count": 1995,
     "metadata": {},
     "output_type": "execute_result"
    },
    {
     "data": {
      "image/png": "[encoded data removed]",
      "text/plain": [
       "<Figure size 432x288 with 2 Axes>"
      ]
     },
     "metadata": {
      "needs_background": "light"
     },
     "output_type": "display_data"
    }
   ],
   "source": [
    "import seaborn as sns\n",
    "corr = mydf2.corr()\n",
    "sns.heatmap(corr, \n",
    "            xticklabels=corr.columns.values,\n",
    "            yticklabels=corr.columns.values)"
   ]
  },
  {
   "cell_type": "markdown",
   "metadata": {},
   "source": [
    "**Detecting and Handling Outliers:**"
   ]
  },
  {
   "cell_type": "code",
   "execution_count": 1996,
   "metadata": {},
   "outputs": [
    {
     "data": {
      "text/html": [
       "<div>\n",
       "<style scoped>\n",
       "    .dataframe tbody tr th:only-of-type {\n",
       "        vertical-align: middle;\n",
       "    }\n",
       "\n",
       "    .dataframe tbody tr th {\n",
       "        vertical-align: top;\n",
       "    }\n",
       "\n",
       "    .dataframe thead th {\n",
       "        text-align: right;\n",
       "    }\n",
       "</style>\n",
       "<table border=\"1\" class=\"dataframe\">\n",
       "  <thead>\n",
       "    <tr style=\"text-align: right;\">\n",
       "      <th></th>\n",
       "      <th>Rank</th>\n",
       "      <th>3_Health</th>\n",
       "    </tr>\n",
       "  </thead>\n",
       "  <tbody>\n",
       "    <tr>\n",
       "      <th>1</th>\n",
       "      <td>1.0</td>\n",
       "      <td>86.0</td>\n",
       "    </tr>\n",
       "    <tr>\n",
       "      <th>2</th>\n",
       "      <td>2.0</td>\n",
       "      <td>90.0</td>\n",
       "    </tr>\n",
       "    <tr>\n",
       "      <th>3</th>\n",
       "      <td>3.0</td>\n",
       "      <td>74.0</td>\n",
       "    </tr>\n",
       "    <tr>\n",
       "      <th>4</th>\n",
       "      <td>4.0</td>\n",
       "      <td>73.0</td>\n",
       "    </tr>\n",
       "    <tr>\n",
       "      <th>5</th>\n",
       "      <td>5.0</td>\n",
       "      <td>72.0</td>\n",
       "    </tr>\n",
       "  </tbody>\n",
       "</table>\n",
       "</div>"
      ],
      "text/plain": [
       "   Rank  3_Health\n",
       "1   1.0      86.0\n",
       "2   2.0      90.0\n",
       "3   3.0      74.0\n",
       "4   4.0      73.0\n",
       "5   5.0      72.0"
      ]
     },
     "execution_count": 1996,
     "metadata": {},
     "output_type": "execute_result"
    }
   ],
   "source": [
    "import seaborn as sns\n",
    "import pandas as pd\n",
    "\n",
    "mydf3= pd.DataFrame(mydf, columns=['Rank', '3_Health'])\n",
    "mydf3.head()"
   ]
  },
  {
   "cell_type": "code",
   "execution_count": 1997,
   "metadata": {},
   "outputs": [],
   "source": [
    "from sklearn.cluster import DBSCAN\n",
    "\n",
    "# import DBSCAN model\n",
    "outlier_detection = DBSCAN()\n",
    "\n",
    "# fit and predict cluster labels for our column\n",
    "clusters = outlier_detection.fit_predict(mydf3)"
   ]
  },
  {
   "cell_type": "code",
   "execution_count": 1998,
   "metadata": {
    "scrolled": true
   },
   "outputs": [
    {
     "data": {
      "text/html": [
       "<div>\n",
       "<style scoped>\n",
       "    .dataframe tbody tr th:only-of-type {\n",
       "        vertical-align: middle;\n",
       "    }\n",
       "\n",
       "    .dataframe tbody tr th {\n",
       "        vertical-align: top;\n",
       "    }\n",
       "\n",
       "    .dataframe thead th {\n",
       "        text-align: right;\n",
       "    }\n",
       "</style>\n",
       "<table border=\"1\" class=\"dataframe\">\n",
       "  <thead>\n",
       "    <tr style=\"text-align: right;\">\n",
       "      <th></th>\n",
       "      <th>Rank</th>\n",
       "      <th>3_Health</th>\n",
       "      <th>clusters</th>\n",
       "    </tr>\n",
       "  </thead>\n",
       "  <tbody>\n",
       "    <tr>\n",
       "      <th>1</th>\n",
       "      <td>1.0</td>\n",
       "      <td>86.0</td>\n",
       "      <td>-1</td>\n",
       "    </tr>\n",
       "    <tr>\n",
       "      <th>2</th>\n",
       "      <td>2.0</td>\n",
       "      <td>90.0</td>\n",
       "      <td>-1</td>\n",
       "    </tr>\n",
       "    <tr>\n",
       "      <th>3</th>\n",
       "      <td>3.0</td>\n",
       "      <td>74.0</td>\n",
       "      <td>-1</td>\n",
       "    </tr>\n",
       "    <tr>\n",
       "      <th>4</th>\n",
       "      <td>4.0</td>\n",
       "      <td>73.0</td>\n",
       "      <td>-1</td>\n",
       "    </tr>\n",
       "    <tr>\n",
       "      <th>5</th>\n",
       "      <td>5.0</td>\n",
       "      <td>72.0</td>\n",
       "      <td>-1</td>\n",
       "    </tr>\n",
       "  </tbody>\n",
       "</table>\n",
       "</div>"
      ],
      "text/plain": [
       "   Rank  3_Health  clusters\n",
       "1   1.0      86.0        -1\n",
       "2   2.0      90.0        -1\n",
       "3   3.0      74.0        -1\n",
       "4   4.0      73.0        -1\n",
       "5   5.0      72.0        -1"
      ]
     },
     "execution_count": 1998,
     "metadata": {},
     "output_type": "execute_result"
    }
   ],
   "source": [
    "mydf3['clusters'] = clusters\n",
    "mydf3.head()"
   ]
  },
  {
   "cell_type": "code",
   "execution_count": 1999,
   "metadata": {},
   "outputs": [
    {
     "data": {
      "text/plain": [
       "-1    105\n",
       "Name: clusters, dtype: int64"
      ]
     },
     "execution_count": 1999,
     "metadata": {},
     "output_type": "execute_result"
    }
   ],
   "source": [
    "mydf3.clusters.value_counts()"
   ]
  },
  {
   "cell_type": "code",
   "execution_count": 2000,
   "metadata": {},
   "outputs": [
    {
     "data": {
      "text/plain": [
       "1"
      ]
     },
     "execution_count": 2000,
     "metadata": {},
     "output_type": "execute_result"
    }
   ],
   "source": [
    "len(mydf3.clusters.value_counts())"
   ]
  },
  {
   "cell_type": "code",
   "execution_count": 2001,
   "metadata": {},
   "outputs": [
    {
     "data": {
      "text/html": [
       "<div>\n",
       "<style scoped>\n",
       "    .dataframe tbody tr th:only-of-type {\n",
       "        vertical-align: middle;\n",
       "    }\n",
       "\n",
       "    .dataframe tbody tr th {\n",
       "        vertical-align: top;\n",
       "    }\n",
       "\n",
       "    .dataframe thead th {\n",
       "        text-align: right;\n",
       "    }\n",
       "</style>\n",
       "<table border=\"1\" class=\"dataframe\">\n",
       "  <thead>\n",
       "    <tr style=\"text-align: right;\">\n",
       "      <th></th>\n",
       "      <th>Rank</th>\n",
       "      <th>3_Health</th>\n",
       "      <th>clusters</th>\n",
       "    </tr>\n",
       "  </thead>\n",
       "  <tbody>\n",
       "    <tr>\n",
       "      <th>count</th>\n",
       "      <td>105.000000</td>\n",
       "      <td>105.000000</td>\n",
       "      <td>105.0</td>\n",
       "    </tr>\n",
       "    <tr>\n",
       "      <th>mean</th>\n",
       "      <td>53.000000</td>\n",
       "      <td>49.476190</td>\n",
       "      <td>-1.0</td>\n",
       "    </tr>\n",
       "    <tr>\n",
       "      <th>std</th>\n",
       "      <td>30.454885</td>\n",
       "      <td>16.356071</td>\n",
       "      <td>0.0</td>\n",
       "    </tr>\n",
       "    <tr>\n",
       "      <th>min</th>\n",
       "      <td>1.000000</td>\n",
       "      <td>18.000000</td>\n",
       "      <td>-1.0</td>\n",
       "    </tr>\n",
       "    <tr>\n",
       "      <th>25%</th>\n",
       "      <td>27.000000</td>\n",
       "      <td>36.000000</td>\n",
       "      <td>-1.0</td>\n",
       "    </tr>\n",
       "    <tr>\n",
       "      <th>50%</th>\n",
       "      <td>53.000000</td>\n",
       "      <td>50.000000</td>\n",
       "      <td>-1.0</td>\n",
       "    </tr>\n",
       "    <tr>\n",
       "      <th>75%</th>\n",
       "      <td>79.000000</td>\n",
       "      <td>60.000000</td>\n",
       "      <td>-1.0</td>\n",
       "    </tr>\n",
       "    <tr>\n",
       "      <th>max</th>\n",
       "      <td>105.000000</td>\n",
       "      <td>90.000000</td>\n",
       "      <td>-1.0</td>\n",
       "    </tr>\n",
       "  </tbody>\n",
       "</table>\n",
       "</div>"
      ],
      "text/plain": [
       "             Rank    3_Health  clusters\n",
       "count  105.000000  105.000000     105.0\n",
       "mean    53.000000   49.476190      -1.0\n",
       "std     30.454885   16.356071       0.0\n",
       "min      1.000000   18.000000      -1.0\n",
       "25%     27.000000   36.000000      -1.0\n",
       "50%     53.000000   50.000000      -1.0\n",
       "75%     79.000000   60.000000      -1.0\n",
       "max    105.000000   90.000000      -1.0"
      ]
     },
     "execution_count": 2001,
     "metadata": {},
     "output_type": "execute_result"
    }
   ],
   "source": [
    "mydf3.describe()"
   ]
  },
  {
   "cell_type": "code",
   "execution_count": 2002,
   "metadata": {},
   "outputs": [
    {
     "data": {
      "text/html": [
       "<div>\n",
       "<style scoped>\n",
       "    .dataframe tbody tr th:only-of-type {\n",
       "        vertical-align: middle;\n",
       "    }\n",
       "\n",
       "    .dataframe tbody tr th {\n",
       "        vertical-align: top;\n",
       "    }\n",
       "\n",
       "    .dataframe thead th {\n",
       "        text-align: right;\n",
       "    }\n",
       "</style>\n",
       "<table border=\"1\" class=\"dataframe\">\n",
       "  <thead>\n",
       "    <tr style=\"text-align: right;\">\n",
       "      <th></th>\n",
       "      <th>Rank</th>\n",
       "      <th>3_Health</th>\n",
       "      <th>clusters</th>\n",
       "    </tr>\n",
       "  </thead>\n",
       "  <tbody>\n",
       "    <tr>\n",
       "      <th>1</th>\n",
       "      <td>1.0</td>\n",
       "      <td>86.0</td>\n",
       "      <td>-1</td>\n",
       "    </tr>\n",
       "    <tr>\n",
       "      <th>2</th>\n",
       "      <td>2.0</td>\n",
       "      <td>90.0</td>\n",
       "      <td>-1</td>\n",
       "    </tr>\n",
       "    <tr>\n",
       "      <th>12</th>\n",
       "      <td>12.0</td>\n",
       "      <td>79.0</td>\n",
       "      <td>-1</td>\n",
       "    </tr>\n",
       "    <tr>\n",
       "      <th>13</th>\n",
       "      <td>13.0</td>\n",
       "      <td>81.0</td>\n",
       "      <td>-1</td>\n",
       "    </tr>\n",
       "    <tr>\n",
       "      <th>14</th>\n",
       "      <td>14.0</td>\n",
       "      <td>78.0</td>\n",
       "      <td>-1</td>\n",
       "    </tr>\n",
       "  </tbody>\n",
       "</table>\n",
       "</div>"
      ],
      "text/plain": [
       "    Rank  3_Health  clusters\n",
       "1    1.0      86.0        -1\n",
       "2    2.0      90.0        -1\n",
       "12  12.0      79.0        -1\n",
       "13  13.0      81.0        -1\n",
       "14  14.0      78.0        -1"
      ]
     },
     "execution_count": 2002,
     "metadata": {},
     "output_type": "execute_result"
    }
   ],
   "source": [
    "mydf3[mydf3['3_Health'] > 74]"
   ]
  },
  {
   "cell_type": "code",
   "execution_count": 2003,
   "metadata": {},
   "outputs": [
    {
     "data": {
      "text/html": [
       "<div>\n",
       "<style scoped>\n",
       "    .dataframe tbody tr th:only-of-type {\n",
       "        vertical-align: middle;\n",
       "    }\n",
       "\n",
       "    .dataframe tbody tr th {\n",
       "        vertical-align: top;\n",
       "    }\n",
       "\n",
       "    .dataframe thead th {\n",
       "        text-align: right;\n",
       "    }\n",
       "</style>\n",
       "<table border=\"1\" class=\"dataframe\">\n",
       "  <thead>\n",
       "    <tr style=\"text-align: right;\">\n",
       "      <th></th>\n",
       "      <th>Rank</th>\n",
       "      <th>3_Health</th>\n",
       "      <th>clusters</th>\n",
       "    </tr>\n",
       "  </thead>\n",
       "  <tbody>\n",
       "  </tbody>\n",
       "</table>\n",
       "</div>"
      ],
      "text/plain": [
       "Empty DataFrame\n",
       "Columns: [Rank, 3_Health, clusters]\n",
       "Index: []"
      ]
     },
     "execution_count": 2003,
     "metadata": {},
     "output_type": "execute_result"
    }
   ],
   "source": [
    "mydf3[mydf3['3_Health'] < 16]"
   ]
  },
  {
   "cell_type": "code",
   "execution_count": 2004,
   "metadata": {},
   "outputs": [
    {
     "data": {
      "image/png": "[encoded data removed]",
      "text/plain": [
       "<Figure size 432x288 with 1 Axes>"
      ]
     },
     "metadata": {
      "needs_background": "light"
     },
     "output_type": "display_data"
    }
   ],
   "source": [
    "mydf4=mydf3.plot.scatter(x = \"3_Health\", y=\"Rank\")"
   ]
  },
  {
   "cell_type": "code",
   "execution_count": 2005,
   "metadata": {},
   "outputs": [
    {
     "data": {
      "text/plain": [
       "<matplotlib.axes._subplots.AxesSubplot at 0x1c31d165ef0>"
      ]
     },
     "execution_count": 2005,
     "metadata": {},
     "output_type": "execute_result"
    },
    {
     "data": {
      "image/png": "[encoded data removed]",
      "text/plain": [
       "<Figure size 432x288 with 1 Axes>"
      ]
     },
     "metadata": {
      "needs_background": "light"
     },
     "output_type": "display_data"
    }
   ],
   "source": [
    "from matplotlib import cm\n",
    "cmap = cm.get_cmap('Accent')\n",
    "mydf3.plot.scatter(\n",
    "  x = \"3_Health\",\n",
    "  y = \"Rank\",\n",
    "  c = clusters,\n",
    "  cmap = cmap,\n",
    "  colorbar = False\n",
    ")"
   ]
  },
  {
   "cell_type": "markdown",
   "metadata": {},
   "source": [
    "# Linear Regression \n",
    "- Create model\n",
    "- Visualize results\n",
    "- Examine error\n",
    "- Check and plot residuals"
   ]
  },
  {
   "cell_type": "markdown",
   "metadata": {},
   "source": [
    "**Create your model:**"
   ]
  },
  {
   "cell_type": "code",
   "execution_count": 2006,
   "metadata": {},
   "outputs": [
    {
     "data": {
      "text/html": [
       "<div>\n",
       "<style scoped>\n",
       "    .dataframe tbody tr th:only-of-type {\n",
       "        vertical-align: middle;\n",
       "    }\n",
       "\n",
       "    .dataframe tbody tr th {\n",
       "        vertical-align: top;\n",
       "    }\n",
       "\n",
       "    .dataframe thead th {\n",
       "        text-align: right;\n",
       "    }\n",
       "</style>\n",
       "<table border=\"1\" class=\"dataframe\">\n",
       "  <thead>\n",
       "    <tr style=\"text-align: right;\">\n",
       "      <th></th>\n",
       "      <th>CBSA</th>\n",
       "      <th>Region</th>\n",
       "      <th>City</th>\n",
       "      <th>City_State</th>\n",
       "      <th>Overall Score</th>\n",
       "      <th>Rank</th>\n",
       "      <th>1_Poverty</th>\n",
       "      <th>2_Hunger</th>\n",
       "      <th>3_Health</th>\n",
       "      <th>4_Education</th>\n",
       "      <th>...</th>\n",
       "      <th>6_Clean Water</th>\n",
       "      <th>7_Energy Afforability</th>\n",
       "      <th>8_Economy</th>\n",
       "      <th>9_Industry</th>\n",
       "      <th>10_Reduced Inequality</th>\n",
       "      <th>11_Community_Sustainability</th>\n",
       "      <th>12_Consumtion_Production</th>\n",
       "      <th>13_Climate Action</th>\n",
       "      <th>15_Life_on_Land</th>\n",
       "      <th>16_Justice</th>\n",
       "    </tr>\n",
       "  </thead>\n",
       "  <tbody>\n",
       "    <tr>\n",
       "      <th>1</th>\n",
       "      <td>41860</td>\n",
       "      <td>4</td>\n",
       "      <td>San Francisco</td>\n",
       "      <td>San Francisco-Oakland-Hayward, CA</td>\n",
       "      <td>60-70</td>\n",
       "      <td>1.0</td>\n",
       "      <td>84.0</td>\n",
       "      <td>68.0</td>\n",
       "      <td>86.0</td>\n",
       "      <td>61.0</td>\n",
       "      <td>...</td>\n",
       "      <td>91.0</td>\n",
       "      <td>35.0</td>\n",
       "      <td>79.0</td>\n",
       "      <td>83.0</td>\n",
       "      <td>61.0</td>\n",
       "      <td>60.0</td>\n",
       "      <td>51.0</td>\n",
       "      <td>85.0</td>\n",
       "      <td>76.0</td>\n",
       "      <td>64.0</td>\n",
       "    </tr>\n",
       "    <tr>\n",
       "      <th>2</th>\n",
       "      <td>41940</td>\n",
       "      <td>4</td>\n",
       "      <td>San Jose</td>\n",
       "      <td>San Jose-Sunnyvale-Santa Clara, CA</td>\n",
       "      <td>60-70</td>\n",
       "      <td>2.0</td>\n",
       "      <td>87.0</td>\n",
       "      <td>74.0</td>\n",
       "      <td>90.0</td>\n",
       "      <td>65.0</td>\n",
       "      <td>...</td>\n",
       "      <td>53.0</td>\n",
       "      <td>36.0</td>\n",
       "      <td>90.0</td>\n",
       "      <td>87.0</td>\n",
       "      <td>78.0</td>\n",
       "      <td>47.0</td>\n",
       "      <td>73.0</td>\n",
       "      <td>57.0</td>\n",
       "      <td>81.0</td>\n",
       "      <td>69.0</td>\n",
       "    </tr>\n",
       "    <tr>\n",
       "      <th>3</th>\n",
       "      <td>47900</td>\n",
       "      <td>3</td>\n",
       "      <td>Washington</td>\n",
       "      <td>Washington-Arlington-Alexandria, DC-VA-MD-WV</td>\n",
       "      <td>60-70</td>\n",
       "      <td>3.0</td>\n",
       "      <td>84.0</td>\n",
       "      <td>56.0</td>\n",
       "      <td>74.0</td>\n",
       "      <td>65.0</td>\n",
       "      <td>...</td>\n",
       "      <td>86.0</td>\n",
       "      <td>41.0</td>\n",
       "      <td>53.0</td>\n",
       "      <td>56.0</td>\n",
       "      <td>74.0</td>\n",
       "      <td>59.0</td>\n",
       "      <td>69.0</td>\n",
       "      <td>82.0</td>\n",
       "      <td>82.0</td>\n",
       "      <td>69.0</td>\n",
       "    </tr>\n",
       "    <tr>\n",
       "      <th>4</th>\n",
       "      <td>42660</td>\n",
       "      <td>4</td>\n",
       "      <td>Seattle</td>\n",
       "      <td>Seattle-Tacoma-Bellevue, WA</td>\n",
       "      <td>60-70</td>\n",
       "      <td>4.0</td>\n",
       "      <td>83.0</td>\n",
       "      <td>45.0</td>\n",
       "      <td>73.0</td>\n",
       "      <td>57.0</td>\n",
       "      <td>...</td>\n",
       "      <td>66.0</td>\n",
       "      <td>63.0</td>\n",
       "      <td>73.0</td>\n",
       "      <td>72.0</td>\n",
       "      <td>66.0</td>\n",
       "      <td>58.0</td>\n",
       "      <td>53.0</td>\n",
       "      <td>88.0</td>\n",
       "      <td>52.0</td>\n",
       "      <td>85.0</td>\n",
       "    </tr>\n",
       "    <tr>\n",
       "      <th>5</th>\n",
       "      <td>31540</td>\n",
       "      <td>2</td>\n",
       "      <td>Madison</td>\n",
       "      <td>Madison, WI</td>\n",
       "      <td>60-70</td>\n",
       "      <td>5.0</td>\n",
       "      <td>63.0</td>\n",
       "      <td>50.0</td>\n",
       "      <td>72.0</td>\n",
       "      <td>76.0</td>\n",
       "      <td>...</td>\n",
       "      <td>67.0</td>\n",
       "      <td>40.0</td>\n",
       "      <td>79.0</td>\n",
       "      <td>58.0</td>\n",
       "      <td>78.0</td>\n",
       "      <td>59.0</td>\n",
       "      <td>83.0</td>\n",
       "      <td>64.0</td>\n",
       "      <td>70.0</td>\n",
       "      <td>78.0</td>\n",
       "    </tr>\n",
       "  </tbody>\n",
       "</table>\n",
       "<p>5 rows × 21 columns</p>\n",
       "</div>"
      ],
      "text/plain": [
       "    CBSA Region           City                                    City_State  \\\n",
       "1  41860      4  San Francisco             San Francisco-Oakland-Hayward, CA   \n",
       "2  41940      4       San Jose            San Jose-Sunnyvale-Santa Clara, CA   \n",
       "3  47900      3     Washington  Washington-Arlington-Alexandria, DC-VA-MD-WV   \n",
       "4  42660      4        Seattle                   Seattle-Tacoma-Bellevue, WA   \n",
       "5  31540      2        Madison                                   Madison, WI   \n",
       "\n",
       "  Overall Score  Rank  1_Poverty  2_Hunger  3_Health  4_Education  ...  \\\n",
       "1         60-70   1.0       84.0      68.0      86.0         61.0  ...   \n",
       "2         60-70   2.0       87.0      74.0      90.0         65.0  ...   \n",
       "3         60-70   3.0       84.0      56.0      74.0         65.0  ...   \n",
       "4         60-70   4.0       83.0      45.0      73.0         57.0  ...   \n",
       "5         60-70   5.0       63.0      50.0      72.0         76.0  ...   \n",
       "\n",
       "   6_Clean Water  7_Energy Afforability  8_Economy  9_Industry  \\\n",
       "1           91.0                   35.0       79.0        83.0   \n",
       "2           53.0                   36.0       90.0        87.0   \n",
       "3           86.0                   41.0       53.0        56.0   \n",
       "4           66.0                   63.0       73.0        72.0   \n",
       "5           67.0                   40.0       79.0        58.0   \n",
       "\n",
       "   10_Reduced Inequality  11_Community_Sustainability  \\\n",
       "1                   61.0                         60.0   \n",
       "2                   78.0                         47.0   \n",
       "3                   74.0                         59.0   \n",
       "4                   66.0                         58.0   \n",
       "5                   78.0                         59.0   \n",
       "\n",
       "   12_Consumtion_Production  13_Climate Action  15_Life_on_Land  16_Justice  \n",
       "1                      51.0               85.0             76.0        64.0  \n",
       "2                      73.0               57.0             81.0        69.0  \n",
       "3                      69.0               82.0             82.0        69.0  \n",
       "4                      53.0               88.0             52.0        85.0  \n",
       "5                      83.0               64.0             70.0        78.0  \n",
       "\n",
       "[5 rows x 21 columns]"
      ]
     },
     "execution_count": 2006,
     "metadata": {},
     "output_type": "execute_result"
    }
   ],
   "source": [
    "import matplotlib.pyplot as plt\n",
    "%matplotlib inline\n",
    "\n",
    "import numpy as np\n",
    "from sklearn import datasets, linear_model\n",
    "import pandas as pd\n",
    "\n",
    "mydf.head()"
   ]
  },
  {
   "cell_type": "code",
   "execution_count": 2007,
   "metadata": {},
   "outputs": [],
   "source": [
    "mydf_y = pd.DataFrame(mydf[\"Rank\"],\n",
    "                 columns=[\"Rank\"])"
   ]
  },
  {
   "cell_type": "code",
   "execution_count": 2008,
   "metadata": {},
   "outputs": [
    {
     "data": {
      "text/html": [
       "<div>\n",
       "<style scoped>\n",
       "    .dataframe tbody tr th:only-of-type {\n",
       "        vertical-align: middle;\n",
       "    }\n",
       "\n",
       "    .dataframe tbody tr th {\n",
       "        vertical-align: top;\n",
       "    }\n",
       "\n",
       "    .dataframe thead th {\n",
       "        text-align: right;\n",
       "    }\n",
       "</style>\n",
       "<table border=\"1\" class=\"dataframe\">\n",
       "  <thead>\n",
       "    <tr style=\"text-align: right;\">\n",
       "      <th></th>\n",
       "      <th>Rank</th>\n",
       "    </tr>\n",
       "  </thead>\n",
       "  <tbody>\n",
       "    <tr>\n",
       "      <th>1</th>\n",
       "      <td>1.0</td>\n",
       "    </tr>\n",
       "    <tr>\n",
       "      <th>2</th>\n",
       "      <td>2.0</td>\n",
       "    </tr>\n",
       "    <tr>\n",
       "      <th>3</th>\n",
       "      <td>3.0</td>\n",
       "    </tr>\n",
       "    <tr>\n",
       "      <th>4</th>\n",
       "      <td>4.0</td>\n",
       "    </tr>\n",
       "    <tr>\n",
       "      <th>5</th>\n",
       "      <td>5.0</td>\n",
       "    </tr>\n",
       "  </tbody>\n",
       "</table>\n",
       "</div>"
      ],
      "text/plain": [
       "   Rank\n",
       "1   1.0\n",
       "2   2.0\n",
       "3   3.0\n",
       "4   4.0\n",
       "5   5.0"
      ]
     },
     "execution_count": 2008,
     "metadata": {},
     "output_type": "execute_result"
    }
   ],
   "source": [
    "mydf_y.head()"
   ]
  },
  {
   "cell_type": "markdown",
   "metadata": {},
   "source": [
    "**Visualize results:**"
   ]
  },
  {
   "cell_type": "code",
   "execution_count": 2009,
   "metadata": {},
   "outputs": [],
   "source": [
    "import matplotlib.pyplot as plt\n",
    "%matplotlib inline"
   ]
  },
  {
   "cell_type": "code",
   "execution_count": 2010,
   "metadata": {},
   "outputs": [
    {
     "data": {
      "text/plain": [
       "<matplotlib.collections.PathCollection at 0x1c31d1ea278>"
      ]
     },
     "execution_count": 2010,
     "metadata": {},
     "output_type": "execute_result"
    },
    {
     "data": {
      "image/png": "[encoded data removed]",
      "text/plain": [
       "<Figure size 432x288 with 1 Axes>"
      ]
     },
     "metadata": {
      "needs_background": "light"
     },
     "output_type": "display_data"
    }
   ],
   "source": [
    "plt.scatter(mydf2[\"1_Poverty\"], mydf2[\"Rank\"])"
   ]
  },
  {
   "cell_type": "code",
   "execution_count": 2011,
   "metadata": {},
   "outputs": [
    {
     "data": {
      "text/plain": [
       "<matplotlib.collections.PathCollection at 0x1c31d235a20>"
      ]
     },
     "execution_count": 2011,
     "metadata": {},
     "output_type": "execute_result"
    },
    {
     "data": {
      "image/png": "[encoded data removed]",
      "text/plain": [
       "<Figure size 432x288 with 1 Axes>"
      ]
     },
     "metadata": {
      "needs_background": "light"
     },
     "output_type": "display_data"
    }
   ],
   "source": [
    "plt.scatter(mydf2[\"2_Hunger\"], mydf2[\"Rank\"])"
   ]
  },
  {
   "cell_type": "code",
   "execution_count": 2012,
   "metadata": {},
   "outputs": [
    {
     "data": {
      "text/plain": [
       "<matplotlib.collections.PathCollection at 0x1c31d28dbe0>"
      ]
     },
     "execution_count": 2012,
     "metadata": {},
     "output_type": "execute_result"
    },
    {
     "data": {
      "image/png": "[encoded data removed]",
      "text/plain": [
       "<Figure size 432x288 with 1 Axes>"
      ]
     },
     "metadata": {
      "needs_background": "light"
     },
     "output_type": "display_data"
    }
   ],
   "source": [
    "plt.scatter(mydf2[\"3_Health\"], mydf2[\"Rank\"])"
   ]
  },
  {
   "cell_type": "code",
   "execution_count": 2013,
   "metadata": {},
   "outputs": [
    {
     "data": {
      "text/plain": [
       "<matplotlib.collections.PathCollection at 0x1c31d2f3358>"
      ]
     },
     "execution_count": 2013,
     "metadata": {},
     "output_type": "execute_result"
    },
    {
     "data": {
      "image/png": "[encoded data removed]",
      "text/plain": [
       "<Figure size 432x288 with 1 Axes>"
      ]
     },
     "metadata": {
      "needs_background": "light"
     },
     "output_type": "display_data"
    }
   ],
   "source": [
    "plt.scatter(mydf2[\"4_Education\"], mydf2[\"Rank\"])"
   ]
  },
  {
   "cell_type": "code",
   "execution_count": 2014,
   "metadata": {},
   "outputs": [
    {
     "data": {
      "text/plain": [
       "<matplotlib.collections.PathCollection at 0x1c31d34e048>"
      ]
     },
     "execution_count": 2014,
     "metadata": {},
     "output_type": "execute_result"
    },
    {
     "data": {
      "image/png": "[encoded data removed]",
      "text/plain": [
       "<Figure size 432x288 with 1 Axes>"
      ]
     },
     "metadata": {
      "needs_background": "light"
     },
     "output_type": "display_data"
    }
   ],
   "source": [
    "plt.scatter(mydf2[\"5_Gender Equality\"], mydf2[\"Rank\"])"
   ]
  },
  {
   "cell_type": "code",
   "execution_count": 2015,
   "metadata": {},
   "outputs": [
    {
     "data": {
      "text/plain": [
       "<matplotlib.collections.PathCollection at 0x1c31d3a9710>"
      ]
     },
     "execution_count": 2015,
     "metadata": {},
     "output_type": "execute_result"
    },
    {
     "data": {
      "image/png": "[encoded data removed]",
      "text/plain": [
       "<Figure size 432x288 with 1 Axes>"
      ]
     },
     "metadata": {
      "needs_background": "light"
     },
     "output_type": "display_data"
    }
   ],
   "source": [
    "plt.scatter(mydf2[\"Rank\"], mydf2[\"6_Clean Water\"])"
   ]
  },
  {
   "cell_type": "code",
   "execution_count": 2016,
   "metadata": {},
   "outputs": [
    {
     "data": {
      "text/plain": [
       "<matplotlib.collections.PathCollection at 0x1c31d404940>"
      ]
     },
     "execution_count": 2016,
     "metadata": {},
     "output_type": "execute_result"
    },
    {
     "data": {
      "image/png": "[encoded data removed]",
      "text/plain": [
       "<Figure size 432x288 with 1 Axes>"
      ]
     },
     "metadata": {
      "needs_background": "light"
     },
     "output_type": "display_data"
    }
   ],
   "source": [
    "plt.scatter(mydf2[\"Rank\"], mydf2[\"7_Energy Afforability\"])"
   ]
  },
  {
   "cell_type": "code",
   "execution_count": 2017,
   "metadata": {},
   "outputs": [
    {
     "data": {
      "text/plain": [
       "<matplotlib.collections.PathCollection at 0x1c31d462f28>"
      ]
     },
     "execution_count": 2017,
     "metadata": {},
     "output_type": "execute_result"
    },
    {
     "data": {
      "image/png": "[encoded data removed]",
      "text/plain": [
       "<Figure size 432x288 with 1 Axes>"
      ]
     },
     "metadata": {
      "needs_background": "light"
     },
     "output_type": "display_data"
    }
   ],
   "source": [
    "plt.scatter(mydf2[\"Rank\"], mydf2[\"8_Economy\"])"
   ]
  },
  {
   "cell_type": "code",
   "execution_count": 2018,
   "metadata": {},
   "outputs": [
    {
     "data": {
      "text/plain": [
       "<matplotlib.collections.PathCollection at 0x1c31d490630>"
      ]
     },
     "execution_count": 2018,
     "metadata": {},
     "output_type": "execute_result"
    },
    {
     "data": {
      "image/png": "[encoded data removed]",
      "text/plain": [
       "<Figure size 432x288 with 1 Axes>"
      ]
     },
     "metadata": {
      "needs_background": "light"
     },
     "output_type": "display_data"
    }
   ],
   "source": [
    "plt.scatter(mydf2[\"9_Industry\"], mydf2[\"Rank\"])"
   ]
  },
  {
   "cell_type": "code",
   "execution_count": 2019,
   "metadata": {},
   "outputs": [
    {
     "data": {
      "text/plain": [
       "<matplotlib.collections.PathCollection at 0x1c31e4dfba8>"
      ]
     },
     "execution_count": 2019,
     "metadata": {},
     "output_type": "execute_result"
    },
    {
     "data": {
      "image/png": "[encoded data removed]",
      "text/plain": [
       "<Figure size 432x288 with 1 Axes>"
      ]
     },
     "metadata": {
      "needs_background": "light"
     },
     "output_type": "display_data"
    }
   ],
   "source": [
    "plt.scatter(mydf2[\"Rank\"], mydf2[\"10_Reduced Inequality\"])"
   ]
  },
  {
   "cell_type": "code",
   "execution_count": 2020,
   "metadata": {},
   "outputs": [
    {
     "data": {
      "text/plain": [
       "<matplotlib.collections.PathCollection at 0x1c31e53a8d0>"
      ]
     },
     "execution_count": 2020,
     "metadata": {},
     "output_type": "execute_result"
    },
    {
     "data": {
      "image/png": "[encoded data removed]",
      "text/plain": [
       "<Figure size 432x288 with 1 Axes>"
      ]
     },
     "metadata": {
      "needs_background": "light"
     },
     "output_type": "display_data"
    }
   ],
   "source": [
    "plt.scatter(mydf2[\"Rank\"], mydf2[\"11_Community_Sustainability\"])"
   ]
  },
  {
   "cell_type": "code",
   "execution_count": 2021,
   "metadata": {},
   "outputs": [
    {
     "data": {
      "text/plain": [
       "<matplotlib.collections.PathCollection at 0x1c31e5a2128>"
      ]
     },
     "execution_count": 2021,
     "metadata": {},
     "output_type": "execute_result"
    },
    {
     "data": {
      "image/png": "[encoded data removed]",
      "text/plain": [
       "<Figure size 432x288 with 1 Axes>"
      ]
     },
     "metadata": {
      "needs_background": "light"
     },
     "output_type": "display_data"
    }
   ],
   "source": [
    "plt.scatter(mydf2[\"Rank\"], mydf2[\"12_Consumtion_Production\"])"
   ]
  },
  {
   "cell_type": "code",
   "execution_count": 2022,
   "metadata": {},
   "outputs": [
    {
     "data": {
      "text/plain": [
       "<matplotlib.collections.PathCollection at 0x1c31e5f4e80>"
      ]
     },
     "execution_count": 2022,
     "metadata": {},
     "output_type": "execute_result"
    },
    {
     "data": {
      "image/png": "[encoded data removed]",
      "text/plain": [
       "<Figure size 432x288 with 1 Axes>"
      ]
     },
     "metadata": {
      "needs_background": "light"
     },
     "output_type": "display_data"
    }
   ],
   "source": [
    "plt.scatter(mydf2[\"13_Climate Action\"], mydf2[\"Rank\"])"
   ]
  },
  {
   "cell_type": "code",
   "execution_count": 2023,
   "metadata": {},
   "outputs": [
    {
     "data": {
      "text/plain": [
       "<matplotlib.collections.PathCollection at 0x1c31e6506d8>"
      ]
     },
     "execution_count": 2023,
     "metadata": {},
     "output_type": "execute_result"
    },
    {
     "data": {
      "image/png": "[encoded data removed]",
      "text/plain": [
       "<Figure size 432x288 with 1 Axes>"
      ]
     },
     "metadata": {
      "needs_background": "light"
     },
     "output_type": "display_data"
    }
   ],
   "source": [
    "plt.scatter(mydf2[\"15_Life_on_Land\"], mydf2[\"Rank\"])"
   ]
  },
  {
   "cell_type": "code",
   "execution_count": 2024,
   "metadata": {},
   "outputs": [
    {
     "data": {
      "text/plain": [
       "<matplotlib.collections.PathCollection at 0x1c31e6ac2e8>"
      ]
     },
     "execution_count": 2024,
     "metadata": {},
     "output_type": "execute_result"
    },
    {
     "data": {
      "image/png": "[encoded data removed]",
      "text/plain": [
       "<Figure size 432x288 with 1 Axes>"
      ]
     },
     "metadata": {
      "needs_background": "light"
     },
     "output_type": "display_data"
    }
   ],
   "source": [
    "plt.scatter(mydf2[\"Rank\"], mydf2[\"16_Justice\"])"
   ]
  },
  {
   "cell_type": "markdown",
   "metadata": {},
   "source": [
    "=> Based on the correlation scatter plot, \"Health\", \"Industry\", and \"Justice\" are the three segments that are the most correlated to \"Rank\"."
   ]
  },
  {
   "cell_type": "code",
   "execution_count": 2025,
   "metadata": {
    "scrolled": true
   },
   "outputs": [
    {
     "data": {
      "text/html": [
       "<div>\n",
       "<style scoped>\n",
       "    .dataframe tbody tr th:only-of-type {\n",
       "        vertical-align: middle;\n",
       "    }\n",
       "\n",
       "    .dataframe tbody tr th {\n",
       "        vertical-align: top;\n",
       "    }\n",
       "\n",
       "    .dataframe thead th {\n",
       "        text-align: right;\n",
       "    }\n",
       "</style>\n",
       "<table border=\"1\" class=\"dataframe\">\n",
       "  <thead>\n",
       "    <tr style=\"text-align: right;\">\n",
       "      <th></th>\n",
       "      <th>Rank</th>\n",
       "      <th>3_Health</th>\n",
       "      <th>9_Industry</th>\n",
       "      <th>16_Justice</th>\n",
       "    </tr>\n",
       "  </thead>\n",
       "  <tbody>\n",
       "    <tr>\n",
       "      <th>Rank</th>\n",
       "      <td>1.000000</td>\n",
       "      <td>-0.814289</td>\n",
       "      <td>-0.703947</td>\n",
       "      <td>-0.614305</td>\n",
       "    </tr>\n",
       "    <tr>\n",
       "      <th>3_Health</th>\n",
       "      <td>-0.814289</td>\n",
       "      <td>1.000000</td>\n",
       "      <td>0.588942</td>\n",
       "      <td>0.545984</td>\n",
       "    </tr>\n",
       "    <tr>\n",
       "      <th>9_Industry</th>\n",
       "      <td>-0.703947</td>\n",
       "      <td>0.588942</td>\n",
       "      <td>1.000000</td>\n",
       "      <td>0.440968</td>\n",
       "    </tr>\n",
       "    <tr>\n",
       "      <th>16_Justice</th>\n",
       "      <td>-0.614305</td>\n",
       "      <td>0.545984</td>\n",
       "      <td>0.440968</td>\n",
       "      <td>1.000000</td>\n",
       "    </tr>\n",
       "  </tbody>\n",
       "</table>\n",
       "</div>"
      ],
      "text/plain": [
       "                Rank  3_Health  9_Industry  16_Justice\n",
       "Rank        1.000000 -0.814289   -0.703947   -0.614305\n",
       "3_Health   -0.814289  1.000000    0.588942    0.545984\n",
       "9_Industry -0.703947  0.588942    1.000000    0.440968\n",
       "16_Justice -0.614305  0.545984    0.440968    1.000000"
      ]
     },
     "execution_count": 2025,
     "metadata": {},
     "output_type": "execute_result"
    }
   ],
   "source": [
    "mydf[['Rank', '3_Health', '9_Industry', '16_Justice']].corr()"
   ]
  },
  {
   "cell_type": "code",
   "execution_count": 2026,
   "metadata": {},
   "outputs": [],
   "source": [
    "mydf_x=mydf[[\n",
    " '1_Poverty',\n",
    " '2_Hunger',\n",
    " '3_Health',\n",
    " '4_Education',\n",
    " '5_Gender Equality',\n",
    " '6_Clean Water',\n",
    " '7_Energy Afforability',\n",
    " '8_Economy',\n",
    " '9_Industry',\n",
    " '10_Reduced Inequality',\n",
    " '11_Community_Sustainability',\n",
    " '12_Consumtion_Production',\n",
    " '13_Climate Action',\n",
    " '15_Life_on_Land',\n",
    " '16_Justice']]"
   ]
  },
  {
   "cell_type": "markdown",
   "metadata": {},
   "source": [
    "**Examine error:**"
   ]
  },
  {
   "cell_type": "code",
   "execution_count": 2027,
   "metadata": {},
   "outputs": [
    {
     "data": {
      "text/plain": [
       "<matplotlib.axes._subplots.AxesSubplot at 0x1c31e6da898>"
      ]
     },
     "execution_count": 2027,
     "metadata": {},
     "output_type": "execute_result"
    },
    {
     "data": {
      "image/png": "[encoded data removed]",
      "text/plain": [
       "<Figure size 432x288 with 2 Axes>"
      ]
     },
     "metadata": {
      "needs_background": "light"
     },
     "output_type": "display_data"
    }
   ],
   "source": [
    "import seaborn as sns\n",
    "corr = mydf_x.corr()\n",
    "sns.heatmap(corr, \n",
    "            vmin=0, vmax=1, # setting min and max probability\n",
    "            center=0.5, # changing to peach for high correlation, blue for low\n",
    "            xticklabels=corr.columns.values,\n",
    "            yticklabels=corr.columns.values)"
   ]
  },
  {
   "cell_type": "code",
   "execution_count": 2028,
   "metadata": {
    "scrolled": true
   },
   "outputs": [
    {
     "data": {
      "text/html": [
       "<div>\n",
       "<style scoped>\n",
       "    .dataframe tbody tr th:only-of-type {\n",
       "        vertical-align: middle;\n",
       "    }\n",
       "\n",
       "    .dataframe tbody tr th {\n",
       "        vertical-align: top;\n",
       "    }\n",
       "\n",
       "    .dataframe thead th {\n",
       "        text-align: right;\n",
       "    }\n",
       "</style>\n",
       "<table border=\"1\" class=\"dataframe\">\n",
       "  <thead>\n",
       "    <tr style=\"text-align: right;\">\n",
       "      <th></th>\n",
       "      <th>1_Poverty</th>\n",
       "      <th>2_Hunger</th>\n",
       "      <th>3_Health</th>\n",
       "      <th>4_Education</th>\n",
       "      <th>5_Gender Equality</th>\n",
       "      <th>6_Clean Water</th>\n",
       "      <th>7_Energy Afforability</th>\n",
       "      <th>8_Economy</th>\n",
       "      <th>9_Industry</th>\n",
       "      <th>10_Reduced Inequality</th>\n",
       "      <th>11_Community_Sustainability</th>\n",
       "      <th>12_Consumtion_Production</th>\n",
       "      <th>13_Climate Action</th>\n",
       "      <th>15_Life_on_Land</th>\n",
       "      <th>16_Justice</th>\n",
       "    </tr>\n",
       "  </thead>\n",
       "  <tbody>\n",
       "    <tr>\n",
       "      <th>1_Poverty</th>\n",
       "      <td>1.000000</td>\n",
       "      <td>0.613338</td>\n",
       "      <td>0.630591</td>\n",
       "      <td>0.472436</td>\n",
       "      <td>0.069914</td>\n",
       "      <td>0.063034</td>\n",
       "      <td>0.296980</td>\n",
       "      <td>0.284128</td>\n",
       "      <td>0.580536</td>\n",
       "      <td>0.359687</td>\n",
       "      <td>0.472305</td>\n",
       "      <td>-0.236906</td>\n",
       "      <td>0.487401</td>\n",
       "      <td>-0.135086</td>\n",
       "      <td>0.563007</td>\n",
       "    </tr>\n",
       "    <tr>\n",
       "      <th>2_Hunger</th>\n",
       "      <td>0.613338</td>\n",
       "      <td>1.000000</td>\n",
       "      <td>0.796911</td>\n",
       "      <td>0.232136</td>\n",
       "      <td>0.050529</td>\n",
       "      <td>-0.135502</td>\n",
       "      <td>0.332121</td>\n",
       "      <td>0.285698</td>\n",
       "      <td>0.441056</td>\n",
       "      <td>0.473462</td>\n",
       "      <td>0.294572</td>\n",
       "      <td>-0.252177</td>\n",
       "      <td>0.584589</td>\n",
       "      <td>0.016511</td>\n",
       "      <td>0.427739</td>\n",
       "    </tr>\n",
       "    <tr>\n",
       "      <th>3_Health</th>\n",
       "      <td>0.630591</td>\n",
       "      <td>0.796911</td>\n",
       "      <td>1.000000</td>\n",
       "      <td>0.431463</td>\n",
       "      <td>0.115728</td>\n",
       "      <td>-0.068134</td>\n",
       "      <td>0.345585</td>\n",
       "      <td>0.435034</td>\n",
       "      <td>0.588942</td>\n",
       "      <td>0.481186</td>\n",
       "      <td>0.388704</td>\n",
       "      <td>-0.222442</td>\n",
       "      <td>0.500936</td>\n",
       "      <td>-0.036636</td>\n",
       "      <td>0.545984</td>\n",
       "    </tr>\n",
       "    <tr>\n",
       "      <th>4_Education</th>\n",
       "      <td>0.472436</td>\n",
       "      <td>0.232136</td>\n",
       "      <td>0.431463</td>\n",
       "      <td>1.000000</td>\n",
       "      <td>-0.147623</td>\n",
       "      <td>0.047330</td>\n",
       "      <td>-0.040888</td>\n",
       "      <td>0.491363</td>\n",
       "      <td>0.671343</td>\n",
       "      <td>0.251502</td>\n",
       "      <td>0.490910</td>\n",
       "      <td>0.010614</td>\n",
       "      <td>0.168805</td>\n",
       "      <td>0.059044</td>\n",
       "      <td>0.500218</td>\n",
       "    </tr>\n",
       "    <tr>\n",
       "      <th>5_Gender Equality</th>\n",
       "      <td>0.069914</td>\n",
       "      <td>0.050529</td>\n",
       "      <td>0.115728</td>\n",
       "      <td>-0.147623</td>\n",
       "      <td>1.000000</td>\n",
       "      <td>-0.055970</td>\n",
       "      <td>0.182839</td>\n",
       "      <td>-0.125961</td>\n",
       "      <td>0.017476</td>\n",
       "      <td>0.064517</td>\n",
       "      <td>-0.080981</td>\n",
       "      <td>-0.027068</td>\n",
       "      <td>0.229315</td>\n",
       "      <td>-0.261053</td>\n",
       "      <td>-0.033765</td>\n",
       "    </tr>\n",
       "    <tr>\n",
       "      <th>6_Clean Water</th>\n",
       "      <td>0.063034</td>\n",
       "      <td>-0.135502</td>\n",
       "      <td>-0.068134</td>\n",
       "      <td>0.047330</td>\n",
       "      <td>-0.055970</td>\n",
       "      <td>1.000000</td>\n",
       "      <td>0.087930</td>\n",
       "      <td>0.083631</td>\n",
       "      <td>0.055285</td>\n",
       "      <td>-0.017008</td>\n",
       "      <td>0.001432</td>\n",
       "      <td>0.019694</td>\n",
       "      <td>-0.127861</td>\n",
       "      <td>0.022231</td>\n",
       "      <td>-0.162495</td>\n",
       "    </tr>\n",
       "    <tr>\n",
       "      <th>7_Energy Afforability</th>\n",
       "      <td>0.296980</td>\n",
       "      <td>0.332121</td>\n",
       "      <td>0.345585</td>\n",
       "      <td>-0.040888</td>\n",
       "      <td>0.182839</td>\n",
       "      <td>0.087930</td>\n",
       "      <td>1.000000</td>\n",
       "      <td>0.170030</td>\n",
       "      <td>0.184843</td>\n",
       "      <td>0.171924</td>\n",
       "      <td>0.157248</td>\n",
       "      <td>0.008952</td>\n",
       "      <td>0.134695</td>\n",
       "      <td>-0.098635</td>\n",
       "      <td>0.260206</td>\n",
       "    </tr>\n",
       "    <tr>\n",
       "      <th>8_Economy</th>\n",
       "      <td>0.284128</td>\n",
       "      <td>0.285698</td>\n",
       "      <td>0.435034</td>\n",
       "      <td>0.491363</td>\n",
       "      <td>-0.125961</td>\n",
       "      <td>0.083631</td>\n",
       "      <td>0.170030</td>\n",
       "      <td>1.000000</td>\n",
       "      <td>0.458996</td>\n",
       "      <td>0.448633</td>\n",
       "      <td>0.314398</td>\n",
       "      <td>-0.029528</td>\n",
       "      <td>0.033265</td>\n",
       "      <td>0.049993</td>\n",
       "      <td>0.264945</td>\n",
       "    </tr>\n",
       "    <tr>\n",
       "      <th>9_Industry</th>\n",
       "      <td>0.580536</td>\n",
       "      <td>0.441056</td>\n",
       "      <td>0.588942</td>\n",
       "      <td>0.671343</td>\n",
       "      <td>0.017476</td>\n",
       "      <td>0.055285</td>\n",
       "      <td>0.184843</td>\n",
       "      <td>0.458996</td>\n",
       "      <td>1.000000</td>\n",
       "      <td>0.321152</td>\n",
       "      <td>0.527763</td>\n",
       "      <td>-0.102352</td>\n",
       "      <td>0.398356</td>\n",
       "      <td>-0.073172</td>\n",
       "      <td>0.440968</td>\n",
       "    </tr>\n",
       "    <tr>\n",
       "      <th>10_Reduced Inequality</th>\n",
       "      <td>0.359687</td>\n",
       "      <td>0.473462</td>\n",
       "      <td>0.481186</td>\n",
       "      <td>0.251502</td>\n",
       "      <td>0.064517</td>\n",
       "      <td>-0.017008</td>\n",
       "      <td>0.171924</td>\n",
       "      <td>0.448633</td>\n",
       "      <td>0.321152</td>\n",
       "      <td>1.000000</td>\n",
       "      <td>0.219287</td>\n",
       "      <td>-0.156038</td>\n",
       "      <td>0.098382</td>\n",
       "      <td>0.025338</td>\n",
       "      <td>0.129986</td>\n",
       "    </tr>\n",
       "    <tr>\n",
       "      <th>11_Community_Sustainability</th>\n",
       "      <td>0.472305</td>\n",
       "      <td>0.294572</td>\n",
       "      <td>0.388704</td>\n",
       "      <td>0.490910</td>\n",
       "      <td>-0.080981</td>\n",
       "      <td>0.001432</td>\n",
       "      <td>0.157248</td>\n",
       "      <td>0.314398</td>\n",
       "      <td>0.527763</td>\n",
       "      <td>0.219287</td>\n",
       "      <td>1.000000</td>\n",
       "      <td>-0.184491</td>\n",
       "      <td>0.293495</td>\n",
       "      <td>-0.076409</td>\n",
       "      <td>0.412097</td>\n",
       "    </tr>\n",
       "    <tr>\n",
       "      <th>12_Consumtion_Production</th>\n",
       "      <td>-0.236906</td>\n",
       "      <td>-0.252177</td>\n",
       "      <td>-0.222442</td>\n",
       "      <td>0.010614</td>\n",
       "      <td>-0.027068</td>\n",
       "      <td>0.019694</td>\n",
       "      <td>0.008952</td>\n",
       "      <td>-0.029528</td>\n",
       "      <td>-0.102352</td>\n",
       "      <td>-0.156038</td>\n",
       "      <td>-0.184491</td>\n",
       "      <td>1.000000</td>\n",
       "      <td>-0.180077</td>\n",
       "      <td>0.099246</td>\n",
       "      <td>-0.061406</td>\n",
       "    </tr>\n",
       "    <tr>\n",
       "      <th>13_Climate Action</th>\n",
       "      <td>0.487401</td>\n",
       "      <td>0.584589</td>\n",
       "      <td>0.500936</td>\n",
       "      <td>0.168805</td>\n",
       "      <td>0.229315</td>\n",
       "      <td>-0.127861</td>\n",
       "      <td>0.134695</td>\n",
       "      <td>0.033265</td>\n",
       "      <td>0.398356</td>\n",
       "      <td>0.098382</td>\n",
       "      <td>0.293495</td>\n",
       "      <td>-0.180077</td>\n",
       "      <td>1.000000</td>\n",
       "      <td>-0.038213</td>\n",
       "      <td>0.365449</td>\n",
       "    </tr>\n",
       "    <tr>\n",
       "      <th>15_Life_on_Land</th>\n",
       "      <td>-0.135086</td>\n",
       "      <td>0.016511</td>\n",
       "      <td>-0.036636</td>\n",
       "      <td>0.059044</td>\n",
       "      <td>-0.261053</td>\n",
       "      <td>0.022231</td>\n",
       "      <td>-0.098635</td>\n",
       "      <td>0.049993</td>\n",
       "      <td>-0.073172</td>\n",
       "      <td>0.025338</td>\n",
       "      <td>-0.076409</td>\n",
       "      <td>0.099246</td>\n",
       "      <td>-0.038213</td>\n",
       "      <td>1.000000</td>\n",
       "      <td>-0.018677</td>\n",
       "    </tr>\n",
       "    <tr>\n",
       "      <th>16_Justice</th>\n",
       "      <td>0.563007</td>\n",
       "      <td>0.427739</td>\n",
       "      <td>0.545984</td>\n",
       "      <td>0.500218</td>\n",
       "      <td>-0.033765</td>\n",
       "      <td>-0.162495</td>\n",
       "      <td>0.260206</td>\n",
       "      <td>0.264945</td>\n",
       "      <td>0.440968</td>\n",
       "      <td>0.129986</td>\n",
       "      <td>0.412097</td>\n",
       "      <td>-0.061406</td>\n",
       "      <td>0.365449</td>\n",
       "      <td>-0.018677</td>\n",
       "      <td>1.000000</td>\n",
       "    </tr>\n",
       "  </tbody>\n",
       "</table>\n",
       "</div>"
      ],
      "text/plain": [
       "                             1_Poverty  2_Hunger  3_Health  4_Education  \\\n",
       "1_Poverty                     1.000000  0.613338  0.630591     0.472436   \n",
       "2_Hunger                      0.613338  1.000000  0.796911     0.232136   \n",
       "3_Health                      0.630591  0.796911  1.000000     0.431463   \n",
       "4_Education                   0.472436  0.232136  0.431463     1.000000   \n",
       "5_Gender Equality             0.069914  0.050529  0.115728    -0.147623   \n",
       "6_Clean Water                 0.063034 -0.135502 -0.068134     0.047330   \n",
       "7_Energy Afforability         0.296980  0.332121  0.345585    -0.040888   \n",
       "8_Economy                     0.284128  0.285698  0.435034     0.491363   \n",
       "9_Industry                    0.580536  0.441056  0.588942     0.671343   \n",
       "10_Reduced Inequality         0.359687  0.473462  0.481186     0.251502   \n",
       "11_Community_Sustainability   0.472305  0.294572  0.388704     0.490910   \n",
       "12_Consumtion_Production     -0.236906 -0.252177 -0.222442     0.010614   \n",
       "13_Climate Action             0.487401  0.584589  0.500936     0.168805   \n",
       "15_Life_on_Land              -0.135086  0.016511 -0.036636     0.059044   \n",
       "16_Justice                    0.563007  0.427739  0.545984     0.500218   \n",
       "\n",
       "                             5_Gender Equality  6_Clean Water  \\\n",
       "1_Poverty                             0.069914       0.063034   \n",
       "2_Hunger                              0.050529      -0.135502   \n",
       "3_Health                              0.115728      -0.068134   \n",
       "4_Education                          -0.147623       0.047330   \n",
       "5_Gender Equality                     1.000000      -0.055970   \n",
       "6_Clean Water                        -0.055970       1.000000   \n",
       "7_Energy Afforability                 0.182839       0.087930   \n",
       "8_Economy                            -0.125961       0.083631   \n",
       "9_Industry                            0.017476       0.055285   \n",
       "10_Reduced Inequality                 0.064517      -0.017008   \n",
       "11_Community_Sustainability          -0.080981       0.001432   \n",
       "12_Consumtion_Production             -0.027068       0.019694   \n",
       "13_Climate Action                     0.229315      -0.127861   \n",
       "15_Life_on_Land                      -0.261053       0.022231   \n",
       "16_Justice                           -0.033765      -0.162495   \n",
       "\n",
       "                             7_Energy Afforability  8_Economy  9_Industry  \\\n",
       "1_Poverty                                 0.296980   0.284128    0.580536   \n",
       "2_Hunger                                  0.332121   0.285698    0.441056   \n",
       "3_Health                                  0.345585   0.435034    0.588942   \n",
       "4_Education                              -0.040888   0.491363    0.671343   \n",
       "5_Gender Equality                         0.182839  -0.125961    0.017476   \n",
       "6_Clean Water                             0.087930   0.083631    0.055285   \n",
       "7_Energy Afforability                     1.000000   0.170030    0.184843   \n",
       "8_Economy                                 0.170030   1.000000    0.458996   \n",
       "9_Industry                                0.184843   0.458996    1.000000   \n",
       "10_Reduced Inequality                     0.171924   0.448633    0.321152   \n",
       "11_Community_Sustainability               0.157248   0.314398    0.527763   \n",
       "12_Consumtion_Production                  0.008952  -0.029528   -0.102352   \n",
       "13_Climate Action                         0.134695   0.033265    0.398356   \n",
       "15_Life_on_Land                          -0.098635   0.049993   -0.073172   \n",
       "16_Justice                                0.260206   0.264945    0.440968   \n",
       "\n",
       "                             10_Reduced Inequality  \\\n",
       "1_Poverty                                 0.359687   \n",
       "2_Hunger                                  0.473462   \n",
       "3_Health                                  0.481186   \n",
       "4_Education                               0.251502   \n",
       "5_Gender Equality                         0.064517   \n",
       "6_Clean Water                            -0.017008   \n",
       "7_Energy Afforability                     0.171924   \n",
       "8_Economy                                 0.448633   \n",
       "9_Industry                                0.321152   \n",
       "10_Reduced Inequality                     1.000000   \n",
       "11_Community_Sustainability               0.219287   \n",
       "12_Consumtion_Production                 -0.156038   \n",
       "13_Climate Action                         0.098382   \n",
       "15_Life_on_Land                           0.025338   \n",
       "16_Justice                                0.129986   \n",
       "\n",
       "                             11_Community_Sustainability  \\\n",
       "1_Poverty                                       0.472305   \n",
       "2_Hunger                                        0.294572   \n",
       "3_Health                                        0.388704   \n",
       "4_Education                                     0.490910   \n",
       "5_Gender Equality                              -0.080981   \n",
       "6_Clean Water                                   0.001432   \n",
       "7_Energy Afforability                           0.157248   \n",
       "8_Economy                                       0.314398   \n",
       "9_Industry                                      0.527763   \n",
       "10_Reduced Inequality                           0.219287   \n",
       "11_Community_Sustainability                     1.000000   \n",
       "12_Consumtion_Production                       -0.184491   \n",
       "13_Climate Action                               0.293495   \n",
       "15_Life_on_Land                                -0.076409   \n",
       "16_Justice                                      0.412097   \n",
       "\n",
       "                             12_Consumtion_Production  13_Climate Action  \\\n",
       "1_Poverty                                   -0.236906           0.487401   \n",
       "2_Hunger                                    -0.252177           0.584589   \n",
       "3_Health                                    -0.222442           0.500936   \n",
       "4_Education                                  0.010614           0.168805   \n",
       "5_Gender Equality                           -0.027068           0.229315   \n",
       "6_Clean Water                                0.019694          -0.127861   \n",
       "7_Energy Afforability                        0.008952           0.134695   \n",
       "8_Economy                                   -0.029528           0.033265   \n",
       "9_Industry                                  -0.102352           0.398356   \n",
       "10_Reduced Inequality                       -0.156038           0.098382   \n",
       "11_Community_Sustainability                 -0.184491           0.293495   \n",
       "12_Consumtion_Production                     1.000000          -0.180077   \n",
       "13_Climate Action                           -0.180077           1.000000   \n",
       "15_Life_on_Land                              0.099246          -0.038213   \n",
       "16_Justice                                  -0.061406           0.365449   \n",
       "\n",
       "                             15_Life_on_Land  16_Justice  \n",
       "1_Poverty                          -0.135086    0.563007  \n",
       "2_Hunger                            0.016511    0.427739  \n",
       "3_Health                           -0.036636    0.545984  \n",
       "4_Education                         0.059044    0.500218  \n",
       "5_Gender Equality                  -0.261053   -0.033765  \n",
       "6_Clean Water                       0.022231   -0.162495  \n",
       "7_Energy Afforability              -0.098635    0.260206  \n",
       "8_Economy                           0.049993    0.264945  \n",
       "9_Industry                         -0.073172    0.440968  \n",
       "10_Reduced Inequality               0.025338    0.129986  \n",
       "11_Community_Sustainability        -0.076409    0.412097  \n",
       "12_Consumtion_Production            0.099246   -0.061406  \n",
       "13_Climate Action                  -0.038213    0.365449  \n",
       "15_Life_on_Land                     1.000000   -0.018677  \n",
       "16_Justice                         -0.018677    1.000000  "
      ]
     },
     "execution_count": 2028,
     "metadata": {},
     "output_type": "execute_result"
    }
   ],
   "source": [
    "mydf_x[[\n",
    " '1_Poverty',\n",
    " '2_Hunger',\n",
    " '3_Health',\n",
    " '4_Education',\n",
    " '5_Gender Equality',\n",
    " '6_Clean Water',\n",
    " '7_Energy Afforability',\n",
    " '8_Economy',\n",
    " '9_Industry',\n",
    " '10_Reduced Inequality',\n",
    " '11_Community_Sustainability',\n",
    " '12_Consumtion_Production',\n",
    " '13_Climate Action',\n",
    " '15_Life_on_Land',\n",
    " '16_Justice']].corr()"
   ]
  },
  {
   "cell_type": "code",
   "execution_count": 2029,
   "metadata": {},
   "outputs": [],
   "source": [
    "from sklearn.model_selection import train_test_split\n",
    "x_train, x_test, y_train, y_test = train_test_split(mydf_x, mydf_y,  \n",
    "                                                   test_size= .2,\n",
    "                                                   random_state=42)"
   ]
  },
  {
   "cell_type": "code",
   "execution_count": 2030,
   "metadata": {},
   "outputs": [],
   "source": [
    "from sklearn.linear_model import LinearRegression\n",
    "model = LinearRegression(fit_intercept=True,\n",
    "                        n_jobs=6)"
   ]
  },
  {
   "cell_type": "code",
   "execution_count": 2031,
   "metadata": {},
   "outputs": [],
   "source": [
    "fit = model.fit(x_train, y_train)"
   ]
  },
  {
   "cell_type": "code",
   "execution_count": 2032,
   "metadata": {},
   "outputs": [],
   "source": [
    "preds = model.predict(x_test)"
   ]
  },
  {
   "cell_type": "code",
   "execution_count": 2033,
   "metadata": {},
   "outputs": [
    {
     "data": {
      "text/plain": [
       "Text(0, 0.5, 'Predictions')"
      ]
     },
     "execution_count": 2033,
     "metadata": {},
     "output_type": "execute_result"
    },
    {
     "data": {
      "image/png": "[encoded data removed]",
      "text/plain": [
       "<Figure size 432x288 with 1 Axes>"
      ]
     },
     "metadata": {
      "needs_background": "light"
     },
     "output_type": "display_data"
    }
   ],
   "source": [
    "plt.scatter(y_test, preds)\n",
    "plt.xlabel(\"True Values\")\n",
    "plt.ylabel(\"Predictions\")"
   ]
  },
  {
   "cell_type": "markdown",
   "metadata": {},
   "source": [
    "**Check and plot residuals:**"
   ]
  },
  {
   "cell_type": "code",
   "execution_count": 2034,
   "metadata": {},
   "outputs": [
    {
     "data": {
      "text/plain": [
       "Text(0, 0.5, 'Residuals')"
      ]
     },
     "execution_count": 2034,
     "metadata": {},
     "output_type": "execute_result"
    },
    {
     "data": {
      "image/png": "[encoded data removed]",
      "text/plain": [
       "<Figure size 432x288 with 1 Axes>"
      ]
     },
     "metadata": {
      "needs_background": "light"
     },
     "output_type": "display_data"
    }
   ],
   "source": [
    "residuals = y_test - preds\n",
    "plt.scatter(model.predict(x_test), residuals,\n",
    "            c='b', s=40, alpha=0.5) \n",
    "plt.title(\"Residuals Plot\")\n",
    "plt.xlabel(\"Testing Data\")\n",
    "plt.ylabel(\"Residuals\")"
   ]
  },
  {
   "cell_type": "markdown",
   "metadata": {},
   "source": [
    "## Conclusion \n",
    "In this final section, you should draw conclusions based on your analysis. Each of your conclusion should be supported with visualizations and pvalues and any other appropriate measurments for your dataset. "
   ]
  },
  {
   "cell_type": "markdown",
   "metadata": {},
   "source": [
    "Based on **categorical encoding**, the cities that have Overall Score range from 30 to 40 is in the lowest scored category, while the cities with overall score from 60 to 70 is the highest scored cateogry. Among the lowest scored cities, \"Industry\" is the lowest scored indicator, which means the cities with the lowest score lack of Industrial development. On the other hands, among the highest scored cities, \"Poverty\" is the highest scored indicator. This shows that the cities with high overall score has less likely have poverty issue.  "
   ]
  },
  {
   "cell_type": "markdown",
   "metadata": {},
   "source": [
    "According to **normalization**, most of 16 indicators has standardized distribution except for \"Life on Land\" and \"Climate Action\". The density plot was flunctuated at certain point, which is because the envorinmental development is less likely controllable. However, by standardizing the data by setting differenct scaling, the data is consistent. "
   ]
  },
  {
   "cell_type": "markdown",
   "metadata": {},
   "source": [
    "In reference to **Correlation** visualization, the top ranked cities indicates high score on \"Health\". The heatmap shows red color, and the correlation test rate is -0.81428. The second indicator is \"Industry\" (-0.703947), and third is \"Justice\"(-0.614305). In other words, the top ranked cities has highest score on three indicators--health, industry, and justice. This also shows the significant values that top ranked cities share. "
   ]
  },
  {
   "cell_type": "markdown",
   "metadata": {},
   "source": [
    "**Linear Regression** model shows that the data is correlated and solid because the rank and indicators are linear. For example, y-axis is set as \"Rank\" while, x-axis is set with 16 indicators. The linear regression model with scatter plot shows simple linear regression as a result.   "
   ]
  }
 ],
 "metadata": {
  "kernelspec": {
   "display_name": "Python 3",
   "language": "python",
   "name": "python3"
  },
  "language_info": {
   "codemirror_mode": {
    "name": "ipython",
    "version": 3
   },
   "file_extension": ".py",
   "mimetype": "text/x-python",
   "name": "python",
   "nbconvert_exporter": "python",
   "pygments_lexer": "ipython3",
   "version": "3.7.3"
  }
 },
 "nbformat": 4,
 "nbformat_minor": 2
}
